{
 "cells": [
  {
   "cell_type": "markdown",
   "id": "5fbfcbeb",
   "metadata": {},
   "source": [
    "# Problem Statement"
   ]
  },
  {
   "cell_type": "markdown",
   "id": "7ce8f57b",
   "metadata": {},
   "source": [
    "We have a client who has a website where people write different reviews for technical products.\n",
    "Now they are adding a new feature to their website i.e. The reviewer will have to add stars(rating)\n",
    "as well with the review. The rating is out 5 stars and it only has 5 options available 1 star, 2 stars,\n",
    "3 stars, 4 stars, 5 stars. Now they want to predict ratings for the reviews which were written in the\n",
    "past and they don’t have a rating. So, we have to build an application which can predict the rating\n",
    "by seeing the review."
   ]
  },
  {
   "cell_type": "markdown",
   "id": "2fcf2200",
   "metadata": {},
   "source": [
    "# Data Collection Phase"
   ]
  },
  {
   "cell_type": "markdown",
   "id": "495ecfa0",
   "metadata": {},
   "source": [
    "You have to scrape at least 20000 rows of data. You can scrape more data as well, it’s up to you.\n",
    "more the data better the model\n",
    "In this section you need to scrape the reviews of different laptops, Phones, Headphones, smart\n",
    "watches, Professional Cameras, Printers, Monitors, Home theater, Router from different ecommerce\n",
    "websites.\n",
    "Basically, we need these columns-\n",
    "1) reviews of the product.\n",
    "2) rating of the product.\n",
    "You can fetch other data as well, if you think data can be useful or can help in the project. It\n",
    "completely depends on your imagination or assumption"
   ]
  },
  {
   "cell_type": "code",
   "execution_count": 1,
   "id": "11a4dda2",
   "metadata": {},
   "outputs": [],
   "source": [
    "import pandas as pd\n",
    "import numpy as np\n",
    "import seaborn as sns\n",
    "import matplotlib.pyplot as plt\n",
    "import warnings\n",
    "warnings.filterwarnings('ignore')"
   ]
  },
  {
   "cell_type": "code",
   "execution_count": 2,
   "id": "194f0ca4",
   "metadata": {},
   "outputs": [],
   "source": [
    "pd.set_option('display.max_columns',None)"
   ]
  },
  {
   "cell_type": "code",
   "execution_count": 3,
   "id": "72fb051f",
   "metadata": {},
   "outputs": [
    {
     "data": {
      "text/html": [
       "<div>\n",
       "<style scoped>\n",
       "    .dataframe tbody tr th:only-of-type {\n",
       "        vertical-align: middle;\n",
       "    }\n",
       "\n",
       "    .dataframe tbody tr th {\n",
       "        vertical-align: top;\n",
       "    }\n",
       "\n",
       "    .dataframe thead th {\n",
       "        text-align: right;\n",
       "    }\n",
       "</style>\n",
       "<table border=\"1\" class=\"dataframe\">\n",
       "  <thead>\n",
       "    <tr style=\"text-align: right;\">\n",
       "      <th></th>\n",
       "      <th>review</th>\n",
       "      <th>rating</th>\n",
       "    </tr>\n",
       "  </thead>\n",
       "  <tbody>\n",
       "    <tr>\n",
       "      <th>0</th>\n",
       "      <td>I bought this the day it launched. The very mo...</td>\n",
       "      <td>5</td>\n",
       "    </tr>\n",
       "    <tr>\n",
       "      <th>1</th>\n",
       "      <td>1) When touch to ear while speaking, sensor ma...</td>\n",
       "      <td>4</td>\n",
       "    </tr>\n",
       "    <tr>\n",
       "      <th>2</th>\n",
       "      <td>this product is good, its fingerprint sensor i...</td>\n",
       "      <td>4</td>\n",
       "    </tr>\n",
       "    <tr>\n",
       "      <th>3</th>\n",
       "      <td>I am writing this review after 10 days.1.CAMER...</td>\n",
       "      <td>5</td>\n",
       "    </tr>\n",
       "    <tr>\n",
       "      <th>4</th>\n",
       "      <td>This is the best thing you can get in this pri...</td>\n",
       "      <td>5</td>\n",
       "    </tr>\n",
       "  </tbody>\n",
       "</table>\n",
       "</div>"
      ],
      "text/plain": [
       "                                              review  rating\n",
       "0  I bought this the day it launched. The very mo...       5\n",
       "1  1) When touch to ear while speaking, sensor ma...       4\n",
       "2  this product is good, its fingerprint sensor i...       4\n",
       "3  I am writing this review after 10 days.1.CAMER...       5\n",
       "4  This is the best thing you can get in this pri...       5"
      ]
     },
     "execution_count": 3,
     "metadata": {},
     "output_type": "execute_result"
    }
   ],
   "source": [
    "#read excel file first\n",
    "ratings=pd.read_csv(r\"C:\\Users\\win8\\Desktop\\ratings2.csv\")\n",
    "ratings.head()"
   ]
  },
  {
   "cell_type": "code",
   "execution_count": 4,
   "id": "c797dbd7",
   "metadata": {},
   "outputs": [
    {
     "data": {
      "text/plain": [
       "(33758, 2)"
      ]
     },
     "execution_count": 4,
     "metadata": {},
     "output_type": "execute_result"
    }
   ],
   "source": [
    "ratings.shape"
   ]
  },
  {
   "cell_type": "code",
   "execution_count": 5,
   "id": "245ba5e5",
   "metadata": {},
   "outputs": [
    {
     "name": "stdout",
     "output_type": "stream",
     "text": [
      "<class 'pandas.core.frame.DataFrame'>\n",
      "RangeIndex: 33758 entries, 0 to 33757\n",
      "Data columns (total 2 columns):\n",
      " #   Column  Non-Null Count  Dtype \n",
      "---  ------  --------------  ----- \n",
      " 0   review  33758 non-null  object\n",
      " 1   rating  33758 non-null  int64 \n",
      "dtypes: int64(1), object(1)\n",
      "memory usage: 527.6+ KB\n"
     ]
    }
   ],
   "source": [
    "ratings.info()"
   ]
  },
  {
   "cell_type": "code",
   "execution_count": 6,
   "id": "110c6ae0",
   "metadata": {},
   "outputs": [
    {
     "data": {
      "text/plain": [
       "review    0\n",
       "rating    0\n",
       "dtype: int64"
      ]
     },
     "execution_count": 6,
     "metadata": {},
     "output_type": "execute_result"
    }
   ],
   "source": [
    "ratings.isnull().sum()"
   ]
  },
  {
   "cell_type": "code",
   "execution_count": 7,
   "id": "d508165c",
   "metadata": {},
   "outputs": [
    {
     "data": {
      "text/html": [
       "<div>\n",
       "<style scoped>\n",
       "    .dataframe tbody tr th:only-of-type {\n",
       "        vertical-align: middle;\n",
       "    }\n",
       "\n",
       "    .dataframe tbody tr th {\n",
       "        vertical-align: top;\n",
       "    }\n",
       "\n",
       "    .dataframe thead th {\n",
       "        text-align: right;\n",
       "    }\n",
       "</style>\n",
       "<table border=\"1\" class=\"dataframe\">\n",
       "  <thead>\n",
       "    <tr style=\"text-align: right;\">\n",
       "      <th></th>\n",
       "      <th>rating</th>\n",
       "    </tr>\n",
       "  </thead>\n",
       "  <tbody>\n",
       "    <tr>\n",
       "      <th>count</th>\n",
       "      <td>33758.000000</td>\n",
       "    </tr>\n",
       "    <tr>\n",
       "      <th>mean</th>\n",
       "      <td>4.421944</td>\n",
       "    </tr>\n",
       "    <tr>\n",
       "      <th>std</th>\n",
       "      <td>1.022510</td>\n",
       "    </tr>\n",
       "    <tr>\n",
       "      <th>min</th>\n",
       "      <td>1.000000</td>\n",
       "    </tr>\n",
       "    <tr>\n",
       "      <th>25%</th>\n",
       "      <td>4.000000</td>\n",
       "    </tr>\n",
       "    <tr>\n",
       "      <th>50%</th>\n",
       "      <td>5.000000</td>\n",
       "    </tr>\n",
       "    <tr>\n",
       "      <th>75%</th>\n",
       "      <td>5.000000</td>\n",
       "    </tr>\n",
       "    <tr>\n",
       "      <th>max</th>\n",
       "      <td>5.000000</td>\n",
       "    </tr>\n",
       "  </tbody>\n",
       "</table>\n",
       "</div>"
      ],
      "text/plain": [
       "             rating\n",
       "count  33758.000000\n",
       "mean       4.421944\n",
       "std        1.022510\n",
       "min        1.000000\n",
       "25%        4.000000\n",
       "50%        5.000000\n",
       "75%        5.000000\n",
       "max        5.000000"
      ]
     },
     "execution_count": 7,
     "metadata": {},
     "output_type": "execute_result"
    }
   ],
   "source": [
    "ratings.describe()"
   ]
  },
  {
   "cell_type": "markdown",
   "id": "2814d2b4",
   "metadata": {},
   "source": [
    "# This problem belongs Natural Language Processing, so we have to import its libraries\n"
   ]
  },
  {
   "cell_type": "code",
   "execution_count": 8,
   "id": "f9d9c067",
   "metadata": {},
   "outputs": [],
   "source": [
    "import nltk\n",
    "from nltk.corpus import stopwords\n",
    "from nltk.stem import WordNetLemmatizer\n",
    "from nltk.tokenize import sent_tokenize,word_tokenize\n",
    "import string\n",
    "import re"
   ]
  },
  {
   "cell_type": "markdown",
   "id": "bc6d405b",
   "metadata": {},
   "source": [
    "# Univariate Analysis"
   ]
  },
  {
   "cell_type": "code",
   "execution_count": 9,
   "id": "bd4c4145",
   "metadata": {},
   "outputs": [
    {
     "data": {
      "text/plain": [
       "5    22394\n",
       "4     7036\n",
       "3     2064\n",
       "1     1558\n",
       "2      706\n",
       "Name: rating, dtype: int64"
      ]
     },
     "execution_count": 9,
     "metadata": {},
     "output_type": "execute_result"
    }
   ],
   "source": [
    "ratings['rating'].value_counts()"
   ]
  },
  {
   "cell_type": "code",
   "execution_count": 10,
   "id": "d230aabe",
   "metadata": {},
   "outputs": [
    {
     "data": {
      "text/plain": [
       "<AxesSubplot:xlabel='rating', ylabel='count'>"
      ]
     },
     "execution_count": 10,
     "metadata": {},
     "output_type": "execute_result"
    },
    {
     "data": {
      "image/png": "[encoded data removed]",
      "text/plain": [
       "<Figure size 432x288 with 1 Axes>"
      ]
     },
     "metadata": {
      "needs_background": "light"
     },
     "output_type": "display_data"
    }
   ],
   "source": [
    "sns.countplot(ratings['rating'])"
   ]
  },
  {
   "cell_type": "code",
   "execution_count": 11,
   "id": "36dc4ff2",
   "metadata": {},
   "outputs": [
    {
     "data": {
      "image/png": "[encoded data removed]",
      "text/plain": [
       "<Figure size 1080x720 with 1 Axes>"
      ]
     },
     "metadata": {},
     "output_type": "display_data"
    }
   ],
   "source": [
    "plt.figure(figsize=(15,10))\n",
    "ratings.groupby('rating').size().plot(kind='pie', autopct='%.2f',fontsize=15)\n",
    "plt.title('rating',fontsize=25)\n",
    "plt.show()"
   ]
  },
  {
   "cell_type": "code",
   "execution_count": 12,
   "id": "6f4e3488",
   "metadata": {},
   "outputs": [
    {
     "data": {
      "text/plain": [
       "<AxesSubplot:>"
      ]
     },
     "execution_count": 12,
     "metadata": {},
     "output_type": "execute_result"
    },
    {
     "data": {
      "image/png": "[encoded data removed]",
      "text/plain": [
       "<Figure size 432x288 with 2 Axes>"
      ]
     },
     "metadata": {
      "needs_background": "light"
     },
     "output_type": "display_data"
    }
   ],
   "source": [
    "## checking correlation in dataset\n",
    "ratings.corr()\n",
    "sns.heatmap(ratings.corr())"
   ]
  },
  {
   "cell_type": "code",
   "execution_count": 13,
   "id": "3a05d8d4",
   "metadata": {},
   "outputs": [
    {
     "data": {
      "text/html": [
       "<div>\n",
       "<style scoped>\n",
       "    .dataframe tbody tr th:only-of-type {\n",
       "        vertical-align: middle;\n",
       "    }\n",
       "\n",
       "    .dataframe tbody tr th {\n",
       "        vertical-align: top;\n",
       "    }\n",
       "\n",
       "    .dataframe thead th {\n",
       "        text-align: right;\n",
       "    }\n",
       "</style>\n",
       "<table border=\"1\" class=\"dataframe\">\n",
       "  <thead>\n",
       "    <tr style=\"text-align: right;\">\n",
       "      <th></th>\n",
       "      <th>review</th>\n",
       "      <th>rating</th>\n",
       "      <th>length</th>\n",
       "    </tr>\n",
       "  </thead>\n",
       "  <tbody>\n",
       "    <tr>\n",
       "      <th>0</th>\n",
       "      <td>I bought this the day it launched. The very mo...</td>\n",
       "      <td>5</td>\n",
       "      <td>2874</td>\n",
       "    </tr>\n",
       "    <tr>\n",
       "      <th>1</th>\n",
       "      <td>1) When touch to ear while speaking, sensor ma...</td>\n",
       "      <td>4</td>\n",
       "      <td>607</td>\n",
       "    </tr>\n",
       "    <tr>\n",
       "      <th>2</th>\n",
       "      <td>this product is good, its fingerprint sensor i...</td>\n",
       "      <td>4</td>\n",
       "      <td>685</td>\n",
       "    </tr>\n",
       "    <tr>\n",
       "      <th>3</th>\n",
       "      <td>I am writing this review after 10 days.1.CAMER...</td>\n",
       "      <td>5</td>\n",
       "      <td>1365</td>\n",
       "    </tr>\n",
       "    <tr>\n",
       "      <th>4</th>\n",
       "      <td>This is the best thing you can get in this pri...</td>\n",
       "      <td>5</td>\n",
       "      <td>558</td>\n",
       "    </tr>\n",
       "    <tr>\n",
       "      <th>...</th>\n",
       "      <td>...</td>\n",
       "      <td>...</td>\n",
       "      <td>...</td>\n",
       "    </tr>\n",
       "    <tr>\n",
       "      <th>33753</th>\n",
       "      <td>Excellent band never I have saw tq flip kart b...</td>\n",
       "      <td>4</td>\n",
       "      <td>98</td>\n",
       "    </tr>\n",
       "    <tr>\n",
       "      <th>33754</th>\n",
       "      <td>NiceREAD MORE</td>\n",
       "      <td>5</td>\n",
       "      <td>13</td>\n",
       "    </tr>\n",
       "    <tr>\n",
       "      <th>33755</th>\n",
       "      <td>It was really awesom the battery is really lit...</td>\n",
       "      <td>5</td>\n",
       "      <td>55</td>\n",
       "    </tr>\n",
       "    <tr>\n",
       "      <th>33756</th>\n",
       "      <td>Product is good super working but charging is ...</td>\n",
       "      <td>3</td>\n",
       "      <td>73</td>\n",
       "    </tr>\n",
       "    <tr>\n",
       "      <th>33757</th>\n",
       "      <td>Awesome watchREAD MORE</td>\n",
       "      <td>5</td>\n",
       "      <td>22</td>\n",
       "    </tr>\n",
       "  </tbody>\n",
       "</table>\n",
       "<p>33758 rows × 3 columns</p>\n",
       "</div>"
      ],
      "text/plain": [
       "                                                  review  rating  length\n",
       "0      I bought this the day it launched. The very mo...       5    2874\n",
       "1      1) When touch to ear while speaking, sensor ma...       4     607\n",
       "2      this product is good, its fingerprint sensor i...       4     685\n",
       "3      I am writing this review after 10 days.1.CAMER...       5    1365\n",
       "4      This is the best thing you can get in this pri...       5     558\n",
       "...                                                  ...     ...     ...\n",
       "33753  Excellent band never I have saw tq flip kart b...       4      98\n",
       "33754                                      NiceREAD MORE       5      13\n",
       "33755  It was really awesom the battery is really lit...       5      55\n",
       "33756  Product is good super working but charging is ...       3      73\n",
       "33757                             Awesome watchREAD MORE       5      22\n",
       "\n",
       "[33758 rows x 3 columns]"
      ]
     },
     "execution_count": 13,
     "metadata": {},
     "output_type": "execute_result"
    }
   ],
   "source": [
    "ratings['length'] = ratings['review'].str.len()\n",
    "ratings"
   ]
  },
  {
   "cell_type": "code",
   "execution_count": 14,
   "id": "79c51eb3",
   "metadata": {},
   "outputs": [],
   "source": [
    "# Convert all messages to lower case\n",
    "ratings['comment_text'] = ratings['review'].str.lower()\n",
    "\n",
    "# Replace email addresses with ''\n",
    "ratings['comment_text'] = ratings['review'].str.replace(r'^.+@[^\\.].*\\.[a-z]{2,}$','')\n",
    "\n",
    "# Replace URLs with ''\n",
    "ratings['comment_text'] = ratings['review'].str.replace(r'^http\\://[a-zA-Z0-9\\-\\.]+\\.[a-zA-Z]{2,3}(/\\S*)?$',\n",
    "                                  '')\n",
    "\n",
    "# Replace money symbols with '' \n",
    "ratings['comment_text'] = ratings['review'].str.replace(r'£|\\$', '')\n",
    "    \n",
    "# Replace 10 digit phone numbers (formats include paranthesis, spaces, no spaces, dashes) with 'p'\n",
    "ratings['comment_text'] = ratings['review'].str.replace(r'^\\(?[\\d]{3}\\)?[\\s-]?[\\d]{3}[\\s-]?[\\d]{4}$',\n",
    "                                  '')\n",
    "\n",
    "    \n",
    "# Replace numbers with 'num'\n",
    "ratings['comment_text'] = ratings['review'].str.replace(r'\\d+(\\.\\d+)?', 'num')\n",
    "\n",
    "\n",
    "ratings['comment_text'] = ratings['review'].apply(lambda x: ' '.join(\n",
    "    term for term in x.split() if term not in string.punctuation))\n",
    "\n",
    "stop_words = set(stopwords.words('english') + ['u', 'ü', 'ur', '4', '2', 'im', 'dont', 'doin', 'ure'])\n",
    "ratings['review'] = ratings['review'].apply(lambda x: ' '.join(\n",
    "    term for term in x.split() if term not in stop_words))\n",
    "\n",
    "lem=WordNetLemmatizer()\n",
    "ratings['review'] = ratings['review'].apply(lambda x: ' '.join(\n",
    " lem.lemmatize(t) for t in x.split()))"
   ]
  },
  {
   "cell_type": "code",
   "execution_count": 15,
   "id": "118bd53c",
   "metadata": {},
   "outputs": [
    {
     "data": {
      "text/html": [
       "<div>\n",
       "<style scoped>\n",
       "    .dataframe tbody tr th:only-of-type {\n",
       "        vertical-align: middle;\n",
       "    }\n",
       "\n",
       "    .dataframe tbody tr th {\n",
       "        vertical-align: top;\n",
       "    }\n",
       "\n",
       "    .dataframe thead th {\n",
       "        text-align: right;\n",
       "    }\n",
       "</style>\n",
       "<table border=\"1\" class=\"dataframe\">\n",
       "  <thead>\n",
       "    <tr style=\"text-align: right;\">\n",
       "      <th></th>\n",
       "      <th>review</th>\n",
       "      <th>rating</th>\n",
       "      <th>length</th>\n",
       "      <th>comment_text</th>\n",
       "      <th>clean_length</th>\n",
       "    </tr>\n",
       "  </thead>\n",
       "  <tbody>\n",
       "    <tr>\n",
       "      <th>0</th>\n",
       "      <td>I bought day launched. The moment available sa...</td>\n",
       "      <td>5</td>\n",
       "      <td>2874</td>\n",
       "      <td>I bought this the day it launched. The very mo...</td>\n",
       "      <td>2872</td>\n",
       "    </tr>\n",
       "    <tr>\n",
       "      <th>1</th>\n",
       "      <td>1) When touch ear speaking, sensor malfunction...</td>\n",
       "      <td>4</td>\n",
       "      <td>607</td>\n",
       "      <td>1) When touch to ear while speaking, sensor ma...</td>\n",
       "      <td>607</td>\n",
       "    </tr>\n",
       "    <tr>\n",
       "      <th>2</th>\n",
       "      <td>product good, fingerprint sensor quite good, i...</td>\n",
       "      <td>4</td>\n",
       "      <td>685</td>\n",
       "      <td>this product is good, its fingerprint sensor i...</td>\n",
       "      <td>684</td>\n",
       "    </tr>\n",
       "    <tr>\n",
       "      <th>3</th>\n",
       "      <td>I writing review 10 days.1.CAMERAI found rare ...</td>\n",
       "      <td>5</td>\n",
       "      <td>1365</td>\n",
       "      <td>I am writing this review after 10 days.1.CAMER...</td>\n",
       "      <td>1365</td>\n",
       "    </tr>\n",
       "    <tr>\n",
       "      <th>4</th>\n",
       "      <td>This best thing get price range &amp; NOT China ma...</td>\n",
       "      <td>5</td>\n",
       "      <td>558</td>\n",
       "      <td>This is the best thing you can get in this pri...</td>\n",
       "      <td>556</td>\n",
       "    </tr>\n",
       "  </tbody>\n",
       "</table>\n",
       "</div>"
      ],
      "text/plain": [
       "                                              review  rating  length  \\\n",
       "0  I bought day launched. The moment available sa...       5    2874   \n",
       "1  1) When touch ear speaking, sensor malfunction...       4     607   \n",
       "2  product good, fingerprint sensor quite good, i...       4     685   \n",
       "3  I writing review 10 days.1.CAMERAI found rare ...       5    1365   \n",
       "4  This best thing get price range & NOT China ma...       5     558   \n",
       "\n",
       "                                        comment_text  clean_length  \n",
       "0  I bought this the day it launched. The very mo...          2872  \n",
       "1  1) When touch to ear while speaking, sensor ma...           607  \n",
       "2  this product is good, its fingerprint sensor i...           684  \n",
       "3  I am writing this review after 10 days.1.CAMER...          1365  \n",
       "4  This is the best thing you can get in this pri...           556  "
      ]
     },
     "execution_count": 15,
     "metadata": {},
     "output_type": "execute_result"
    }
   ],
   "source": [
    "ratings['clean_length'] = ratings.comment_text.str.len()\n",
    "ratings.head()"
   ]
  },
  {
   "cell_type": "code",
   "execution_count": 16,
   "id": "2922844f",
   "metadata": {},
   "outputs": [
    {
     "name": "stdout",
     "output_type": "stream",
     "text": [
      "Origian Length 2467261\n",
      "Clean Length 2458443\n"
     ]
    }
   ],
   "source": [
    "\n",
    "# Total length removal\n",
    "print ('Origian Length', ratings.length.sum())\n",
    "print ('Clean Length', ratings.clean_length.sum())"
   ]
  },
  {
   "cell_type": "code",
   "execution_count": 17,
   "id": "9bd6427b",
   "metadata": {},
   "outputs": [
    {
     "data": {
      "image/png": "[encoded data removed]",
      "text/plain": [
       "<Figure size 432x288 with 1 Axes>"
      ]
     },
     "metadata": {
      "needs_background": "light"
     },
     "output_type": "display_data"
    }
   ],
   "source": [
    "# density plot and histogram of Review word count\n",
    "sns.distplot(ratings['rating'], hist = True, kde = True,\n",
    "            bins = int(180/5), color = 'y',\n",
    "            hist_kws = {'edgecolor':'black'},\n",
    "            kde_kws = {'linewidth':4})\n",
    "plt.show()"
   ]
  },
  {
   "cell_type": "code",
   "execution_count": 18,
   "id": "3b06d260",
   "metadata": {},
   "outputs": [
    {
     "data": {
      "text/plain": [
       "(32200, 5)"
      ]
     },
     "execution_count": 18,
     "metadata": {},
     "output_type": "execute_result"
    }
   ],
   "source": [
    "# Applying zscore to remove outliers\n",
    "from scipy import stats\n",
    "from scipy.stats import zscore\n",
    "z_score = zscore(ratings[['rating']])\n",
    "abs_z_score = np.abs(z_score)\n",
    "filtering_entry = (abs_z_score < 3).all(axis = 1)\n",
    "ratings = ratings[filtering_entry]\n",
    "ratings.shape"
   ]
  },
  {
   "cell_type": "code",
   "execution_count": 19,
   "id": "78070e7f",
   "metadata": {},
   "outputs": [],
   "source": [
    "# Oversample and plot imbalanced dataset with SMOTE\n",
    "from sklearn.datasets import make_classification\n",
    "from imblearn.over_sampling import SMOTE"
   ]
  },
  {
   "cell_type": "code",
   "execution_count": 20,
   "id": "3da33796",
   "metadata": {},
   "outputs": [],
   "source": [
    "\n",
    "from sklearn.naive_bayes import MultinomialNB,GaussianNB\n",
    "from sklearn.model_selection import train_test_split,cross_val_score,GridSearchCV\n",
    "from sklearn.metrics import accuracy_score, confusion_matrix, classification_report,roc_curve,roc_auc_score,auc,f1_score\n",
    "from sklearn.linear_model import LogisticRegression\n",
    "from sklearn.tree import DecisionTreeClassifier\n",
    "from sklearn.neighbors import KNeighborsClassifier\n",
    "from sklearn.ensemble import RandomForestClassifier,AdaBoostClassifier,GradientBoostingClassifier\n",
    "from sklearn.svm import SVC"
   ]
  },
  {
   "cell_type": "code",
   "execution_count": 21,
   "id": "963b6ae0",
   "metadata": {},
   "outputs": [
    {
     "data": {
      "text/plain": [
       "(32200, 5)"
      ]
     },
     "execution_count": 21,
     "metadata": {},
     "output_type": "execute_result"
    }
   ],
   "source": [
    "ratings.shape"
   ]
  },
  {
   "cell_type": "code",
   "execution_count": 22,
   "id": "21f9eaa5",
   "metadata": {},
   "outputs": [],
   "source": [
    "#  Convert text into vectors using TF-IDF\n",
    "from sklearn.feature_extraction.text import TfidfVectorizer\n",
    "tf_vec = TfidfVectorizer(max_features = 10000, stop_words='english')\n",
    "features = tf_vec.fit_transform(ratings['review'])\n",
    "x = features"
   ]
  },
  {
   "cell_type": "code",
   "execution_count": 23,
   "id": "7282913d",
   "metadata": {},
   "outputs": [],
   "source": [
    "y=ratings['rating']\n",
    "x_train,x_test,y_train,y_test=train_test_split(x,y,random_state=56,test_size=.30)"
   ]
  },
  {
   "cell_type": "code",
   "execution_count": 24,
   "id": "8b7bc148",
   "metadata": {},
   "outputs": [
    {
     "name": "stdout",
     "output_type": "stream",
     "text": [
      "The number of classes before fitCounter({5: 15592, 4: 5002, 3: 1453, 2: 493})\n"
     ]
    }
   ],
   "source": [
    "#Checking the number of classes before fit\n",
    "from collections import Counter\n",
    "print(\"The number of classes before fit{}\".format(Counter(y_train)))"
   ]
  },
  {
   "cell_type": "code",
   "execution_count": 25,
   "id": "167bd604",
   "metadata": {},
   "outputs": [],
   "source": [
    "os=SMOTE(sampling_strategy = {2: 493, 3: 1453, 4: 5002, 5: 15592})\n",
    "x_train_ns,y_train_ns=os.fit_resample(x_train,y_train)"
   ]
  },
  {
   "cell_type": "code",
   "execution_count": 26,
   "id": "a6c717b9",
   "metadata": {},
   "outputs": [
    {
     "data": {
      "text/plain": [
       "((22540,), (9660,))"
      ]
     },
     "execution_count": 26,
     "metadata": {},
     "output_type": "execute_result"
    }
   ],
   "source": [
    "\n",
    "y_train.shape,y_test.shape"
   ]
  },
  {
   "cell_type": "code",
   "execution_count": 27,
   "id": "f7005568",
   "metadata": {},
   "outputs": [
    {
     "name": "stdout",
     "output_type": "stream",
     "text": [
      "Training accuracy is 0.7431233362910381\n",
      "Test accuracy is 0.7179089026915114\n",
      "[[  11   34   41  127]\n",
      " [   7   66   83  455]\n",
      " [   2   42  228 1762]\n",
      " [   0   23  149 6630]]\n",
      "              precision    recall  f1-score   support\n",
      "\n",
      "           2       0.55      0.05      0.09       213\n",
      "           3       0.40      0.11      0.17       611\n",
      "           4       0.46      0.11      0.18      2034\n",
      "           5       0.74      0.97      0.84      6802\n",
      "\n",
      "    accuracy                           0.72      9660\n",
      "   macro avg       0.54      0.31      0.32      9660\n",
      "weighted avg       0.65      0.72      0.64      9660\n",
      "\n"
     ]
    }
   ],
   "source": [
    "# LogisticRegression\n",
    "LG = LogisticRegression(C=1, max_iter = 3000)\n",
    "\n",
    "LG.fit(x_train, y_train)\n",
    "\n",
    "y_pred_train = LG.predict(x_train)\n",
    "print('Training accuracy is {}'.format(accuracy_score(y_train, y_pred_train)))\n",
    "y_pred_test = LG.predict(x_test)\n",
    "print('Test accuracy is {}'.format(accuracy_score(y_test,y_pred_test)))\n",
    "print(confusion_matrix(y_test,y_pred_test))\n",
    "print(classification_report(y_test,y_pred_test))"
   ]
  },
  {
   "cell_type": "code",
   "execution_count": 28,
   "id": "ea196af2",
   "metadata": {},
   "outputs": [
    {
     "name": "stdout",
     "output_type": "stream",
     "text": [
      "Training accuracy is 0.889751552795031\n",
      "Test accuracy is 0.715631469979296\n",
      "[[  61   38   48   66]\n",
      " [  26  189   94  302]\n",
      " [  20   90  602 1322]\n",
      " [  37  127  577 6061]]\n",
      "              precision    recall  f1-score   support\n",
      "\n",
      "           2       0.42      0.29      0.34       213\n",
      "           3       0.43      0.31      0.36       611\n",
      "           4       0.46      0.30      0.36      2034\n",
      "           5       0.78      0.89      0.83      6802\n",
      "\n",
      "    accuracy                           0.72      9660\n",
      "   macro avg       0.52      0.45      0.47      9660\n",
      "weighted avg       0.68      0.72      0.69      9660\n",
      "\n"
     ]
    }
   ],
   "source": [
    "# DecisionTreeClassifier\n",
    "DT = DecisionTreeClassifier()\n",
    "\n",
    "DT.fit(x_train, y_train)\n",
    "y_pred_train = DT.predict(x_train)\n",
    "print('Training accuracy is {}'.format(accuracy_score(y_train, y_pred_train)))\n",
    "y_pred_test = DT.predict(x_test)\n",
    "print('Test accuracy is {}'.format(accuracy_score(y_test,y_pred_test)))\n",
    "print(confusion_matrix(y_test,y_pred_test))\n",
    "print(classification_report(y_test,y_pred_test))"
   ]
  },
  {
   "cell_type": "code",
   "execution_count": 29,
   "id": "625fee51",
   "metadata": {},
   "outputs": [
    {
     "name": "stdout",
     "output_type": "stream",
     "text": [
      "Training accuracy is 0.889751552795031\n",
      "Test accuracy is 0.7538302277432712\n",
      "[[  56   21   27  109]\n",
      " [   9  174   48  380]\n",
      " [   7   22  434 1571]\n",
      " [   6   27  151 6618]]\n",
      "              precision    recall  f1-score   support\n",
      "\n",
      "           2       0.72      0.26      0.38       213\n",
      "           3       0.71      0.28      0.41       611\n",
      "           4       0.66      0.21      0.32      2034\n",
      "           5       0.76      0.97      0.86      6802\n",
      "\n",
      "    accuracy                           0.75      9660\n",
      "   macro avg       0.71      0.43      0.49      9660\n",
      "weighted avg       0.74      0.75      0.70      9660\n",
      "\n"
     ]
    }
   ],
   "source": [
    "#RandomForestClassifier\n",
    "RF = RandomForestClassifier()\n",
    "\n",
    "RF.fit(x_train, y_train)\n",
    "y_pred_train = RF.predict(x_train)\n",
    "print('Training accuracy is {}'.format(accuracy_score(y_train, y_pred_train)))\n",
    "y_pred_test = RF.predict(x_test)\n",
    "print('Test accuracy is {}'.format(accuracy_score(y_test,y_pred_test)))\n",
    "print(confusion_matrix(y_test,y_pred_test))\n",
    "print(classification_report(y_test,y_pred_test))"
   ]
  },
  {
   "cell_type": "code",
   "execution_count": 30,
   "id": "46970e90",
   "metadata": {},
   "outputs": [
    {
     "name": "stdout",
     "output_type": "stream",
     "text": [
      "Training accuracy is 0.6982253771073647\n",
      "Test accuracy is 0.7053830227743271\n",
      "[[  18   52    4  139]\n",
      " [  16   63   34  498]\n",
      " [  20   57   73 1884]\n",
      " [  22   34   86 6660]]\n",
      "              precision    recall  f1-score   support\n",
      "\n",
      "           2       0.24      0.08      0.12       213\n",
      "           3       0.31      0.10      0.15       611\n",
      "           4       0.37      0.04      0.07      2034\n",
      "           5       0.73      0.98      0.83      6802\n",
      "\n",
      "    accuracy                           0.71      9660\n",
      "   macro avg       0.41      0.30      0.29      9660\n",
      "weighted avg       0.61      0.71      0.61      9660\n",
      "\n"
     ]
    }
   ],
   "source": [
    "#AdaBoostClassifier\n",
    "ada=AdaBoostClassifier(n_estimators=100)\n",
    "ada.fit(x_train, y_train)\n",
    "y_pred_train = ada.predict(x_train)\n",
    "print('Training accuracy is {}'.format(accuracy_score(y_train, y_pred_train)))\n",
    "y_pred_test = ada.predict(x_test)\n",
    "print('Test accuracy is {}'.format(accuracy_score(y_test,y_pred_test)))\n",
    "print(confusion_matrix(y_test,y_pred_test))\n",
    "print(classification_report(y_test,y_pred_test))"
   ]
  },
  {
   "cell_type": "code",
   "execution_count": 31,
   "id": "98211be1",
   "metadata": {},
   "outputs": [
    {
     "name": "stdout",
     "output_type": "stream",
     "text": [
      "Training accuracy is 0.7106921029281278\n",
      "Test accuracy is 0.6935817805383023\n",
      "[[  17   17   14  165]\n",
      " [  38   45   42  486]\n",
      " [  27   39  113 1855]\n",
      " [  40   36  201 6525]]\n",
      "              precision    recall  f1-score   support\n",
      "\n",
      "           2       0.14      0.08      0.10       213\n",
      "           3       0.33      0.07      0.12       611\n",
      "           4       0.31      0.06      0.09      2034\n",
      "           5       0.72      0.96      0.82      6802\n",
      "\n",
      "    accuracy                           0.69      9660\n",
      "   macro avg       0.37      0.29      0.29      9660\n",
      "weighted avg       0.60      0.69      0.61      9660\n",
      "\n"
     ]
    }
   ],
   "source": [
    "#KNeighborsClassifier\n",
    "knn=KNeighborsClassifier(n_neighbors=9)\n",
    "knn.fit(x_train, y_train)\n",
    "y_pred_train = knn.predict(x_train)\n",
    "print('Training accuracy is {}'.format(accuracy_score(y_train, y_pred_train)))\n",
    "y_pred_test = knn.predict(x_test)\n",
    "print('Test accuracy is {}'.format(accuracy_score(y_test,y_pred_test)))\n",
    "print(confusion_matrix(y_test,y_pred_test))\n",
    "print(classification_report(y_test,y_pred_test))"
   ]
  },
  {
   "cell_type": "markdown",
   "id": "761a02fb",
   "metadata": {},
   "source": [
    "# Cross Validation Score"
   ]
  },
  {
   "cell_type": "code",
   "execution_count": 32,
   "id": "1d3e435f",
   "metadata": {},
   "outputs": [
    {
     "name": "stdout",
     "output_type": "stream",
     "text": [
      "******************************LogisticRegression******************************\n",
      "Cross validation score : 68.87893998677743\n",
      "******************************DecisionTreeClassifier******************************\n",
      "Cross validation score : 63.257813187117584\n",
      "******************************RandomForestClassifier******************************\n",
      "Cross validation score : 68.05593942639399\n",
      "******************************AdaBoostClassifier******************************\n",
      "Cross validation score : 68.56215909455796\n",
      "******************************KNeighborsClassifier******************************\n",
      "Cross validation score : 66.06221454497904\n"
     ]
    }
   ],
   "source": [
    "# Defning function cross_val to find cv score of models\n",
    "def cross_val(model):\n",
    "    print('*'*30+model.__class__.__name__+'*'*30)\n",
    "    scores = cross_val_score(model,x,y, cv = 3).mean()*100\n",
    "    print(\"Cross validation score :\", scores)\n",
    "for model in [LG,DT,RF,ada,knn]:\n",
    "    cross_val(model)"
   ]
  },
  {
   "cell_type": "markdown",
   "id": "79101231",
   "metadata": {},
   "source": [
    "# Hyperparameter Tuning"
   ]
  },
  {
   "cell_type": "code",
   "execution_count": 33,
   "id": "170b7145",
   "metadata": {},
   "outputs": [],
   "source": [
    "from sklearn.model_selection import GridSearchCV"
   ]
  },
  {
   "cell_type": "code",
   "execution_count": 34,
   "id": "2afe4fc9",
   "metadata": {},
   "outputs": [],
   "source": [
    "params={'n_estimators':[10,12,13],\n",
    "       'max_depth':[10,15],\n",
    "       'min_samples_leaf':[5,6],\n",
    "       }"
   ]
  },
  {
   "cell_type": "code",
   "execution_count": 35,
   "id": "9fa73d1e",
   "metadata": {},
   "outputs": [
    {
     "data": {
      "text/plain": [
       "{'max_depth': 10, 'min_samples_leaf': 5, 'n_estimators': 10}"
      ]
     },
     "execution_count": 35,
     "metadata": {},
     "output_type": "execute_result"
    }
   ],
   "source": [
    "Grid_RF=GridSearchCV(RF,param_grid=params,cv=5)\n",
    "Grid_RF.fit(x_train,y_train)\n",
    "Grid_RF.best_params_"
   ]
  },
  {
   "cell_type": "code",
   "execution_count": 36,
   "id": "bd32c617",
   "metadata": {},
   "outputs": [
    {
     "name": "stdout",
     "output_type": "stream",
     "text": [
      "70.41407867494824\n"
     ]
    }
   ],
   "source": [
    "Final_RF=RandomForestClassifier(max_depth=10,min_samples_leaf= 5,n_estimators=10)\n",
    "Final_RF.fit(x_train,y_train)\n",
    "final_pred=Final_RF.predict(x_test)\n",
    "final_score=accuracy_score(y_test,final_pred)\n",
    "print(final_score*100)"
   ]
  },
  {
   "cell_type": "code",
   "execution_count": 37,
   "id": "3bdd6302",
   "metadata": {},
   "outputs": [
    {
     "data": {
      "text/html": [
       "\n",
       "    <style>\n",
       "    table.eli5-weights tr:hover {\n",
       "        filter: brightness(85%);\n",
       "    }\n",
       "</style>\n",
       "\n",
       "\n",
       "\n",
       "    \n",
       "\n",
       "    \n",
       "\n",
       "    \n",
       "\n",
       "    \n",
       "\n",
       "    \n",
       "\n",
       "    \n",
       "\n",
       "\n",
       "    \n",
       "\n",
       "    \n",
       "\n",
       "    \n",
       "\n",
       "    \n",
       "\n",
       "    \n",
       "\n",
       "    \n",
       "\n",
       "\n",
       "    \n",
       "\n",
       "    \n",
       "\n",
       "    \n",
       "\n",
       "    \n",
       "\n",
       "    \n",
       "        <table class=\"eli5-weights eli5-feature-importances\" style=\"border-collapse: collapse; border: none; margin-top: 0em; table-layout: auto;\">\n",
       "    <thead>\n",
       "    <tr style=\"border: none;\">\n",
       "        <th style=\"padding: 0 1em 0 0.5em; text-align: right; border: none;\">Weight</th>\n",
       "        <th style=\"padding: 0 0.5em 0 0.5em; text-align: left; border: none;\">Feature</th>\n",
       "    </tr>\n",
       "    </thead>\n",
       "    <tbody>\n",
       "    \n",
       "        <tr style=\"background-color: hsl(120, 100.00%, 80.00%); border: none;\">\n",
       "            <td style=\"padding: 0 1em 0 0.5em; text-align: right; border: none;\">\n",
       "                0.0243\n",
       "                \n",
       "                    &plusmn; 0.0062\n",
       "                \n",
       "            </td>\n",
       "            <td style=\"padding: 0 0.5em 0 0.5em; text-align: left; border: none;\">\n",
       "                good\n",
       "            </td>\n",
       "        </tr>\n",
       "    \n",
       "        <tr style=\"background-color: hsl(120, 100.00%, 82.15%); border: none;\">\n",
       "            <td style=\"padding: 0 1em 0 0.5em; text-align: right; border: none;\">\n",
       "                0.0206\n",
       "                \n",
       "                    &plusmn; 0.0056\n",
       "                \n",
       "            </td>\n",
       "            <td style=\"padding: 0 0.5em 0 0.5em; text-align: left; border: none;\">\n",
       "                read\n",
       "            </td>\n",
       "        </tr>\n",
       "    \n",
       "        <tr style=\"background-color: hsl(120, 100.00%, 87.17%); border: none;\">\n",
       "            <td style=\"padding: 0 1em 0 0.5em; text-align: right; border: none;\">\n",
       "                0.0129\n",
       "                \n",
       "                    &plusmn; 0.0038\n",
       "                \n",
       "            </td>\n",
       "            <td style=\"padding: 0 0.5em 0 0.5em; text-align: left; border: none;\">\n",
       "                product\n",
       "            </td>\n",
       "        </tr>\n",
       "    \n",
       "        <tr style=\"background-color: hsl(120, 100.00%, 88.14%); border: none;\">\n",
       "            <td style=\"padding: 0 1em 0 0.5em; text-align: right; border: none;\">\n",
       "                0.0115\n",
       "                \n",
       "                    &plusmn; 0.0040\n",
       "                \n",
       "            </td>\n",
       "            <td style=\"padding: 0 0.5em 0 0.5em; text-align: left; border: none;\">\n",
       "                battery\n",
       "            </td>\n",
       "        </tr>\n",
       "    \n",
       "        <tr style=\"background-color: hsl(120, 100.00%, 88.21%); border: none;\">\n",
       "            <td style=\"padding: 0 1em 0 0.5em; text-align: right; border: none;\">\n",
       "                0.0114\n",
       "                \n",
       "                    &plusmn; 0.0041\n",
       "                \n",
       "            </td>\n",
       "            <td style=\"padding: 0 0.5em 0 0.5em; text-align: left; border: none;\">\n",
       "                nice\n",
       "            </td>\n",
       "        </tr>\n",
       "    \n",
       "        <tr style=\"background-color: hsl(120, 100.00%, 88.37%); border: none;\">\n",
       "            <td style=\"padding: 0 1em 0 0.5em; text-align: right; border: none;\">\n",
       "                0.0112\n",
       "                \n",
       "                    &plusmn; 0.0054\n",
       "                \n",
       "            </td>\n",
       "            <td style=\"padding: 0 0.5em 0 0.5em; text-align: left; border: none;\">\n",
       "                small\n",
       "            </td>\n",
       "        </tr>\n",
       "    \n",
       "        <tr style=\"background-color: hsl(120, 100.00%, 89.47%); border: none;\">\n",
       "            <td style=\"padding: 0 1em 0 0.5em; text-align: right; border: none;\">\n",
       "                0.0097\n",
       "                \n",
       "                    &plusmn; 0.0047\n",
       "                \n",
       "            </td>\n",
       "            <td style=\"padding: 0 0.5em 0 0.5em; text-align: left; border: none;\">\n",
       "                goodread\n",
       "            </td>\n",
       "        </tr>\n",
       "    \n",
       "        <tr style=\"background-color: hsl(120, 100.00%, 89.58%); border: none;\">\n",
       "            <td style=\"padding: 0 1em 0 0.5em; text-align: right; border: none;\">\n",
       "                0.0096\n",
       "                \n",
       "                    &plusmn; 0.0042\n",
       "                \n",
       "            </td>\n",
       "            <td style=\"padding: 0 0.5em 0 0.5em; text-align: left; border: none;\">\n",
       "                sound\n",
       "            </td>\n",
       "        </tr>\n",
       "    \n",
       "        <tr style=\"background-color: hsl(120, 100.00%, 89.90%); border: none;\">\n",
       "            <td style=\"padding: 0 1em 0 0.5em; text-align: right; border: none;\">\n",
       "                0.0091\n",
       "                \n",
       "                    &plusmn; 0.0049\n",
       "                \n",
       "            </td>\n",
       "            <td style=\"padding: 0 0.5em 0 0.5em; text-align: left; border: none;\">\n",
       "                awesome\n",
       "            </td>\n",
       "        </tr>\n",
       "    \n",
       "        <tr style=\"background-color: hsl(120, 100.00%, 90.48%); border: none;\">\n",
       "            <td style=\"padding: 0 1em 0 0.5em; text-align: right; border: none;\">\n",
       "                0.0084\n",
       "                \n",
       "                    &plusmn; 0.0033\n",
       "                \n",
       "            </td>\n",
       "            <td style=\"padding: 0 0.5em 0 0.5em; text-align: left; border: none;\">\n",
       "                phone\n",
       "            </td>\n",
       "        </tr>\n",
       "    \n",
       "        <tr style=\"background-color: hsl(120, 100.00%, 90.79%); border: none;\">\n",
       "            <td style=\"padding: 0 1em 0 0.5em; text-align: right; border: none;\">\n",
       "                0.0080\n",
       "                \n",
       "                    &plusmn; 0.0031\n",
       "                \n",
       "            </td>\n",
       "            <td style=\"padding: 0 0.5em 0 0.5em; text-align: left; border: none;\">\n",
       "                best\n",
       "            </td>\n",
       "        </tr>\n",
       "    \n",
       "        <tr style=\"background-color: hsl(120, 100.00%, 91.00%); border: none;\">\n",
       "            <td style=\"padding: 0 1em 0 0.5em; text-align: right; border: none;\">\n",
       "                0.0078\n",
       "                \n",
       "                    &plusmn; 0.0031\n",
       "                \n",
       "            </td>\n",
       "            <td style=\"padding: 0 0.5em 0 0.5em; text-align: left; border: none;\">\n",
       "                quality\n",
       "            </td>\n",
       "        </tr>\n",
       "    \n",
       "        <tr style=\"background-color: hsl(120, 100.00%, 91.56%); border: none;\">\n",
       "            <td style=\"padding: 0 1em 0 0.5em; text-align: right; border: none;\">\n",
       "                0.0071\n",
       "                \n",
       "                    &plusmn; 0.0030\n",
       "                \n",
       "            </td>\n",
       "            <td style=\"padding: 0 0.5em 0 0.5em; text-align: left; border: none;\">\n",
       "                bass\n",
       "            </td>\n",
       "        </tr>\n",
       "    \n",
       "        <tr style=\"background-color: hsl(120, 100.00%, 92.14%); border: none;\">\n",
       "            <td style=\"padding: 0 1em 0 0.5em; text-align: right; border: none;\">\n",
       "                0.0064\n",
       "                \n",
       "                    &plusmn; 0.0023\n",
       "                \n",
       "            </td>\n",
       "            <td style=\"padding: 0 0.5em 0 0.5em; text-align: left; border: none;\">\n",
       "                badread\n",
       "            </td>\n",
       "        </tr>\n",
       "    \n",
       "        <tr style=\"background-color: hsl(120, 100.00%, 92.35%); border: none;\">\n",
       "            <td style=\"padding: 0 1em 0 0.5em; text-align: right; border: none;\">\n",
       "                0.0062\n",
       "                \n",
       "                    &plusmn; 0.0031\n",
       "                \n",
       "            </td>\n",
       "            <td style=\"padding: 0 0.5em 0 0.5em; text-align: left; border: none;\">\n",
       "                productread\n",
       "            </td>\n",
       "        </tr>\n",
       "    \n",
       "    \n",
       "        \n",
       "            <tr style=\"background-color: hsl(120, 100.00%, 92.35%); border: none;\">\n",
       "                <td colspan=\"2\" style=\"padding: 0 0.5em 0 0.5em; text-align: center; border: none; white-space: nowrap;\">\n",
       "                    <i>&hellip; 9985 more &hellip;</i>\n",
       "                </td>\n",
       "            </tr>\n",
       "        \n",
       "    \n",
       "    </tbody>\n",
       "</table>\n",
       "    \n",
       "\n",
       "    \n",
       "\n",
       "\n",
       "    \n",
       "\n",
       "    \n",
       "\n",
       "    \n",
       "\n",
       "    \n",
       "\n",
       "    \n",
       "\n",
       "    \n",
       "\n",
       "\n",
       "\n"
      ],
      "text/plain": [
       "<IPython.core.display.HTML object>"
      ]
     },
     "execution_count": 37,
     "metadata": {},
     "output_type": "execute_result"
    }
   ],
   "source": [
    "import eli5\n",
    "eli5.show_weights(RF,vec = tf_vec, top = 15)  #random forest"
   ]
  },
  {
   "cell_type": "code",
   "execution_count": 38,
   "id": "8e090efe",
   "metadata": {},
   "outputs": [
    {
     "data": {
      "text/plain": [
       "['Rating prediction using NLP.pkl']"
      ]
     },
     "execution_count": 38,
     "metadata": {},
     "output_type": "execute_result"
    }
   ],
   "source": [
    "import joblib\n",
    "joblib.dump(RF,\"Rating prediction using NLP.pkl\")"
   ]
  },
  {
   "cell_type": "code",
   "execution_count": null,
   "id": "a403a05c",
   "metadata": {},
   "outputs": [],
   "source": []
  },
  {
   "cell_type": "code",
   "execution_count": null,
   "id": "bfe0ef6a",
   "metadata": {},
   "outputs": [],
   "source": []
  },
  {
   "cell_type": "code",
   "execution_count": null,
   "id": "4f1a1b6d",
   "metadata": {},
   "outputs": [],
   "source": []
  },
  {
   "cell_type": "code",
   "execution_count": null,
   "id": "61e40936",
   "metadata": {},
   "outputs": [],
   "source": []
  },
  {
   "cell_type": "code",
   "execution_count": null,
   "id": "beb9c8fc",
   "metadata": {},
   "outputs": [],
   "source": []
  },
  {
   "cell_type": "code",
   "execution_count": null,
   "id": "4d6c9744",
   "metadata": {},
   "outputs": [],
   "source": []
  },
  {
   "cell_type": "code",
   "execution_count": null,
   "id": "8baff122",
   "metadata": {},
   "outputs": [],
   "source": []
  }
 ],
 "metadata": {
  "kernelspec": {
   "display_name": "Python 3",
   "language": "python",
   "name": "python3"
  },
  "language_info": {
   "codemirror_mode": {
    "name": "ipython",
    "version": 3
   },
   "file_extension": ".py",
   "mimetype": "text/x-python",
   "name": "python",
   "nbconvert_exporter": "python",
   "pygments_lexer": "ipython3",
   "version": "3.8.8"
  }
 },
 "nbformat": 4,
 "nbformat_minor": 5
}
