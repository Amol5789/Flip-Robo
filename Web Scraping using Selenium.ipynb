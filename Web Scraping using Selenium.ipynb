{
 "cells": [
  {
   "cell_type": "code",
   "execution_count": 1,
   "metadata": {},
   "outputs": [],
   "source": [
    "import selenium\n",
    "import pandas as pd\n",
    "from selenium import webdriver\n",
    "import time"
   ]
  },
  {
   "cell_type": "code",
   "execution_count": 3,
   "metadata": {},
   "outputs": [
    {
     "data": {
      "text/plain": [
       "<selenium.webdriver.chrome.webdriver.WebDriver (session=\"df1e1f760dd59ed9c8a0fa41926c9afb\")>"
      ]
     },
     "execution_count": 3,
     "metadata": {},
     "output_type": "execute_result"
    }
   ],
   "source": [
    "driver=webdriver.Chrome('chromedriver.exe')\n",
    "driver"
   ]
  },
  {
   "cell_type": "markdown",
   "metadata": {},
   "source": [
    "### Q1: Write a python program to scrape data for “Data Analyst” Job position in “Bangalore” location. You have to scrape the job-title, job-location, company_name, experience_required. You have to scrape first 10 jobs data."
   ]
  },
  {
   "cell_type": "code",
   "execution_count": 3,
   "metadata": {},
   "outputs": [],
   "source": [
    "\n",
    "# now we want to scrap data of naukari.com"
   ]
  },
  {
   "cell_type": "code",
   "execution_count": 7,
   "metadata": {},
   "outputs": [],
   "source": [
    "url='https://www.naukri.com/'\n",
    "driver.get(url)"
   ]
  },
  {
   "cell_type": "code",
   "execution_count": 5,
   "metadata": {},
   "outputs": [
    {
     "data": {
      "text/plain": [
       "<selenium.webdriver.remote.webelement.WebElement (session=\"87111ca05867413ec7433c8264561a1f\", element=\"9d382774-adbf-4bde-bda9-9e76215dc59f\")>"
      ]
     },
     "execution_count": 5,
     "metadata": {},
     "output_type": "execute_result"
    }
   ],
   "source": [
    "# we want scrap data \"Data Analyst\" in search bar\n",
    "\n",
    "search_job=driver.find_element_by_xpath('//input[@class=\"sugInp\"]')\n",
    "search_job"
   ]
  },
  {
   "cell_type": "code",
   "execution_count": 6,
   "metadata": {},
   "outputs": [],
   "source": [
    "search_job.send_keys('Data Analyst')\n"
   ]
  },
  {
   "cell_type": "code",
   "execution_count": 7,
   "metadata": {},
   "outputs": [],
   "source": [
    "search_location=driver.find_element_by_id('qsb-location-sugg')"
   ]
  },
  {
   "cell_type": "code",
   "execution_count": 8,
   "metadata": {},
   "outputs": [],
   "source": [
    "search_location.send_keys('Bangalore')"
   ]
  },
  {
   "cell_type": "code",
   "execution_count": 9,
   "metadata": {},
   "outputs": [],
   "source": [
    "search_btn=driver.find_element_by_xpath('//button[@class=\"btn\"]')"
   ]
  },
  {
   "cell_type": "code",
   "execution_count": 10,
   "metadata": {},
   "outputs": [],
   "source": [
    "search_btn.click()"
   ]
  },
  {
   "cell_type": "code",
   "execution_count": 11,
   "metadata": {},
   "outputs": [],
   "source": [
    "# lets create 4 empty list for job-title, job-location, company_name, experience_required.\n",
    "job_title=[]\n",
    "job_location=[]\n",
    "comapny_name=[]\n",
    "experience_required=[]"
   ]
  },
  {
   "cell_type": "code",
   "execution_count": 12,
   "metadata": {},
   "outputs": [
    {
     "data": {
      "text/plain": [
       "[<selenium.webdriver.remote.webelement.WebElement (session=\"87111ca05867413ec7433c8264561a1f\", element=\"80a9c03f-6934-4a69-8792-4d8b0213e21f\")>,\n",
       " <selenium.webdriver.remote.webelement.WebElement (session=\"87111ca05867413ec7433c8264561a1f\", element=\"7b4e0fdc-1501-408d-abb6-157fe068707e\")>,\n",
       " <selenium.webdriver.remote.webelement.WebElement (session=\"87111ca05867413ec7433c8264561a1f\", element=\"36eed8c5-abbe-4ad7-b102-f53963c430d7\")>,\n",
       " <selenium.webdriver.remote.webelement.WebElement (session=\"87111ca05867413ec7433c8264561a1f\", element=\"1f95a706-274f-4a5d-bdc8-b02ed5cf3c35\")>,\n",
       " <selenium.webdriver.remote.webelement.WebElement (session=\"87111ca05867413ec7433c8264561a1f\", element=\"494578f4-cb0a-4e3c-a9ba-5bc1845c828c\")>,\n",
       " <selenium.webdriver.remote.webelement.WebElement (session=\"87111ca05867413ec7433c8264561a1f\", element=\"1c23702c-ea0e-44ab-8d4b-3a2cbcac6522\")>,\n",
       " <selenium.webdriver.remote.webelement.WebElement (session=\"87111ca05867413ec7433c8264561a1f\", element=\"2fbb68b2-0580-426f-9df2-76b122f5c06f\")>,\n",
       " <selenium.webdriver.remote.webelement.WebElement (session=\"87111ca05867413ec7433c8264561a1f\", element=\"e6a0a38a-4c72-451d-84e6-79698290eff9\")>,\n",
       " <selenium.webdriver.remote.webelement.WebElement (session=\"87111ca05867413ec7433c8264561a1f\", element=\"31e24470-1002-426c-80d2-d0f14bda53ed\")>,\n",
       " <selenium.webdriver.remote.webelement.WebElement (session=\"87111ca05867413ec7433c8264561a1f\", element=\"821e6a8f-f182-4845-a5e4-82ed61b7b2d7\")>,\n",
       " <selenium.webdriver.remote.webelement.WebElement (session=\"87111ca05867413ec7433c8264561a1f\", element=\"5f83ad32-05a3-454b-b9ce-92ca24cd1b2c\")>,\n",
       " <selenium.webdriver.remote.webelement.WebElement (session=\"87111ca05867413ec7433c8264561a1f\", element=\"92051fc3-b407-4786-b9f1-0d1f2360e808\")>,\n",
       " <selenium.webdriver.remote.webelement.WebElement (session=\"87111ca05867413ec7433c8264561a1f\", element=\"2a3ef2ab-6ee3-4d5a-901e-c2218840add4\")>,\n",
       " <selenium.webdriver.remote.webelement.WebElement (session=\"87111ca05867413ec7433c8264561a1f\", element=\"60a936ee-b304-4248-b389-9d5bf7e8f26a\")>,\n",
       " <selenium.webdriver.remote.webelement.WebElement (session=\"87111ca05867413ec7433c8264561a1f\", element=\"a3fae9ca-168f-426b-b2fa-e6fc4134a2fc\")>,\n",
       " <selenium.webdriver.remote.webelement.WebElement (session=\"87111ca05867413ec7433c8264561a1f\", element=\"107950c3-748c-4aa7-8976-47717b0e32b1\")>,\n",
       " <selenium.webdriver.remote.webelement.WebElement (session=\"87111ca05867413ec7433c8264561a1f\", element=\"022d520f-1567-4b99-b230-c098730a7cb6\")>,\n",
       " <selenium.webdriver.remote.webelement.WebElement (session=\"87111ca05867413ec7433c8264561a1f\", element=\"04334608-6d0d-4a3a-94d7-9f31a63790ab\")>,\n",
       " <selenium.webdriver.remote.webelement.WebElement (session=\"87111ca05867413ec7433c8264561a1f\", element=\"25a58f4f-1df5-4b37-af8f-97ba25e94760\")>,\n",
       " <selenium.webdriver.remote.webelement.WebElement (session=\"87111ca05867413ec7433c8264561a1f\", element=\"c0f410e7-e74c-42e7-9acb-763d8f2d1af3\")>]"
      ]
     },
     "execution_count": 12,
     "metadata": {},
     "output_type": "execute_result"
    }
   ],
   "source": [
    "# extract job_title first\n",
    "job_title1=driver.find_elements_by_xpath('//a[@class=\"title fw500 ellipsis\"]')\n",
    "job_title1"
   ]
  },
  {
   "cell_type": "code",
   "execution_count": 13,
   "metadata": {},
   "outputs": [
    {
     "data": {
      "text/plain": [
       "['Data Analyst',\n",
       " 'Data Analyst',\n",
       " 'Business Data Analyst',\n",
       " 'Business Data Analyst',\n",
       " 'Systems and Data Analyst, Safety and Provisioning',\n",
       " 'Senior CDP (Customer Data Platform) Analyst',\n",
       " 'Senior Analyst - Data & Analytics',\n",
       " 'Senior Data Analyst - SQL/Tableau/Redshift',\n",
       " 'Lead Data Analyst',\n",
       " 'Data Analyst']"
      ]
     },
     "execution_count": 13,
     "metadata": {},
     "output_type": "execute_result"
    }
   ],
   "source": [
    "# now extract text from  web element, we use for loop  to iterate over tags and extract the text inside them\n",
    "job_title2=[]\n",
    "for i in job_title1:\n",
    "    job_title2.append(i.text)\n",
    "job_title2\n",
    "job_title=job_title2[:10]\n",
    "job_title"
   ]
  },
  {
   "cell_type": "code",
   "execution_count": 14,
   "metadata": {},
   "outputs": [
    {
     "data": {
      "text/plain": [
       "[<selenium.webdriver.remote.webelement.WebElement (session=\"87111ca05867413ec7433c8264561a1f\", element=\"b5d2e8d5-e6df-4654-940b-ec5f38d50422\")>,\n",
       " <selenium.webdriver.remote.webelement.WebElement (session=\"87111ca05867413ec7433c8264561a1f\", element=\"2f6e7ca7-daa6-430c-89a3-2545de59ed11\")>,\n",
       " <selenium.webdriver.remote.webelement.WebElement (session=\"87111ca05867413ec7433c8264561a1f\", element=\"ca9c3051-3b6a-40fb-b2d5-fc0ca1218789\")>,\n",
       " <selenium.webdriver.remote.webelement.WebElement (session=\"87111ca05867413ec7433c8264561a1f\", element=\"e50ea72d-b159-4513-902f-83f419d913a1\")>,\n",
       " <selenium.webdriver.remote.webelement.WebElement (session=\"87111ca05867413ec7433c8264561a1f\", element=\"6320da5c-e639-4b26-960e-5262a26cc0ec\")>,\n",
       " <selenium.webdriver.remote.webelement.WebElement (session=\"87111ca05867413ec7433c8264561a1f\", element=\"127f876f-196d-4737-a401-7f730065608c\")>,\n",
       " <selenium.webdriver.remote.webelement.WebElement (session=\"87111ca05867413ec7433c8264561a1f\", element=\"f6d537b6-7a46-429b-9444-da35336c77d2\")>,\n",
       " <selenium.webdriver.remote.webelement.WebElement (session=\"87111ca05867413ec7433c8264561a1f\", element=\"e9ef297f-6d25-403d-a096-c20a37b7b3df\")>,\n",
       " <selenium.webdriver.remote.webelement.WebElement (session=\"87111ca05867413ec7433c8264561a1f\", element=\"af3af479-b87c-4e9f-b1c6-3baa3af61bf9\")>,\n",
       " <selenium.webdriver.remote.webelement.WebElement (session=\"87111ca05867413ec7433c8264561a1f\", element=\"2691ffc6-f64f-41ec-b6bb-faa58fef2a23\")>,\n",
       " <selenium.webdriver.remote.webelement.WebElement (session=\"87111ca05867413ec7433c8264561a1f\", element=\"9de70583-ec55-48d6-afe8-a9236be32e98\")>,\n",
       " <selenium.webdriver.remote.webelement.WebElement (session=\"87111ca05867413ec7433c8264561a1f\", element=\"10271d61-a6b2-400d-8cd5-eb7578732995\")>,\n",
       " <selenium.webdriver.remote.webelement.WebElement (session=\"87111ca05867413ec7433c8264561a1f\", element=\"ddbf81cd-819f-45f0-8b4a-f7fb79851b99\")>,\n",
       " <selenium.webdriver.remote.webelement.WebElement (session=\"87111ca05867413ec7433c8264561a1f\", element=\"93a40612-71ee-4d03-8cd0-931c9907c276\")>,\n",
       " <selenium.webdriver.remote.webelement.WebElement (session=\"87111ca05867413ec7433c8264561a1f\", element=\"322d08fb-a7ea-42bd-a1c2-faecb52ba895\")>,\n",
       " <selenium.webdriver.remote.webelement.WebElement (session=\"87111ca05867413ec7433c8264561a1f\", element=\"111100ad-7e77-4e1f-b4e2-b73c5afbc9f8\")>,\n",
       " <selenium.webdriver.remote.webelement.WebElement (session=\"87111ca05867413ec7433c8264561a1f\", element=\"929f8f64-cc80-4a81-86b2-4020a5b617c3\")>,\n",
       " <selenium.webdriver.remote.webelement.WebElement (session=\"87111ca05867413ec7433c8264561a1f\", element=\"ae28008a-417a-402a-9a4f-34f5d7381d0a\")>,\n",
       " <selenium.webdriver.remote.webelement.WebElement (session=\"87111ca05867413ec7433c8264561a1f\", element=\"ed04d39a-683b-4127-8768-9e492cb54fc5\")>,\n",
       " <selenium.webdriver.remote.webelement.WebElement (session=\"87111ca05867413ec7433c8264561a1f\", element=\"95b0d081-6394-49fa-9758-5eab41117d74\")>]"
      ]
     },
     "execution_count": 14,
     "metadata": {},
     "output_type": "execute_result"
    }
   ],
   "source": [
    "# extract job_location \n",
    "job_location1=driver.find_elements_by_xpath('//li[@class=\"fleft grey-text br2 placeHolderLi location\"]')\n",
    "job_location1"
   ]
  },
  {
   "cell_type": "code",
   "execution_count": 15,
   "metadata": {},
   "outputs": [
    {
     "data": {
      "text/plain": [
       "['Bangalore/Bengaluru',\n",
       " 'Bangalore/Bengaluru',\n",
       " 'Bangalore/Bengaluru',\n",
       " 'Bangalore/Bengaluru',\n",
       " 'Bangalore/Bengaluru',\n",
       " 'Bangalore/Bengaluru',\n",
       " 'Bangalore/Bengaluru',\n",
       " 'Noida, Mumbai, Indore, Hyderabad/Secunderabad, Pune, Chennai, Bangalore/Bengaluru\\n(WFH during Covid)',\n",
       " 'United States (USA), Bangalore/Bengaluru',\n",
       " 'Bangalore/Bengaluru']"
      ]
     },
     "execution_count": 15,
     "metadata": {},
     "output_type": "execute_result"
    }
   ],
   "source": [
    "job_location2=[]  \n",
    "for i in job_location1:\n",
    "    job_location2.append(i.text)\n",
    "job_location2\n",
    "job_location=job_location2[:10]\n",
    "job_location"
   ]
  },
  {
   "cell_type": "code",
   "execution_count": 16,
   "metadata": {},
   "outputs": [
    {
     "data": {
      "text/plain": [
       "[<selenium.webdriver.remote.webelement.WebElement (session=\"87111ca05867413ec7433c8264561a1f\", element=\"0a9cfdd7-3d97-4047-8587-afe87d0d3054\")>,\n",
       " <selenium.webdriver.remote.webelement.WebElement (session=\"87111ca05867413ec7433c8264561a1f\", element=\"e94a7bac-849c-4934-a0eb-98a2e6520901\")>,\n",
       " <selenium.webdriver.remote.webelement.WebElement (session=\"87111ca05867413ec7433c8264561a1f\", element=\"e70a4c94-73d7-48a6-9c0b-cfd8f5f7583a\")>,\n",
       " <selenium.webdriver.remote.webelement.WebElement (session=\"87111ca05867413ec7433c8264561a1f\", element=\"92408996-275a-466b-ace5-efe44c3dd7ce\")>,\n",
       " <selenium.webdriver.remote.webelement.WebElement (session=\"87111ca05867413ec7433c8264561a1f\", element=\"230674b6-5173-455c-b8fd-049f1c656f58\")>,\n",
       " <selenium.webdriver.remote.webelement.WebElement (session=\"87111ca05867413ec7433c8264561a1f\", element=\"17934f2c-af73-4bd0-a402-a344645052b6\")>,\n",
       " <selenium.webdriver.remote.webelement.WebElement (session=\"87111ca05867413ec7433c8264561a1f\", element=\"1fe5c5be-319e-450c-ae19-1ecbd9722ef4\")>,\n",
       " <selenium.webdriver.remote.webelement.WebElement (session=\"87111ca05867413ec7433c8264561a1f\", element=\"3f422ef2-20e4-4a95-88c5-f7b725fb9634\")>,\n",
       " <selenium.webdriver.remote.webelement.WebElement (session=\"87111ca05867413ec7433c8264561a1f\", element=\"0cba75cd-c4e0-41ba-8d21-ed0a76e20bc7\")>,\n",
       " <selenium.webdriver.remote.webelement.WebElement (session=\"87111ca05867413ec7433c8264561a1f\", element=\"43e2a4a7-3f4e-4195-b27e-23482cf70344\")>,\n",
       " <selenium.webdriver.remote.webelement.WebElement (session=\"87111ca05867413ec7433c8264561a1f\", element=\"55219115-d071-470f-baf3-a74101469567\")>,\n",
       " <selenium.webdriver.remote.webelement.WebElement (session=\"87111ca05867413ec7433c8264561a1f\", element=\"00ea4d5e-7d8d-4c2d-9ae0-0fae16f6100b\")>,\n",
       " <selenium.webdriver.remote.webelement.WebElement (session=\"87111ca05867413ec7433c8264561a1f\", element=\"9d241f8f-e0a6-43ec-8125-3bdc4d08f8d6\")>,\n",
       " <selenium.webdriver.remote.webelement.WebElement (session=\"87111ca05867413ec7433c8264561a1f\", element=\"e4f57170-e168-4a4c-aeb0-18d21477fa32\")>,\n",
       " <selenium.webdriver.remote.webelement.WebElement (session=\"87111ca05867413ec7433c8264561a1f\", element=\"9959e366-7bf7-4606-906d-532394c79154\")>,\n",
       " <selenium.webdriver.remote.webelement.WebElement (session=\"87111ca05867413ec7433c8264561a1f\", element=\"26040165-720f-42c7-8ed4-9c0353254797\")>,\n",
       " <selenium.webdriver.remote.webelement.WebElement (session=\"87111ca05867413ec7433c8264561a1f\", element=\"a4b6e7e2-ba61-46ca-814f-898dd8149ae1\")>,\n",
       " <selenium.webdriver.remote.webelement.WebElement (session=\"87111ca05867413ec7433c8264561a1f\", element=\"14e2cbc2-3aa8-4f0d-b9b6-f0200ce7131c\")>,\n",
       " <selenium.webdriver.remote.webelement.WebElement (session=\"87111ca05867413ec7433c8264561a1f\", element=\"5e9a3af3-0738-465f-ad3e-dbd9c3a5fd8f\")>,\n",
       " <selenium.webdriver.remote.webelement.WebElement (session=\"87111ca05867413ec7433c8264561a1f\", element=\"4f98f74e-1bdf-45e2-8167-4d4d19fd89a8\")>]"
      ]
     },
     "execution_count": 16,
     "metadata": {},
     "output_type": "execute_result"
    }
   ],
   "source": [
    "# now extract company name\n",
    "company_name1=driver.find_elements_by_xpath('//a[@class=\"subTitle ellipsis fleft\"]')\n",
    "company_name1"
   ]
  },
  {
   "cell_type": "code",
   "execution_count": 17,
   "metadata": {},
   "outputs": [
    {
     "data": {
      "text/plain": [
       "['Chaitanya India Fin Credit P',\n",
       " 'Enzen Global Solutions Pvt. Ltd',\n",
       " 'Trigent Software',\n",
       " 'Trigent Software',\n",
       " 'AECOM India Private Limited',\n",
       " 'Indegene',\n",
       " 'Indegene',\n",
       " 'Pronto Consulting Services',\n",
       " 'Bidgely Technologies Private Limited',\n",
       " 'Rubixe (A brand under Think Ahead Innovations Pvt Ltd)']"
      ]
     },
     "execution_count": 17,
     "metadata": {},
     "output_type": "execute_result"
    }
   ],
   "source": [
    "company_name2=[]  \n",
    "for i in company_name1:\n",
    "    company_name2.append(i.text)\n",
    "company_name2\n",
    "company_name=company_name2[:10]\n",
    "company_name"
   ]
  },
  {
   "cell_type": "code",
   "execution_count": 18,
   "metadata": {},
   "outputs": [
    {
     "data": {
      "text/plain": [
       "[<selenium.webdriver.remote.webelement.WebElement (session=\"87111ca05867413ec7433c8264561a1f\", element=\"c876aa56-7a82-4ced-9054-b51dbb3e995d\")>,\n",
       " <selenium.webdriver.remote.webelement.WebElement (session=\"87111ca05867413ec7433c8264561a1f\", element=\"8a4b73f4-f60c-47e7-b710-41880c61a5d8\")>,\n",
       " <selenium.webdriver.remote.webelement.WebElement (session=\"87111ca05867413ec7433c8264561a1f\", element=\"751a7ce6-0f08-4d72-b660-eea5d49b397f\")>,\n",
       " <selenium.webdriver.remote.webelement.WebElement (session=\"87111ca05867413ec7433c8264561a1f\", element=\"ea44787a-35e7-442c-9b21-d55063d5e1af\")>,\n",
       " <selenium.webdriver.remote.webelement.WebElement (session=\"87111ca05867413ec7433c8264561a1f\", element=\"92e52b10-145a-4b71-9ea0-720d49d5c8f9\")>,\n",
       " <selenium.webdriver.remote.webelement.WebElement (session=\"87111ca05867413ec7433c8264561a1f\", element=\"374c9c58-d5da-4a25-bca7-42008e50e7de\")>,\n",
       " <selenium.webdriver.remote.webelement.WebElement (session=\"87111ca05867413ec7433c8264561a1f\", element=\"93f98147-d0dd-4df7-8eba-564defdce7ba\")>,\n",
       " <selenium.webdriver.remote.webelement.WebElement (session=\"87111ca05867413ec7433c8264561a1f\", element=\"e111e823-45e9-4115-af3c-0dad25a3cdfb\")>,\n",
       " <selenium.webdriver.remote.webelement.WebElement (session=\"87111ca05867413ec7433c8264561a1f\", element=\"598d8060-8a25-4b23-b123-7cef18e0c1d2\")>,\n",
       " <selenium.webdriver.remote.webelement.WebElement (session=\"87111ca05867413ec7433c8264561a1f\", element=\"22731e35-4d15-4323-b298-92472cec71f8\")>,\n",
       " <selenium.webdriver.remote.webelement.WebElement (session=\"87111ca05867413ec7433c8264561a1f\", element=\"9cff1d48-345f-4194-8248-4209abcc7a14\")>,\n",
       " <selenium.webdriver.remote.webelement.WebElement (session=\"87111ca05867413ec7433c8264561a1f\", element=\"3f6c0af0-38fb-476e-8992-25032b23ab85\")>,\n",
       " <selenium.webdriver.remote.webelement.WebElement (session=\"87111ca05867413ec7433c8264561a1f\", element=\"d2952603-ad21-4836-80cd-eb74f9f93314\")>,\n",
       " <selenium.webdriver.remote.webelement.WebElement (session=\"87111ca05867413ec7433c8264561a1f\", element=\"778cb99b-2331-4c24-8c9d-6daea5932fdb\")>,\n",
       " <selenium.webdriver.remote.webelement.WebElement (session=\"87111ca05867413ec7433c8264561a1f\", element=\"5b87439e-07af-4af4-aa4c-25a39ff361a0\")>,\n",
       " <selenium.webdriver.remote.webelement.WebElement (session=\"87111ca05867413ec7433c8264561a1f\", element=\"9bc96518-7e1d-475b-9d25-411fe123f115\")>,\n",
       " <selenium.webdriver.remote.webelement.WebElement (session=\"87111ca05867413ec7433c8264561a1f\", element=\"60cba13a-45d4-4b97-97c4-4a7b198991ad\")>,\n",
       " <selenium.webdriver.remote.webelement.WebElement (session=\"87111ca05867413ec7433c8264561a1f\", element=\"20bcd16e-4092-45b0-ae10-c1f514a92b76\")>,\n",
       " <selenium.webdriver.remote.webelement.WebElement (session=\"87111ca05867413ec7433c8264561a1f\", element=\"e3be6a0e-e86d-4e86-b1f3-2f5bf09d8fa6\")>,\n",
       " <selenium.webdriver.remote.webelement.WebElement (session=\"87111ca05867413ec7433c8264561a1f\", element=\"6b175ac0-9908-4c25-93e7-2202aaa50f58\")>]"
      ]
     },
     "execution_count": 18,
     "metadata": {},
     "output_type": "execute_result"
    }
   ],
   "source": [
    "# now scrap experience required\n",
    "Experience_required1=driver.find_elements_by_xpath('//li[@class=\"fleft grey-text br2 placeHolderLi experience\"]')\n",
    "Experience_required1"
   ]
  },
  {
   "cell_type": "code",
   "execution_count": 19,
   "metadata": {},
   "outputs": [
    {
     "data": {
      "text/plain": [
       "['0-0 Yrs',\n",
       " '6-8 Yrs',\n",
       " '3-5 Yrs',\n",
       " '3-5 Yrs',\n",
       " '3-5 Yrs',\n",
       " '4-9 Yrs',\n",
       " '3-8 Yrs',\n",
       " '6-10 Yrs',\n",
       " '5-10 Yrs',\n",
       " '2-6 Yrs']"
      ]
     },
     "execution_count": 19,
     "metadata": {},
     "output_type": "execute_result"
    }
   ],
   "source": [
    "Experience_required2=[]  \n",
    "for i in Experience_required1:\n",
    "    Experience_required2.append(i.text)\n",
    "Experience_required2\n",
    "Experience_required=Experience_required2[:10]\n",
    "Experience_required"
   ]
  },
  {
   "cell_type": "code",
   "execution_count": 20,
   "metadata": {},
   "outputs": [
    {
     "data": {
      "text/html": [
       "<div>\n",
       "<style scoped>\n",
       "    .dataframe tbody tr th:only-of-type {\n",
       "        vertical-align: middle;\n",
       "    }\n",
       "\n",
       "    .dataframe tbody tr th {\n",
       "        vertical-align: top;\n",
       "    }\n",
       "\n",
       "    .dataframe thead th {\n",
       "        text-align: right;\n",
       "    }\n",
       "</style>\n",
       "<table border=\"1\" class=\"dataframe\">\n",
       "  <thead>\n",
       "    <tr style=\"text-align: right;\">\n",
       "      <th></th>\n",
       "      <th>Job_title</th>\n",
       "      <th>Job_location</th>\n",
       "      <th>Company_name</th>\n",
       "      <th>Experience_required</th>\n",
       "    </tr>\n",
       "  </thead>\n",
       "  <tbody>\n",
       "    <tr>\n",
       "      <th>0</th>\n",
       "      <td>Data Analyst</td>\n",
       "      <td>Bangalore/Bengaluru</td>\n",
       "      <td>Chaitanya India Fin Credit P</td>\n",
       "      <td>0-0 Yrs</td>\n",
       "    </tr>\n",
       "    <tr>\n",
       "      <th>1</th>\n",
       "      <td>Data Analyst</td>\n",
       "      <td>Bangalore/Bengaluru</td>\n",
       "      <td>Enzen Global Solutions Pvt. Ltd</td>\n",
       "      <td>6-8 Yrs</td>\n",
       "    </tr>\n",
       "    <tr>\n",
       "      <th>2</th>\n",
       "      <td>Business Data Analyst</td>\n",
       "      <td>Bangalore/Bengaluru</td>\n",
       "      <td>Trigent Software</td>\n",
       "      <td>3-5 Yrs</td>\n",
       "    </tr>\n",
       "    <tr>\n",
       "      <th>3</th>\n",
       "      <td>Business Data Analyst</td>\n",
       "      <td>Bangalore/Bengaluru</td>\n",
       "      <td>Trigent Software</td>\n",
       "      <td>3-5 Yrs</td>\n",
       "    </tr>\n",
       "    <tr>\n",
       "      <th>4</th>\n",
       "      <td>Systems and Data Analyst, Safety and Provisioning</td>\n",
       "      <td>Bangalore/Bengaluru</td>\n",
       "      <td>AECOM India Private Limited</td>\n",
       "      <td>3-5 Yrs</td>\n",
       "    </tr>\n",
       "    <tr>\n",
       "      <th>5</th>\n",
       "      <td>Senior CDP (Customer Data Platform) Analyst</td>\n",
       "      <td>Bangalore/Bengaluru</td>\n",
       "      <td>Indegene</td>\n",
       "      <td>4-9 Yrs</td>\n",
       "    </tr>\n",
       "    <tr>\n",
       "      <th>6</th>\n",
       "      <td>Senior Analyst - Data &amp; Analytics</td>\n",
       "      <td>Bangalore/Bengaluru</td>\n",
       "      <td>Indegene</td>\n",
       "      <td>3-8 Yrs</td>\n",
       "    </tr>\n",
       "    <tr>\n",
       "      <th>7</th>\n",
       "      <td>Senior Data Analyst - SQL/Tableau/Redshift</td>\n",
       "      <td>Noida, Mumbai, Indore, Hyderabad/Secunderabad,...</td>\n",
       "      <td>Pronto Consulting Services</td>\n",
       "      <td>6-10 Yrs</td>\n",
       "    </tr>\n",
       "    <tr>\n",
       "      <th>8</th>\n",
       "      <td>Lead Data Analyst</td>\n",
       "      <td>United States (USA), Bangalore/Bengaluru</td>\n",
       "      <td>Bidgely Technologies Private Limited</td>\n",
       "      <td>5-10 Yrs</td>\n",
       "    </tr>\n",
       "    <tr>\n",
       "      <th>9</th>\n",
       "      <td>Data Analyst</td>\n",
       "      <td>Bangalore/Bengaluru</td>\n",
       "      <td>Rubixe (A brand under Think Ahead Innovations ...</td>\n",
       "      <td>2-6 Yrs</td>\n",
       "    </tr>\n",
       "  </tbody>\n",
       "</table>\n",
       "</div>"
      ],
      "text/plain": [
       "                                           Job_title  \\\n",
       "0                                       Data Analyst   \n",
       "1                                       Data Analyst   \n",
       "2                              Business Data Analyst   \n",
       "3                              Business Data Analyst   \n",
       "4  Systems and Data Analyst, Safety and Provisioning   \n",
       "5        Senior CDP (Customer Data Platform) Analyst   \n",
       "6                  Senior Analyst - Data & Analytics   \n",
       "7         Senior Data Analyst - SQL/Tableau/Redshift   \n",
       "8                                  Lead Data Analyst   \n",
       "9                                       Data Analyst   \n",
       "\n",
       "                                        Job_location  \\\n",
       "0                                Bangalore/Bengaluru   \n",
       "1                                Bangalore/Bengaluru   \n",
       "2                                Bangalore/Bengaluru   \n",
       "3                                Bangalore/Bengaluru   \n",
       "4                                Bangalore/Bengaluru   \n",
       "5                                Bangalore/Bengaluru   \n",
       "6                                Bangalore/Bengaluru   \n",
       "7  Noida, Mumbai, Indore, Hyderabad/Secunderabad,...   \n",
       "8           United States (USA), Bangalore/Bengaluru   \n",
       "9                                Bangalore/Bengaluru   \n",
       "\n",
       "                                        Company_name Experience_required  \n",
       "0                       Chaitanya India Fin Credit P             0-0 Yrs  \n",
       "1                    Enzen Global Solutions Pvt. Ltd             6-8 Yrs  \n",
       "2                                   Trigent Software             3-5 Yrs  \n",
       "3                                   Trigent Software             3-5 Yrs  \n",
       "4                        AECOM India Private Limited             3-5 Yrs  \n",
       "5                                           Indegene             4-9 Yrs  \n",
       "6                                           Indegene             3-8 Yrs  \n",
       "7                         Pronto Consulting Services            6-10 Yrs  \n",
       "8               Bidgely Technologies Private Limited            5-10 Yrs  \n",
       "9  Rubixe (A brand under Think Ahead Innovations ...             2-6 Yrs  "
      ]
     },
     "execution_count": 20,
     "metadata": {},
     "output_type": "execute_result"
    }
   ],
   "source": [
    "# now create data frame for above scraped data\n",
    "import pandas as pd\n",
    "Data_analyst=pd.DataFrame({})\n",
    "Data_analyst['Job_title']=job_title\n",
    "Data_analyst['Job_location']=job_location\n",
    "Data_analyst['Company_name']=company_name\n",
    "Data_analyst['Experience_required']=Experience_required\n",
    "Data_analyst"
   ]
  },
  {
   "cell_type": "markdown",
   "metadata": {},
   "source": [
    "### Q2: Write a python program to scrape data for “Data Scientist” Job position in “Bangalore” location. You have to scrape the job-title, job-location, company_name, full job-description. You have to scrape first 10 jobs data."
   ]
  },
  {
   "cell_type": "code",
   "execution_count": 8,
   "metadata": {},
   "outputs": [
    {
     "data": {
      "text/plain": [
       "<selenium.webdriver.remote.webelement.WebElement (session=\"15cdd82151908ea0abc9dbff2bfe573b\", element=\"f915bb43-07ca-4da2-bfc0-0879b943bfd2\")>"
      ]
     },
     "execution_count": 8,
     "metadata": {},
     "output_type": "execute_result"
    }
   ],
   "source": [
    "# we want search data \"Data Scientist\" in search bar\n",
    "\n",
    "search_job=driver.find_element_by_xpath('//input[@class=\"sugInp\"]')\n",
    "search_job"
   ]
  },
  {
   "cell_type": "code",
   "execution_count": 9,
   "metadata": {},
   "outputs": [],
   "source": [
    "search_job.send_keys('Data Scientist')"
   ]
  },
  {
   "cell_type": "code",
   "execution_count": 10,
   "metadata": {},
   "outputs": [],
   "source": [
    "search_location=driver.find_element_by_id('qsb-location-sugg')\n",
    "search_location.send_keys('Bangalore')"
   ]
  },
  {
   "cell_type": "code",
   "execution_count": 11,
   "metadata": {},
   "outputs": [],
   "source": [
    "search_btn=driver.find_element_by_xpath('//button[@class=\"btn\"]')\n",
    "search_btn.click()\n"
   ]
  },
  {
   "cell_type": "code",
   "execution_count": 12,
   "metadata": {},
   "outputs": [
    {
     "data": {
      "text/plain": [
       "['https://www.naukri.com/job-listings-data-scientist-senior-business-analyst-lead-analyst-evalueserve-com-pvt-ltd-gurgaon-gurugram-bangalore-bengaluru-2-to-7-years-110821005065?src=jobsearchDesk&sid=16287556439436570&xp=1&px=1',\n",
       " 'https://www.naukri.com/job-listings-lead-data-scientist-retail-industry-ibm-india-pvt-limited-bangalore-bengaluru-7-to-10-years-100821908363?src=jobsearchDesk&sid=16287556439436570&xp=2&px=1',\n",
       " 'https://www.naukri.com/job-listings-senior-lead-data-scientist-superior-group-bangalore-bengaluru-6-to-11-years-100821500375?src=jobsearchDesk&sid=16287556439436570&xp=3&px=1',\n",
       " 'https://www.naukri.com/job-listings-data-scientist-advanced-analytics-ibm-india-pvt-limited-bangalore-bengaluru-5-to-10-years-110821906281?src=jobsearchDesk&sid=16287556439436570&xp=4&px=1',\n",
       " 'https://www.naukri.com/job-listings-senior-data-scientist-smiths-detection-systems-private-limited-bangalore-bengaluru-8-to-10-years-260721903257?src=jobsearchDesk&sid=16287556439436570&xp=5&px=1',\n",
       " 'https://www.naukri.com/job-listings-senior-data-scientist-cognizer-india-private-limited-bangalore-bengaluru-5-to-10-years-100821001616?src=jobsearchDesk&sid=16287556439436570&xp=6&px=1',\n",
       " 'https://www.naukri.com/job-listings-lead-data-scientist-zycus-infotech-pvt-ltd-bangalore-bengaluru-14-to-16-years-100821906533?src=jobsearchDesk&sid=16287556439436570&xp=7&px=1',\n",
       " 'https://www.naukri.com/job-listings-lead-data-scientist-transorg-solutions-services-p-ltd-bangalore-bengaluru-delhi-ncr-mumbai-all-areas-4-to-6-years-160721005471?src=jobsearchDesk&sid=16287556439436570&xp=8&px=1',\n",
       " 'https://www.naukri.com/job-listings-senior-data-scientist-tech-lead-data-science-confidential-bangalore-bengaluru-delhi-ncr-6-to-9-years-100821906281?src=jobsearchDesk&sid=16287556439436570&xp=9&px=1',\n",
       " 'https://www.naukri.com/job-listings-senior-data-scientist-kpo-talentco-search-pvt-ltd-mumbai-bangalore-bengaluru-delhi-ncr-6-to-10-years-110821908145?src=jobsearchDesk&sid=16287556439436570&xp=10&px=1',\n",
       " 'https://www.naukri.com/job-listings-data-scientist-travel-centric-technology-bangalore-bengaluru-6-to-11-years-110821500209?src=jobsearchDesk&sid=16287556439436570&xp=11&px=1',\n",
       " 'https://www.naukri.com/job-listings-data-scientist-natural-language-processing-hyderabad-location-clifford-chance-business-services-private-limited-hyderabad-secunderabad-pune-chennai-bangalore-bengaluru-5-to-10-years-120821000435?src=jobsearchDesk&sid=16287556439436570&xp=12&px=1',\n",
       " 'https://www.naukri.com/job-listings-looking-for-data-scientist-for-chennai-location-intelizign-engineering-services-pvt-ltd-hyderabad-secunderabad-chennai-bangalore-bengaluru-3-to-7-years-110821004891?src=jobsearchDesk&sid=16287556439436570&xp=13&px=1',\n",
       " 'https://www.naukri.com/job-listings-data-scientist-cognizant-technology-solutions-india-pvt-ltd-chennai-bangalore-bengaluru-10-to-12-years-090821904407?src=jobsearchDesk&sid=16287556439436570&xp=14&px=1',\n",
       " 'https://www.naukri.com/job-listings-data-scientist-artificial-intelligence-ibm-india-pvt-limited-bangalore-bengaluru-4-to-6-years-110821906941?src=jobsearchDesk&sid=16287556439436570&xp=15&px=1',\n",
       " 'https://www.naukri.com/job-listings-data-scientist-advanced-analytics-ibm-india-pvt-limited-bangalore-bengaluru-4-to-8-years-110821906897?src=jobsearchDesk&sid=16287556439436570&xp=16&px=1',\n",
       " 'https://www.naukri.com/job-listings-data-scientist-artificial-intelligence-ibm-india-pvt-limited-bangalore-bengaluru-4-to-8-years-110821906005?src=jobsearchDesk&sid=16287556439436570&xp=17&px=1',\n",
       " 'https://www.naukri.com/job-listings-data-scientist-oracle-india-pvt-ltd-bangalore-bengaluru-6-to-10-years-190521008276?src=jobsearchDesk&sid=16287556439436570&xp=18&px=1',\n",
       " 'https://www.naukri.com/job-listings-data-scientist-artificial-intelligence-ibm-india-pvt-limited-bangalore-bengaluru-4-to-8-years-110821906380?src=jobsearchDesk&sid=16287556439436570&xp=19&px=1',\n",
       " 'https://www.naukri.com/job-listings-data-scientist-sql-r-python-imindyourbusiness-bangalore-bengaluru-4-to-8-years-110821900877?src=jobsearchDesk&sid=16287556439436570&xp=20&px=1']"
      ]
     },
     "execution_count": 12,
     "metadata": {},
     "output_type": "execute_result"
    }
   ],
   "source": [
    "# fetching urls first\n",
    "url2=[]\n",
    "for i in driver.find_elements_by_xpath(\"//a[@class='title fw500 ellipsis']\"):\n",
    "    url2.append(i.get_attribute('href'))\n",
    "url2"
   ]
  },
  {
   "cell_type": "code",
   "execution_count": 13,
   "metadata": {},
   "outputs": [
    {
     "data": {
      "text/plain": [
       "20"
      ]
     },
     "execution_count": 13,
     "metadata": {},
     "output_type": "execute_result"
    }
   ],
   "source": [
    "len(url2)"
   ]
  },
  {
   "cell_type": "code",
   "execution_count": 17,
   "metadata": {},
   "outputs": [],
   "source": [
    "job_title2=[]\n",
    "job_location2=[]\n",
    "comapany_name2=[]\n",
    "full_job_description2=[]\n",
    "for i in url2[:10]:\n",
    "    driver.get(i)\n",
    "    time.sleep(3)\n",
    "    # fetch job_titels\n",
    "    try:\n",
    "        job2=driver.find_element_by_xpath(\"//h1[@class='jd-header-title']\")\n",
    "        job_title2.append(job2.text.replace(\"\\n\",\"newline\"))\n",
    "    except:\n",
    "        job_title2.append('--')\n",
    "   ## fetch job_loctions \n",
    "    try:\n",
    "        job_location=driver.find_element_by_xpath(\"//span[@class='location ']\")\n",
    "        job_location2.append(job_location.text.replace(\"\\n\",\"newline\"))\n",
    "    except:\n",
    "        job_location2.append('--')\n",
    "    # fetch comapny_name\n",
    "    try:\n",
    "        comapany_name=driver.find_element_by_xpath(\"//a[@class='pad-rt-8']\")\n",
    "        comapany_name2.append( comapany_name.text.replace(\"\\n\",\"newline\"))\n",
    "    except:\n",
    "          comapany_name2.append('--')\n",
    "    \n",
    "    # fetchfull job_description\n",
    "    try:\n",
    "        full_job_description=driver.find_element_by_xpath(\"//section[@class='job-desc']\")\n",
    "        full_job_description2.append(full_job_description.text.replace('\\n',' '))\n",
    "    except:\n",
    "          full_job_description2.append('--')"
   ]
  },
  {
   "cell_type": "code",
   "execution_count": 18,
   "metadata": {},
   "outputs": [
    {
     "data": {
      "text/plain": [
       "['Data Scientist- Senior Business Analyst/Lead Analyst',\n",
       " '--',\n",
       " 'Senior/ Lead Data Scientist',\n",
       " '--',\n",
       " '--',\n",
       " 'Senior Data Scientist',\n",
       " 'Lead Data Scientist',\n",
       " 'Lead Data Scientist',\n",
       " 'Senior Data Scientist / Tech Lead - Data Science',\n",
       " 'Senior Data Scientist - KPO']"
      ]
     },
     "execution_count": 18,
     "metadata": {},
     "output_type": "execute_result"
    }
   ],
   "source": [
    "job_title2"
   ]
  },
  {
   "cell_type": "code",
   "execution_count": 19,
   "metadata": {},
   "outputs": [
    {
     "data": {
      "text/plain": [
       "['Gurgaon/Gurugram, Bangalore/Bengaluru',\n",
       " '--',\n",
       " 'Bangalore/Bengaluru',\n",
       " '--',\n",
       " '--',\n",
       " 'Bangalore/Bengaluru',\n",
       " 'Bangalore/Bengaluru',\n",
       " 'Bangalore/Bengaluru, Delhi / NCR, Mumbai (All Areas)',\n",
       " 'Bangalore/Bengaluru, Delhi / NCR',\n",
       " 'Mumbai, Bangalore/Bengaluru, Delhi / NCR']"
      ]
     },
     "execution_count": 19,
     "metadata": {},
     "output_type": "execute_result"
    }
   ],
   "source": [
    "job_location2"
   ]
  },
  {
   "cell_type": "code",
   "execution_count": 20,
   "metadata": {
    "scrolled": true
   },
   "outputs": [
    {
     "data": {
      "text/plain": [
       "['Evalueserve.com Pvt. Ltd',\n",
       " '--',\n",
       " 'Superior Group',\n",
       " '--',\n",
       " '--',\n",
       " 'Cognizer India Private Limited',\n",
       " 'Zycus Infotech Pvt Ltd',\n",
       " 'TransOrg Solutions Services (P) Ltd.',\n",
       " 'Confidential',\n",
       " 'TalentCo Search Pvt Ltd']"
      ]
     },
     "execution_count": 20,
     "metadata": {},
     "output_type": "execute_result"
    }
   ],
   "source": [
    "comapany_name2"
   ]
  },
  {
   "cell_type": "code",
   "execution_count": 21,
   "metadata": {},
   "outputs": [
    {
     "data": {
      "text/plain": [
       "['Job description Job Description Understand and design analytical solutions to business problems leveraging data science Understand and get requirements from Stakeholders Propose and execute solutions and present deliverables to stakeholders Manage and optimize deliverables Mentor and train new team members Develop POCs to enhance the teams capability  Requirements Understanding of mathematical, statistical, and theoretical foundations of statistics and machine learning (ML) and parametric and non-parametric models Knowledge of advanced data mining techniques, curating, processing, and transforming data to produce datasets Use statistical techniques and ML methods for predictive modeling / classification of problems around clients, distribution, sales, marketing, client profiles, and segmentation Provide relevant and actionable recommendations / insights for businesses Understanding of ML lifecycle that includes feature engineering, training, validation, scaling, deployment, scoring, monitoring, and feedback loop Expertise in SAS Visual Analytics, Tableau, and Python Expert in Python / R / SAS Experience with cloud computing infrastructure, such as AWS / Azure / GCP Able to develop, test, and deploy models on cloud / web  Education and Experience BE / B.Tech. / MBA / M.Stat. / M.SC. or equivalent degree in Quant. from a reputed institute 2-8 years of relevant experience  RoleBusiness Analyst Industry TypeAnalytics / KPO / Research Functional AreaAnalytics & Business Intelligence Employment TypeFull Time, Permanent Role CategoryAnalytics & BI Education UG :B.Tech/B.E. in Any Specialization Key Skills Predictive ModelingData ScienceRMarketing Mix ModelingData MiningMarketing AnalyticsMachine LearningPythonSales Analytics',\n",
       " '--',\n",
       " 'Job description Provide advanced analytical capabilities to support data science initiatives Solves highly complex problems that do not yet have solutions in the research and span much of the Data Science portfolio Influences the thought process and methodology for other team members Job Requirements Skill seet required: 6+ years of experience in analytics AND 2 years of programming experience (Python, Java, Scala, Rust, etc.) 3 years of experience performing predictive analytics at a large scale enterprise 3 years of experience in data science or advanced analytics in industry SQL Experience Experience using multiple data systems and sources (such as Hadoop, Spark, Aster, Teradata, etc.) RoleTeam Lead/Technical Lead Industry TypeRecruitment / Staffing Functional AreaIT Software - Application Programming, Maintenance Employment TypeFull Time, Permanent Role CategoryProgramming & Design Education UG :B.Tech/B.E. in Any Specialization PG :Any Postgraduate Key Skills advanced analyticsdata scienceAnalyticalSCALALeadTeradataPredictive analyticsLead managementSQLPython',\n",
       " '--',\n",
       " '--',\n",
       " 'Job description  Roles and Responsibilities Strong in problem solving, algorithms and data structures Proficient in Python Hands on experience in technologies and tools related NLP, Deep learning, Machine learning Experience on Conversational AI is a plus Able to train and deploy models. Hands on experience on multi gpu/ tpu training Broad knowledge of machine learning algorithms and principles Performance profiling and Tuning Communicate and propose solutions to business challenges Familiarity with at least one of the cloud computing infrastructure - GCP/AWS Keep abreast with the latest technological advances Team mentoring and leadership skills  Desired Candidate Profile  No. of opening: 01 Experience Required : 05 years and above Educational Qualification: B.E/ B.Tech from Top Tier institutes ( IIT, BITS and NITs) Experience with Product company Must be interested to work in a fast pace startup culture  Perks and Benefits Medical coverage for Self and Family Provident Fund Stock Options Learning Program  RoleR&D Executive Industry TypeIT Services & Consulting Functional AreaEngineering Design, R&D Employment TypeFull Time, Permanent Role CategoryR&D Education UG :B.Tech/B.E. in Computers Key Skills NLPDeep LearningPython AlgorithmsCloud ComputingGCPArtificial IntelligenceData StructuresNatural Language ProcessingMachine LearningAWS Skills highlighted with ‘‘ are preferred keyskills',\n",
       " 'Job description Zycus is looking for applicants with a strong background in Analytics and Data mining (Web, Social and Big data), Machine Learning, Pattern Recognition, Natural Language Processing, Computational Linguistics, Statistical Modelling, Inferencing, Information Retrieval, Large Scale Distributed Systems, Cloud Computing, Econometrics, Quantitative Marketing, Applied Game Theory, Mechanism Design, Operations Research, Optimization, Human Computer Interaction and Information Visualization. Applicants with a background in other quantitative areas are also encouraged to apply.  We are looking for someone who can create and implement AI solutions. If you have built a product like IBM WATSON in the past and not just used WATSON to build applications, this could be the perfect role for you.  All successful candidates are expected to dive deep into problem areas of Zycus interest and invent technology solutions to not only advance the current products, but also to generate new product options that can strategically advantage the organization.  Roles & Responsibilities: Act as a technical thought leader in collaboration with the analytics leadership team, helping to set the strategy and standards for Machine Learning and advanced analytics Work with senior leaders from all functions to explore opportunities for using advance analytics Provide technical leadership, coaching, and mentoring to talented data scientists and analytics professionals Guide data scientists in the use of advanced statistical, machine learning, and artificial intelligence methodologies Guide the work of other Machine learning team members to provide support and assistance, while also ensuring quality  Requirements  Skills: Experience in predictive modelling and predictive software development Skilled at Java, C++, Perl/Python (or similar scripting languages) Experience in using R, Matlab, or any other statistical software Experience in mentoring junior team members, and guiding them on machine learning and data modelling applications Strong communication and data presentation skills Classification (svm, decision tree, random forest, neural network) Regression (linear, polynomial, logistic, etc) Classical Optimization(gradient descent, newton raphson, etc) Graph theory (network analytics) Heuristic Optimisation (genetic algorithm, swarm theory) Deep learning (lstm, convolutional nn, recurrent nn)  Must Have: Total experience: 14+ years The ideal candidate must have proven expertise in Artificial Intelligence (including deep learning algorithms), Machine Learning and/or NLP The candidate must also have expertise in programming traditional machine learning algorithms, algorithm design & usage Programming expertise on Python or R Preferred experience with large data sets & distributed computing in Hadoop ecosystem Strong problem-solving skills Fluency with databases  Benefits Five Reasons Why You Should Join Zycus Cloud Product Company: We are a Cloud SaaS Company and our products are created by using the latest technologies like ML and AI. Our UI is in Angular JS and we are developing our mobile apps using React. A Market Leader: Zycus is recognized by Gartner (worlds leading market research analyst) as a Leader in Procurement Software Suites. Move between Roles: We believe that change leads to growth and therefore we allow our employees to shift careers and move to different roles and functions within the organization Get a Global Exposure: You get to work and deal with our global customers. Create an Impact: Zycus gives you the environment to create an impact on the product and transform your ideas into reality. Even our junior engineers get the opportunity to work on different product features. RoleAnalytics Manager Industry TypeIT Services & Consulting Functional AreaAnalytics & Business Intelligence Employment TypeFull Time, Permanent Role CategoryAnalytics & BI Education UG :Any Graduate PG :Any Postgraduate Key Skills RAlgorithmsNLPAlgorithm DesignData ScientistArtificial IntelligenceMachine LearningPythonRandom Forest',\n",
       " \"Job description Roles and Responsibilities  Well-versed in quantitative analysis, data mining, trend analysis, customer profiling, clustering and predictive modelling. Executing the data-driven planning process by building models and frameworks that connect business unit drivers to company financials and forecast to take the correct decision as per the business need. Should be able to handle assigned tasks in the capacity of individual contributor. Demonstrate excellent teamwork. Collaborate with other data analysts to provide development coverage, support, and Knowledge sharing and mentoring of junior team members.    Desired Candidate Profile  Bachelor's in Computer Science, Engineering, Statistics, Maths or related quantitative degree preferably from IIT, NIT, DTU and NSIT. 4-6 years of relevant experience in data science. Problem solver who is passionate to deep dive into data and generate insights Experience of data pre-processing and data manipulation using R, Python or SQL Should have some experience in statistical techniques like linear regression, logistic regression, clustering etc. Familiarity with Machine Learning and AI techniques is a plus Track record of managing data project delivery including ability to meet deadlines, overcome challenges, manage stakeholder expectations, and produce clear deliverables Excellent critical thinker with a strong verbal and written communications skills. Ability and desire to work in a proactive, highly engaging, high-pressure, client service environment. Understanding of Cloud Platforms (e.g. Azure / AWS) and ability to use them for developing, training and testing deep learning models      RoleAnalytics Manager Industry TypeAnalytics / KPO / Research Functional AreaAnalytics & Business Intelligence Employment TypeFull Time, Permanent Role CategoryAnalytics & BI Education UG :B.Sc in Any Specialization, B.Tech/B.E. in Any Specialization, BCA in Any Specialization PG :MS/M.Sc(Science) in Any Specialization, M.Tech in Any Specialization, MCA in Any Specialization Key Skills RPythonSQL Data ScienceData ManipulationArtificial IntelligenceLinear RegressionMachine LearningStatisticsDeep Learning Skills highlighted with ‘‘ are preferred keyskills\",\n",
       " 'Job description Responsibilities - Lead a team of data scientists, machine learning engineers and big data specialists Be the main point of contact for the customers Lead data mining and collection procedures Ensure data quality and integrity Interpret and analyze data problems Conceive, plan and prioritize data projects Build analytic systems and predictive models Test performance of data-driven products Visualize data and create reports Experiment with new models and techniques Align data projects with organizational goals Requirements - Very strong in statistics fundamentals. Not all data is Big Data. The candidate should be able to derive statistical insights from very few data points if required, using traditional statistical methods. Education no bar, but preferably from a Statistics academic background (eg MSc-Stats, MSc-Econometrics etc), given the first point Strong expertise in Python (any other statistical languages/tools like R, SAS, SPSS etc are just optional, but Python is absolutely essential). If the person is very strong in Python, but has almost nil knowledge in the other statistical tools, he/she will still be considered a good candidate for this role. Proven experience as a Data Scientist or similar role, for about 7-8 years Solid understanding of machine learning and AI concepts, especially wrt choice of apt candidate algorithms for a use case, and model evaluation. Good expertise in writing SQL queries (should not be dependent upon anyone else for pulling in data, joining them, data wrangling etc) Knowledge of data management and visualization techniques - more from a Data Science perspective. Should be able to grasp business problems, ask the right questions to better understand the problem breadthwise /depthwise, design apt solutions, and explain that to the business stakeholders. Qualification Any Relevant Graudate ( BE/B Tech, MCA Prefer) RoleTeam Lead/Technical Lead Industry TypeIT Services & Consulting Functional AreaIT Software - DBA, Datawarehousing Employment TypeFull Time, Permanent Role CategoryProgramming & Design Education UG :B.Tech/B.E. in Any Specialization, B.A in Statistics, B.Sc in Statistics PG :M.A in Economics, Statistics, MCA in Any Specialization, MS/M.Sc(Science) in Statistics Doctorate :Doctorate Not Required Key Skills Data ScienceData WranglingArtificial IntelligenceBig DataSQL QueriesData MiningMachine LearningStatisticsPython',\n",
       " 'Job description - Ability to understand a problem statement and implement analytical solutions & techniques independently with independently/proactively/thought-leadership.  - Work with stakeholders throughout the organization to identify opportunities for leveraging company/client data to drive business solutions.  - Fast learner: ability to learn and pick up a new language/tool/ platform quickly.  - Conceptualize, design, and deliver high-quality solutions and insightful analysis.  - Conduct research and prototyping innovations; data and requirements gathering; solution scoping and architecture; consulting clients and client facing teams on advanced statistical and machine learning problems.  - Collaborate and Coordinate with different functional teams(engineering and product development) to implement models and monitor outcomes.  - Ability to deliver AIML based solutions around a host of domains and problems, with some of them being: Customer Segmentation & Targeting, Propensity Modeling, Churn Modeling, Lifetime Value Estimation, Forecasting, Recommender Systems, Modeling Response to Incentives, Marketing Mix Optimization, Price Optimization  Experience Required:  - Expert level proficiency in Python.  - Ability to create efficient solutions to complex problems. Strong skills in data-structures and ML algorithms.  - Experience of working on end-to-end data science pipeline: problem scoping, data gathering, EDA, modelling, insights, visualizations, monitoring and maintenance.  - Problem-solving: Ability to break the problem into small parts and applying relevant techniques to drive required outcomes.  - Intermediate to advanced knowledge of machine learning, probability theory, statistics, and algorithms. You will be required to discuss and use various algorithms and approaches on a daily basis.  - We use regression, Bayesian methods, tree-based learners, SVM, RF, XGBOOST, time series modeling, dimensionality reduction, SEM, GLM, GLMM, clustering, Deep learning etc. on a regular basis. If you know few of them you are good to go.  Good to Have:  - Experience in one of the upcoming technologies like deep learning, NLP, image processing, recommender systems  - Experience of working in on one or more domains:  - CPG: pricing and promotion analytics, marketing analytics, trade promotions, supply chain management  - BFSI: cross-sell, up-sell, campaign analytics, treasury analytics, fraud detection  - Healthcare: medical adherence, medical risk profiling, EHR data, fraud-waste-abuse  - Experience in working with Linux computing environment and use of command line tools like sed/awk  - Good grasp on databases including RDBMS, NoSQL, MongoDB etc. RoleData Analyst Industry TypeAnalytics / KPO / Research Functional AreaAnalytics & Business Intelligence Employment TypeFull Time, Permanent Role CategoryAnalytics & BI Education UG :Any Graduate PG :Any Postgraduate Doctorate :Doctorate Not Required Key Skills Data ScienceNLPData ScientistArtificial IntelligenceData ManagementStatistical ModelingMarketing AnalyticsMachine LearningAnalyticsSQL']"
      ]
     },
     "execution_count": 21,
     "metadata": {},
     "output_type": "execute_result"
    }
   ],
   "source": [
    "full_job_description2"
   ]
  },
  {
   "cell_type": "code",
   "execution_count": 22,
   "metadata": {},
   "outputs": [
    {
     "data": {
      "text/html": [
       "<div>\n",
       "<style scoped>\n",
       "    .dataframe tbody tr th:only-of-type {\n",
       "        vertical-align: middle;\n",
       "    }\n",
       "\n",
       "    .dataframe tbody tr th {\n",
       "        vertical-align: top;\n",
       "    }\n",
       "\n",
       "    .dataframe thead th {\n",
       "        text-align: right;\n",
       "    }\n",
       "</style>\n",
       "<table border=\"1\" class=\"dataframe\">\n",
       "  <thead>\n",
       "    <tr style=\"text-align: right;\">\n",
       "      <th></th>\n",
       "      <th>Job Title</th>\n",
       "      <th>Job Location</th>\n",
       "      <th>Company Name</th>\n",
       "      <th>Job Description</th>\n",
       "    </tr>\n",
       "  </thead>\n",
       "  <tbody>\n",
       "    <tr>\n",
       "      <th>0</th>\n",
       "      <td>Data Scientist- Senior Business Analyst/Lead A...</td>\n",
       "      <td>Gurgaon/Gurugram, Bangalore/Bengaluru</td>\n",
       "      <td>Evalueserve.com Pvt. Ltd</td>\n",
       "      <td>Job description Job Description Understand and...</td>\n",
       "    </tr>\n",
       "    <tr>\n",
       "      <th>1</th>\n",
       "      <td>--</td>\n",
       "      <td>--</td>\n",
       "      <td>--</td>\n",
       "      <td>--</td>\n",
       "    </tr>\n",
       "    <tr>\n",
       "      <th>2</th>\n",
       "      <td>Senior/ Lead Data Scientist</td>\n",
       "      <td>Bangalore/Bengaluru</td>\n",
       "      <td>Superior Group</td>\n",
       "      <td>Job description Provide advanced analytical ca...</td>\n",
       "    </tr>\n",
       "    <tr>\n",
       "      <th>3</th>\n",
       "      <td>--</td>\n",
       "      <td>--</td>\n",
       "      <td>--</td>\n",
       "      <td>--</td>\n",
       "    </tr>\n",
       "    <tr>\n",
       "      <th>4</th>\n",
       "      <td>--</td>\n",
       "      <td>--</td>\n",
       "      <td>--</td>\n",
       "      <td>--</td>\n",
       "    </tr>\n",
       "    <tr>\n",
       "      <th>5</th>\n",
       "      <td>Senior Data Scientist</td>\n",
       "      <td>Bangalore/Bengaluru</td>\n",
       "      <td>Cognizer India Private Limited</td>\n",
       "      <td>Job description  Roles and Responsibilities St...</td>\n",
       "    </tr>\n",
       "    <tr>\n",
       "      <th>6</th>\n",
       "      <td>Lead Data Scientist</td>\n",
       "      <td>Bangalore/Bengaluru</td>\n",
       "      <td>Zycus Infotech Pvt Ltd</td>\n",
       "      <td>Job description Zycus is looking for applicant...</td>\n",
       "    </tr>\n",
       "    <tr>\n",
       "      <th>7</th>\n",
       "      <td>Lead Data Scientist</td>\n",
       "      <td>Bangalore/Bengaluru, Delhi / NCR, Mumbai (All ...</td>\n",
       "      <td>TransOrg Solutions Services (P) Ltd.</td>\n",
       "      <td>Job description Roles and Responsibilities  We...</td>\n",
       "    </tr>\n",
       "    <tr>\n",
       "      <th>8</th>\n",
       "      <td>Senior Data Scientist / Tech Lead - Data Science</td>\n",
       "      <td>Bangalore/Bengaluru, Delhi / NCR</td>\n",
       "      <td>Confidential</td>\n",
       "      <td>Job description Responsibilities - Lead a team...</td>\n",
       "    </tr>\n",
       "    <tr>\n",
       "      <th>9</th>\n",
       "      <td>Senior Data Scientist - KPO</td>\n",
       "      <td>Mumbai, Bangalore/Bengaluru, Delhi / NCR</td>\n",
       "      <td>TalentCo Search Pvt Ltd</td>\n",
       "      <td>Job description - Ability to understand a prob...</td>\n",
       "    </tr>\n",
       "  </tbody>\n",
       "</table>\n",
       "</div>"
      ],
      "text/plain": [
       "                                           Job Title  \\\n",
       "0  Data Scientist- Senior Business Analyst/Lead A...   \n",
       "1                                                 --   \n",
       "2                        Senior/ Lead Data Scientist   \n",
       "3                                                 --   \n",
       "4                                                 --   \n",
       "5                              Senior Data Scientist   \n",
       "6                                Lead Data Scientist   \n",
       "7                                Lead Data Scientist   \n",
       "8   Senior Data Scientist / Tech Lead - Data Science   \n",
       "9                        Senior Data Scientist - KPO   \n",
       "\n",
       "                                        Job Location  \\\n",
       "0              Gurgaon/Gurugram, Bangalore/Bengaluru   \n",
       "1                                                 --   \n",
       "2                                Bangalore/Bengaluru   \n",
       "3                                                 --   \n",
       "4                                                 --   \n",
       "5                                Bangalore/Bengaluru   \n",
       "6                                Bangalore/Bengaluru   \n",
       "7  Bangalore/Bengaluru, Delhi / NCR, Mumbai (All ...   \n",
       "8                   Bangalore/Bengaluru, Delhi / NCR   \n",
       "9           Mumbai, Bangalore/Bengaluru, Delhi / NCR   \n",
       "\n",
       "                           Company Name  \\\n",
       "0              Evalueserve.com Pvt. Ltd   \n",
       "1                                    --   \n",
       "2                        Superior Group   \n",
       "3                                    --   \n",
       "4                                    --   \n",
       "5        Cognizer India Private Limited   \n",
       "6                Zycus Infotech Pvt Ltd   \n",
       "7  TransOrg Solutions Services (P) Ltd.   \n",
       "8                          Confidential   \n",
       "9               TalentCo Search Pvt Ltd   \n",
       "\n",
       "                                     Job Description  \n",
       "0  Job description Job Description Understand and...  \n",
       "1                                                 --  \n",
       "2  Job description Provide advanced analytical ca...  \n",
       "3                                                 --  \n",
       "4                                                 --  \n",
       "5  Job description  Roles and Responsibilities St...  \n",
       "6  Job description Zycus is looking for applicant...  \n",
       "7  Job description Roles and Responsibilities  We...  \n",
       "8  Job description Responsibilities - Lead a team...  \n",
       "9  Job description - Ability to understand a prob...  "
      ]
     },
     "execution_count": 22,
     "metadata": {},
     "output_type": "execute_result"
    }
   ],
   "source": [
    "# make dataframe of above scraped data\n",
    "Data_Scientist=pd.DataFrame({})\n",
    "Data_Scientist['Job Title']=job_title2\n",
    "Data_Scientist['Job Location']=job_location2\n",
    "Data_Scientist['Company Name']=comapany_name2\n",
    "Data_Scientist['Job Description']=full_job_description2\n",
    "Data_Scientist"
   ]
  },
  {
   "cell_type": "markdown",
   "metadata": {},
   "source": [
    "## Q3: In this question you have to scrape data using the filters available on the webpage as shown below:"
   ]
  },
  {
   "cell_type": "code",
   "execution_count": 54,
   "metadata": {},
   "outputs": [
    {
     "data": {
      "text/plain": [
       "<selenium.webdriver.chrome.webdriver.WebDriver (session=\"4386b5232fa6ef67baa6ef36e433608f\")>"
      ]
     },
     "execution_count": 54,
     "metadata": {},
     "output_type": "execute_result"
    }
   ],
   "source": [
    "driver=webdriver.Chrome('chromedriver.exe')\n",
    "driver"
   ]
  },
  {
   "cell_type": "code",
   "execution_count": 3,
   "metadata": {},
   "outputs": [],
   "source": [
    "url='https://www.naukri.com/'\n",
    "driver.get(url)"
   ]
  },
  {
   "cell_type": "code",
   "execution_count": 5,
   "metadata": {},
   "outputs": [
    {
     "data": {
      "text/plain": [
       "<selenium.webdriver.remote.webelement.WebElement (session=\"304a863b4c71c43dc6f32041153a4182\", element=\"a7cc8745-c950-4a38-8d7e-4505cdf8cb89\")>"
      ]
     },
     "execution_count": 5,
     "metadata": {},
     "output_type": "execute_result"
    }
   ],
   "source": [
    "search_job=driver.find_element_by_xpath('//input[@class=\"sugInp\"]')\n",
    "search_job"
   ]
  },
  {
   "cell_type": "code",
   "execution_count": 6,
   "metadata": {},
   "outputs": [],
   "source": [
    "search_job.send_keys('Data Scientist')"
   ]
  },
  {
   "cell_type": "code",
   "execution_count": 7,
   "metadata": {},
   "outputs": [],
   "source": [
    "search_btn=driver.find_element_by_xpath('//button[@class=\"btn\"]')\n",
    "search_btn.click()"
   ]
  },
  {
   "cell_type": "code",
   "execution_count": 8,
   "metadata": {},
   "outputs": [],
   "source": [
    "location_filter=driver.find_element_by_xpath('/html/body/div[1]/div[3]/div[2]/section[1]/div[2]/div[3]/div[2]/div[3]/label/i')\n",
    "location_filter.click()"
   ]
  },
  {
   "cell_type": "code",
   "execution_count": 9,
   "metadata": {},
   "outputs": [],
   "source": [
    "salary_filter=driver.find_element_by_xpath('/html/body/div[1]/div[3]/div[2]/section[1]/div[2]/div[4]/div[2]/div[2]/label/i')\n",
    "salary_filter.click()"
   ]
  },
  {
   "cell_type": "code",
   "execution_count": 11,
   "metadata": {},
   "outputs": [
    {
     "data": {
      "text/plain": [
       "[<selenium.webdriver.remote.webelement.WebElement (session=\"304a863b4c71c43dc6f32041153a4182\", element=\"5d10737c-2a7a-478d-bdec-9637d1cb6590\")>,\n",
       " <selenium.webdriver.remote.webelement.WebElement (session=\"304a863b4c71c43dc6f32041153a4182\", element=\"1019db1f-cbbb-478e-a636-dba72274bd43\")>,\n",
       " <selenium.webdriver.remote.webelement.WebElement (session=\"304a863b4c71c43dc6f32041153a4182\", element=\"43673939-46c3-4c39-a569-0359e421670c\")>,\n",
       " <selenium.webdriver.remote.webelement.WebElement (session=\"304a863b4c71c43dc6f32041153a4182\", element=\"d7b3f17f-6da8-4d7b-a434-3639ef1579c8\")>,\n",
       " <selenium.webdriver.remote.webelement.WebElement (session=\"304a863b4c71c43dc6f32041153a4182\", element=\"eadfadc7-e05f-49da-a590-4c653b9d8d82\")>,\n",
       " <selenium.webdriver.remote.webelement.WebElement (session=\"304a863b4c71c43dc6f32041153a4182\", element=\"6aa28af1-6c65-423e-93c5-48f1e9b36552\")>,\n",
       " <selenium.webdriver.remote.webelement.WebElement (session=\"304a863b4c71c43dc6f32041153a4182\", element=\"e6f1a0d6-8de0-4086-8bd5-61f46d09921f\")>,\n",
       " <selenium.webdriver.remote.webelement.WebElement (session=\"304a863b4c71c43dc6f32041153a4182\", element=\"439a1ebd-5084-4803-be4e-e72e60fc15c4\")>,\n",
       " <selenium.webdriver.remote.webelement.WebElement (session=\"304a863b4c71c43dc6f32041153a4182\", element=\"c90f934c-ed24-4d18-a1b8-087399bb50b5\")>,\n",
       " <selenium.webdriver.remote.webelement.WebElement (session=\"304a863b4c71c43dc6f32041153a4182\", element=\"be89616e-6c17-4b21-b1b9-5f703dc290fc\")>,\n",
       " <selenium.webdriver.remote.webelement.WebElement (session=\"304a863b4c71c43dc6f32041153a4182\", element=\"b3fe4a55-8321-4e63-9339-a47d88e6a41c\")>,\n",
       " <selenium.webdriver.remote.webelement.WebElement (session=\"304a863b4c71c43dc6f32041153a4182\", element=\"71744cdf-36bb-4f05-a50d-d2e8ee8e3195\")>,\n",
       " <selenium.webdriver.remote.webelement.WebElement (session=\"304a863b4c71c43dc6f32041153a4182\", element=\"13180ec7-a1ba-465a-a2df-acf58682591f\")>,\n",
       " <selenium.webdriver.remote.webelement.WebElement (session=\"304a863b4c71c43dc6f32041153a4182\", element=\"83328320-1deb-44df-95a1-1c30b22723a5\")>,\n",
       " <selenium.webdriver.remote.webelement.WebElement (session=\"304a863b4c71c43dc6f32041153a4182\", element=\"184d7f8d-a8ad-45ea-ba21-2f689bba8bbb\")>,\n",
       " <selenium.webdriver.remote.webelement.WebElement (session=\"304a863b4c71c43dc6f32041153a4182\", element=\"0909955c-3993-4204-b527-de008cd2f2c7\")>,\n",
       " <selenium.webdriver.remote.webelement.WebElement (session=\"304a863b4c71c43dc6f32041153a4182\", element=\"48542d4f-c5b2-41b0-8c88-4e9dde42c33c\")>,\n",
       " <selenium.webdriver.remote.webelement.WebElement (session=\"304a863b4c71c43dc6f32041153a4182\", element=\"1e68bf17-1b20-4336-904d-6a32b741a1c9\")>,\n",
       " <selenium.webdriver.remote.webelement.WebElement (session=\"304a863b4c71c43dc6f32041153a4182\", element=\"7b37f509-6ff3-4239-bb28-c18408ed0c85\")>,\n",
       " <selenium.webdriver.remote.webelement.WebElement (session=\"304a863b4c71c43dc6f32041153a4182\", element=\"4ebcee09-8017-4849-b23e-b20afdfda773\")>]"
      ]
     },
     "execution_count": 11,
     "metadata": {},
     "output_type": "execute_result"
    }
   ],
   "source": [
    "# now scrap Job_title of data scientist\n",
    "search_scientist=driver.find_elements_by_xpath('//a[@class=\"title fw500 ellipsis\"]')\n",
    "search_scientist"
   ]
  },
  {
   "cell_type": "code",
   "execution_count": 12,
   "metadata": {},
   "outputs": [
    {
     "data": {
      "text/plain": [
       "['Data Scientist / Sr. Data Scientist',\n",
       " 'Immediate Openings For DATA Scientist with 6 To 7 yrs of Experience',\n",
       " 'Only Fresher / Data Scientist / Data Analyst / Analytics - MNC Jobs',\n",
       " 'Senior Data Scientist - Noida',\n",
       " 'Data Scientist / Data Analyst',\n",
       " 'Data Scientist',\n",
       " 'Senior Data Scientist',\n",
       " 'Data Scientist',\n",
       " 'Data Scientist - Machine Learning/NLP',\n",
       " 'Data Scientist - Machine Learning/NLP']"
      ]
     },
     "execution_count": 12,
     "metadata": {},
     "output_type": "execute_result"
    }
   ],
   "source": [
    "#  now we get exact content\n",
    "search_scientist_2=[]  \n",
    "for i in search_scientist:\n",
    "    search_scientist_2.append(i.text)\n",
    "search_scientist_2\n",
    "job_title_3=search_scientist_2[:10]\n",
    "job_title_3"
   ]
  },
  {
   "cell_type": "code",
   "execution_count": 20,
   "metadata": {},
   "outputs": [
    {
     "data": {
      "text/plain": [
       "[<selenium.webdriver.remote.webelement.WebElement (session=\"304a863b4c71c43dc6f32041153a4182\", element=\"159b4286-bfc4-4df8-af39-91c7c8f7e2b9\")>,\n",
       " <selenium.webdriver.remote.webelement.WebElement (session=\"304a863b4c71c43dc6f32041153a4182\", element=\"b488d71e-f4ba-4328-bee7-8e050902f912\")>,\n",
       " <selenium.webdriver.remote.webelement.WebElement (session=\"304a863b4c71c43dc6f32041153a4182\", element=\"a1dea581-27b5-4db5-84a0-89bc16abb1ba\")>,\n",
       " <selenium.webdriver.remote.webelement.WebElement (session=\"304a863b4c71c43dc6f32041153a4182\", element=\"a57ac22e-01f5-489e-881c-4856fac876fa\")>,\n",
       " <selenium.webdriver.remote.webelement.WebElement (session=\"304a863b4c71c43dc6f32041153a4182\", element=\"080ca12f-2c6a-4621-a51b-f20b9c661c97\")>,\n",
       " <selenium.webdriver.remote.webelement.WebElement (session=\"304a863b4c71c43dc6f32041153a4182\", element=\"200e0862-3f5a-4899-a771-640104507136\")>,\n",
       " <selenium.webdriver.remote.webelement.WebElement (session=\"304a863b4c71c43dc6f32041153a4182\", element=\"947e8ea1-fa3c-42fd-a3cf-56af51df08e8\")>,\n",
       " <selenium.webdriver.remote.webelement.WebElement (session=\"304a863b4c71c43dc6f32041153a4182\", element=\"b050fa12-810b-4e82-85df-4bbd67fa7346\")>,\n",
       " <selenium.webdriver.remote.webelement.WebElement (session=\"304a863b4c71c43dc6f32041153a4182\", element=\"34c7e941-b112-446c-9309-479a1186c75f\")>,\n",
       " <selenium.webdriver.remote.webelement.WebElement (session=\"304a863b4c71c43dc6f32041153a4182\", element=\"751d6743-b338-4b4a-a8f7-533579d7ea2e\")>,\n",
       " <selenium.webdriver.remote.webelement.WebElement (session=\"304a863b4c71c43dc6f32041153a4182\", element=\"ffd49922-885e-4d87-8b4d-5f74f2921e8f\")>,\n",
       " <selenium.webdriver.remote.webelement.WebElement (session=\"304a863b4c71c43dc6f32041153a4182\", element=\"acc6d739-231a-4ae8-a01e-2b6213dcca1b\")>,\n",
       " <selenium.webdriver.remote.webelement.WebElement (session=\"304a863b4c71c43dc6f32041153a4182\", element=\"5de03140-e507-44f2-9090-05e856bd50a4\")>,\n",
       " <selenium.webdriver.remote.webelement.WebElement (session=\"304a863b4c71c43dc6f32041153a4182\", element=\"530b6292-eacd-4b36-a05a-5815671e5550\")>,\n",
       " <selenium.webdriver.remote.webelement.WebElement (session=\"304a863b4c71c43dc6f32041153a4182\", element=\"11cdbde1-9ddf-46fb-ab5b-01cb80a4e86b\")>,\n",
       " <selenium.webdriver.remote.webelement.WebElement (session=\"304a863b4c71c43dc6f32041153a4182\", element=\"179d0ef8-94ce-406c-9bfd-80e542dadeeb\")>,\n",
       " <selenium.webdriver.remote.webelement.WebElement (session=\"304a863b4c71c43dc6f32041153a4182\", element=\"fac245ae-fac4-493a-98e6-3d6fc1bb6f09\")>,\n",
       " <selenium.webdriver.remote.webelement.WebElement (session=\"304a863b4c71c43dc6f32041153a4182\", element=\"ac4fe069-d947-473c-b6c1-8b5b6df829c4\")>,\n",
       " <selenium.webdriver.remote.webelement.WebElement (session=\"304a863b4c71c43dc6f32041153a4182\", element=\"26e0e99b-ec74-4da1-9b60-d707fda42aa1\")>,\n",
       " <selenium.webdriver.remote.webelement.WebElement (session=\"304a863b4c71c43dc6f32041153a4182\", element=\"51606d22-388f-4629-a5d7-32ef96beb442\")>,\n",
       " <selenium.webdriver.remote.webelement.WebElement (session=\"304a863b4c71c43dc6f32041153a4182\", element=\"9056936f-6526-4333-a623-3d3b24c66095\")>,\n",
       " <selenium.webdriver.remote.webelement.WebElement (session=\"304a863b4c71c43dc6f32041153a4182\", element=\"e27e9e74-3506-4da6-9ef9-bbf8c8d5bcbe\")>,\n",
       " <selenium.webdriver.remote.webelement.WebElement (session=\"304a863b4c71c43dc6f32041153a4182\", element=\"62ed187d-dcc4-4eeb-8fe9-d4021142bae9\")>,\n",
       " <selenium.webdriver.remote.webelement.WebElement (session=\"304a863b4c71c43dc6f32041153a4182\", element=\"7588423a-32b5-4ce6-bcbc-f9cabfb5e93b\")>,\n",
       " <selenium.webdriver.remote.webelement.WebElement (session=\"304a863b4c71c43dc6f32041153a4182\", element=\"6bfbd790-e3cc-403b-9acf-8b9b2bb9b744\")>,\n",
       " <selenium.webdriver.remote.webelement.WebElement (session=\"304a863b4c71c43dc6f32041153a4182\", element=\"ea3e5237-f75f-4fc8-b90d-a3fad2dc86d0\")>,\n",
       " <selenium.webdriver.remote.webelement.WebElement (session=\"304a863b4c71c43dc6f32041153a4182\", element=\"e479a980-93be-4d3e-b533-a2e2375ee6d4\")>,\n",
       " <selenium.webdriver.remote.webelement.WebElement (session=\"304a863b4c71c43dc6f32041153a4182\", element=\"ef93d116-f462-48f6-a5e9-67052e2769b9\")>,\n",
       " <selenium.webdriver.remote.webelement.WebElement (session=\"304a863b4c71c43dc6f32041153a4182\", element=\"21d7f40b-93e5-4b75-bd66-ed88f3d28d16\")>,\n",
       " <selenium.webdriver.remote.webelement.WebElement (session=\"304a863b4c71c43dc6f32041153a4182\", element=\"da456216-6fd9-4d29-ab00-b0db8b924473\")>,\n",
       " <selenium.webdriver.remote.webelement.WebElement (session=\"304a863b4c71c43dc6f32041153a4182\", element=\"d70a344b-1cde-450b-a457-1de33164f246\")>,\n",
       " <selenium.webdriver.remote.webelement.WebElement (session=\"304a863b4c71c43dc6f32041153a4182\", element=\"b497ff1c-c270-40a0-bd08-e15d80cbfe91\")>,\n",
       " <selenium.webdriver.remote.webelement.WebElement (session=\"304a863b4c71c43dc6f32041153a4182\", element=\"86963df1-8038-408f-8ccf-789896a9bb3e\")>,\n",
       " <selenium.webdriver.remote.webelement.WebElement (session=\"304a863b4c71c43dc6f32041153a4182\", element=\"4b53f3f8-8b93-4dbb-b8b2-1452b6514cc2\")>,\n",
       " <selenium.webdriver.remote.webelement.WebElement (session=\"304a863b4c71c43dc6f32041153a4182\", element=\"4886b9f1-5723-4920-9374-c0187f0be5cf\")>,\n",
       " <selenium.webdriver.remote.webelement.WebElement (session=\"304a863b4c71c43dc6f32041153a4182\", element=\"7a15f9f0-2bdc-4309-b827-487652b65f22\")>,\n",
       " <selenium.webdriver.remote.webelement.WebElement (session=\"304a863b4c71c43dc6f32041153a4182\", element=\"38af6edf-249c-435f-9aee-92f5bfb04b46\")>,\n",
       " <selenium.webdriver.remote.webelement.WebElement (session=\"304a863b4c71c43dc6f32041153a4182\", element=\"2ed4c9f6-b465-42e7-847e-5e1a35e3fd4b\")>,\n",
       " <selenium.webdriver.remote.webelement.WebElement (session=\"304a863b4c71c43dc6f32041153a4182\", element=\"74d95b76-99df-4400-ae52-21636ef445e6\")>,\n",
       " <selenium.webdriver.remote.webelement.WebElement (session=\"304a863b4c71c43dc6f32041153a4182\", element=\"25b00fd6-b489-4169-bd5d-42be8e344905\")>,\n",
       " <selenium.webdriver.remote.webelement.WebElement (session=\"304a863b4c71c43dc6f32041153a4182\", element=\"d79ebc7b-e449-46f3-8f0a-c8f01a4d639e\")>,\n",
       " <selenium.webdriver.remote.webelement.WebElement (session=\"304a863b4c71c43dc6f32041153a4182\", element=\"d2780525-9dba-44fa-b021-1922f7b60762\")>,\n",
       " <selenium.webdriver.remote.webelement.WebElement (session=\"304a863b4c71c43dc6f32041153a4182\", element=\"bc8cffdd-8628-44bb-a240-187e469b0597\")>,\n",
       " <selenium.webdriver.remote.webelement.WebElement (session=\"304a863b4c71c43dc6f32041153a4182\", element=\"95a25427-5979-4e0b-bc79-4437b7f3c0b4\")>,\n",
       " <selenium.webdriver.remote.webelement.WebElement (session=\"304a863b4c71c43dc6f32041153a4182\", element=\"c8273ee7-95d4-4532-a818-15dad8eb0b22\")>,\n",
       " <selenium.webdriver.remote.webelement.WebElement (session=\"304a863b4c71c43dc6f32041153a4182\", element=\"df012fb7-be7d-40be-bdea-7b139fe57bb3\")>,\n",
       " <selenium.webdriver.remote.webelement.WebElement (session=\"304a863b4c71c43dc6f32041153a4182\", element=\"7af6fdc7-be16-4da7-8451-19b9157984d7\")>,\n",
       " <selenium.webdriver.remote.webelement.WebElement (session=\"304a863b4c71c43dc6f32041153a4182\", element=\"36997a34-4bc5-4560-af23-47c3362ac7e7\")>,\n",
       " <selenium.webdriver.remote.webelement.WebElement (session=\"304a863b4c71c43dc6f32041153a4182\", element=\"6ae0602f-59b7-4993-86f5-c3be753d5e80\")>,\n",
       " <selenium.webdriver.remote.webelement.WebElement (session=\"304a863b4c71c43dc6f32041153a4182\", element=\"78d34d14-c5b7-4b63-a25b-a6ce59747636\")>]"
      ]
     },
     "execution_count": 20,
     "metadata": {},
     "output_type": "execute_result"
    }
   ],
   "source": [
    "# now scrap job_location\n",
    "job_location=driver.find_elements_by_xpath('//span[@class=\"ellipsis fleft fs12 lh16 \"]')\n",
    "job_location"
   ]
  },
  {
   "cell_type": "code",
   "execution_count": 33,
   "metadata": {},
   "outputs": [
    {
     "data": {
      "text/plain": [
       "['Noida, Pune, Mumbai (All Areas)',\n",
       " 'Noida, Gurgaon/Gurugram, Delhi / NCR',\n",
       " 'Noida',\n",
       " 'Gurgaon/Gurugram',\n",
       " 'Gurgaon/Gurugram',\n",
       " 'Hyderabad/Secunderabad, Gurgaon/Gurugram, Bangalore/Bengaluru',\n",
       " 'Noida(Sector-59 Noida)',\n",
       " 'Gurgaon/Gurugram',\n",
       " 'Gurgaon/Gurugram',\n",
       " 'Chandigarh, Hyderabad/Secunderabad, Chennai, Bangalore/Bengaluru, Delhi / NCR']"
      ]
     },
     "execution_count": 33,
     "metadata": {},
     "output_type": "execute_result"
    }
   ],
   "source": [
    "#  now we get exact content\n",
    "job_location_2=[]  \n",
    "for i in job_location:\n",
    "    job_location_2.append(i.text)\n",
    "job_location_2\n",
    "job_location3=job_location_2[2:]\n",
    "job_location3.remove('0-0 Yrs')\n",
    "job_location3\n",
    "# use range function to select only location\n",
    "final_job_location3=[]\n",
    "for i in range(0,len(job_location3),3):\n",
    "               final_job_location3.append(job_location3[i])\n",
    "final_job_location4=final_job_location3[:10]\n",
    "final_job_location4"
   ]
  },
  {
   "cell_type": "code",
   "execution_count": 36,
   "metadata": {},
   "outputs": [
    {
     "data": {
      "text/plain": [
       "[<selenium.webdriver.remote.webelement.WebElement (session=\"304a863b4c71c43dc6f32041153a4182\", element=\"e55a2e52-eef7-43e3-8e38-8ab928e77d53\")>,\n",
       " <selenium.webdriver.remote.webelement.WebElement (session=\"304a863b4c71c43dc6f32041153a4182\", element=\"d0d8de92-1659-43b3-9567-8f34b7f01f70\")>,\n",
       " <selenium.webdriver.remote.webelement.WebElement (session=\"304a863b4c71c43dc6f32041153a4182\", element=\"c439b688-7a29-4a30-812d-a5fc80c495ec\")>,\n",
       " <selenium.webdriver.remote.webelement.WebElement (session=\"304a863b4c71c43dc6f32041153a4182\", element=\"7dacd8e3-61a4-493d-92b8-94bf24aa70b7\")>,\n",
       " <selenium.webdriver.remote.webelement.WebElement (session=\"304a863b4c71c43dc6f32041153a4182\", element=\"3b860e1e-16db-4c9e-9492-fe903785b270\")>,\n",
       " <selenium.webdriver.remote.webelement.WebElement (session=\"304a863b4c71c43dc6f32041153a4182\", element=\"c3203491-90fe-4c67-b39d-fd3993aacc57\")>,\n",
       " <selenium.webdriver.remote.webelement.WebElement (session=\"304a863b4c71c43dc6f32041153a4182\", element=\"d1504fa7-5449-44e7-8b68-8ea2dbfd55bf\")>,\n",
       " <selenium.webdriver.remote.webelement.WebElement (session=\"304a863b4c71c43dc6f32041153a4182\", element=\"73f04b10-06c8-4f54-8544-404034850cb8\")>,\n",
       " <selenium.webdriver.remote.webelement.WebElement (session=\"304a863b4c71c43dc6f32041153a4182\", element=\"5cc8200f-94d2-475f-b5dd-37af8aa96d20\")>,\n",
       " <selenium.webdriver.remote.webelement.WebElement (session=\"304a863b4c71c43dc6f32041153a4182\", element=\"3e378ad0-443a-43cc-92c8-5801694115de\")>,\n",
       " <selenium.webdriver.remote.webelement.WebElement (session=\"304a863b4c71c43dc6f32041153a4182\", element=\"2b2df7fc-d94f-4789-995f-a5fceeac4365\")>,\n",
       " <selenium.webdriver.remote.webelement.WebElement (session=\"304a863b4c71c43dc6f32041153a4182\", element=\"0a44a095-2189-4652-834b-39316bba9363\")>,\n",
       " <selenium.webdriver.remote.webelement.WebElement (session=\"304a863b4c71c43dc6f32041153a4182\", element=\"7cdbbf3c-9e11-44a9-82d1-f32c5190b91c\")>,\n",
       " <selenium.webdriver.remote.webelement.WebElement (session=\"304a863b4c71c43dc6f32041153a4182\", element=\"13803ac6-e910-4e04-8348-15db68a8dffd\")>,\n",
       " <selenium.webdriver.remote.webelement.WebElement (session=\"304a863b4c71c43dc6f32041153a4182\", element=\"dbfe21cf-ddab-42bd-8ce6-580935ec4472\")>,\n",
       " <selenium.webdriver.remote.webelement.WebElement (session=\"304a863b4c71c43dc6f32041153a4182\", element=\"ceed9b5b-0a40-4166-8b8b-71b49f458305\")>,\n",
       " <selenium.webdriver.remote.webelement.WebElement (session=\"304a863b4c71c43dc6f32041153a4182\", element=\"9477de08-bd42-4471-9b14-c98755c615eb\")>,\n",
       " <selenium.webdriver.remote.webelement.WebElement (session=\"304a863b4c71c43dc6f32041153a4182\", element=\"c79e40d1-1ecc-4625-8e73-e68866cfaba5\")>,\n",
       " <selenium.webdriver.remote.webelement.WebElement (session=\"304a863b4c71c43dc6f32041153a4182\", element=\"7f40d610-8146-4355-9ca4-ad521da6cf3f\")>,\n",
       " <selenium.webdriver.remote.webelement.WebElement (session=\"304a863b4c71c43dc6f32041153a4182\", element=\"382acb3d-dbb7-47c8-8dd8-ff3dc6c58339\")>]"
      ]
     },
     "execution_count": 36,
     "metadata": {},
     "output_type": "execute_result"
    }
   ],
   "source": [
    "# comapny_name\n",
    "search_company=driver.find_elements_by_xpath('//a[@class=\"subTitle ellipsis fleft\"]')\n",
    "search_company"
   ]
  },
  {
   "cell_type": "code",
   "execution_count": 37,
   "metadata": {},
   "outputs": [
    {
     "data": {
      "text/plain": [
       "['WEGARNER SOLUTIONS PRIVATE LIMITED',\n",
       " 'Entune IT Consulting Private Limited',\n",
       " 'GABA Consultancy services',\n",
       " 'Optum Global Solutions (India) Private Limited',\n",
       " 'CARS24',\n",
       " 'Decimal Technologies Pvt Ltd.',\n",
       " 'inVentiv International Pharma Services Pvt. Ltd.',\n",
       " 'R Systems International Ltd.',\n",
       " 'TalPro',\n",
       " 'TalPro']"
      ]
     },
     "execution_count": 37,
     "metadata": {},
     "output_type": "execute_result"
    }
   ],
   "source": [
    "search_company_2=[]  \n",
    "for i in search_company:\n",
    "    search_company_2.append(i.text)\n",
    "search_company_2\n",
    "search_company_3=search_company_2[:10]\n",
    "search_company_3"
   ]
  },
  {
   "cell_type": "code",
   "execution_count": 43,
   "metadata": {},
   "outputs": [
    {
     "data": {
      "text/plain": [
       "[<selenium.webdriver.remote.webelement.WebElement (session=\"304a863b4c71c43dc6f32041153a4182\", element=\"159b4286-bfc4-4df8-af39-91c7c8f7e2b9\")>,\n",
       " <selenium.webdriver.remote.webelement.WebElement (session=\"304a863b4c71c43dc6f32041153a4182\", element=\"b488d71e-f4ba-4328-bee7-8e050902f912\")>,\n",
       " <selenium.webdriver.remote.webelement.WebElement (session=\"304a863b4c71c43dc6f32041153a4182\", element=\"a1dea581-27b5-4db5-84a0-89bc16abb1ba\")>,\n",
       " <selenium.webdriver.remote.webelement.WebElement (session=\"304a863b4c71c43dc6f32041153a4182\", element=\"a57ac22e-01f5-489e-881c-4856fac876fa\")>,\n",
       " <selenium.webdriver.remote.webelement.WebElement (session=\"304a863b4c71c43dc6f32041153a4182\", element=\"080ca12f-2c6a-4621-a51b-f20b9c661c97\")>,\n",
       " <selenium.webdriver.remote.webelement.WebElement (session=\"304a863b4c71c43dc6f32041153a4182\", element=\"200e0862-3f5a-4899-a771-640104507136\")>,\n",
       " <selenium.webdriver.remote.webelement.WebElement (session=\"304a863b4c71c43dc6f32041153a4182\", element=\"947e8ea1-fa3c-42fd-a3cf-56af51df08e8\")>,\n",
       " <selenium.webdriver.remote.webelement.WebElement (session=\"304a863b4c71c43dc6f32041153a4182\", element=\"b050fa12-810b-4e82-85df-4bbd67fa7346\")>,\n",
       " <selenium.webdriver.remote.webelement.WebElement (session=\"304a863b4c71c43dc6f32041153a4182\", element=\"34c7e941-b112-446c-9309-479a1186c75f\")>,\n",
       " <selenium.webdriver.remote.webelement.WebElement (session=\"304a863b4c71c43dc6f32041153a4182\", element=\"751d6743-b338-4b4a-a8f7-533579d7ea2e\")>,\n",
       " <selenium.webdriver.remote.webelement.WebElement (session=\"304a863b4c71c43dc6f32041153a4182\", element=\"ffd49922-885e-4d87-8b4d-5f74f2921e8f\")>,\n",
       " <selenium.webdriver.remote.webelement.WebElement (session=\"304a863b4c71c43dc6f32041153a4182\", element=\"acc6d739-231a-4ae8-a01e-2b6213dcca1b\")>,\n",
       " <selenium.webdriver.remote.webelement.WebElement (session=\"304a863b4c71c43dc6f32041153a4182\", element=\"5de03140-e507-44f2-9090-05e856bd50a4\")>,\n",
       " <selenium.webdriver.remote.webelement.WebElement (session=\"304a863b4c71c43dc6f32041153a4182\", element=\"530b6292-eacd-4b36-a05a-5815671e5550\")>,\n",
       " <selenium.webdriver.remote.webelement.WebElement (session=\"304a863b4c71c43dc6f32041153a4182\", element=\"11cdbde1-9ddf-46fb-ab5b-01cb80a4e86b\")>,\n",
       " <selenium.webdriver.remote.webelement.WebElement (session=\"304a863b4c71c43dc6f32041153a4182\", element=\"179d0ef8-94ce-406c-9bfd-80e542dadeeb\")>,\n",
       " <selenium.webdriver.remote.webelement.WebElement (session=\"304a863b4c71c43dc6f32041153a4182\", element=\"fac245ae-fac4-493a-98e6-3d6fc1bb6f09\")>,\n",
       " <selenium.webdriver.remote.webelement.WebElement (session=\"304a863b4c71c43dc6f32041153a4182\", element=\"ac4fe069-d947-473c-b6c1-8b5b6df829c4\")>,\n",
       " <selenium.webdriver.remote.webelement.WebElement (session=\"304a863b4c71c43dc6f32041153a4182\", element=\"26e0e99b-ec74-4da1-9b60-d707fda42aa1\")>,\n",
       " <selenium.webdriver.remote.webelement.WebElement (session=\"304a863b4c71c43dc6f32041153a4182\", element=\"51606d22-388f-4629-a5d7-32ef96beb442\")>,\n",
       " <selenium.webdriver.remote.webelement.WebElement (session=\"304a863b4c71c43dc6f32041153a4182\", element=\"9056936f-6526-4333-a623-3d3b24c66095\")>,\n",
       " <selenium.webdriver.remote.webelement.WebElement (session=\"304a863b4c71c43dc6f32041153a4182\", element=\"e27e9e74-3506-4da6-9ef9-bbf8c8d5bcbe\")>,\n",
       " <selenium.webdriver.remote.webelement.WebElement (session=\"304a863b4c71c43dc6f32041153a4182\", element=\"62ed187d-dcc4-4eeb-8fe9-d4021142bae9\")>,\n",
       " <selenium.webdriver.remote.webelement.WebElement (session=\"304a863b4c71c43dc6f32041153a4182\", element=\"7588423a-32b5-4ce6-bcbc-f9cabfb5e93b\")>,\n",
       " <selenium.webdriver.remote.webelement.WebElement (session=\"304a863b4c71c43dc6f32041153a4182\", element=\"6bfbd790-e3cc-403b-9acf-8b9b2bb9b744\")>,\n",
       " <selenium.webdriver.remote.webelement.WebElement (session=\"304a863b4c71c43dc6f32041153a4182\", element=\"ea3e5237-f75f-4fc8-b90d-a3fad2dc86d0\")>,\n",
       " <selenium.webdriver.remote.webelement.WebElement (session=\"304a863b4c71c43dc6f32041153a4182\", element=\"e479a980-93be-4d3e-b533-a2e2375ee6d4\")>,\n",
       " <selenium.webdriver.remote.webelement.WebElement (session=\"304a863b4c71c43dc6f32041153a4182\", element=\"ef93d116-f462-48f6-a5e9-67052e2769b9\")>,\n",
       " <selenium.webdriver.remote.webelement.WebElement (session=\"304a863b4c71c43dc6f32041153a4182\", element=\"21d7f40b-93e5-4b75-bd66-ed88f3d28d16\")>,\n",
       " <selenium.webdriver.remote.webelement.WebElement (session=\"304a863b4c71c43dc6f32041153a4182\", element=\"da456216-6fd9-4d29-ab00-b0db8b924473\")>,\n",
       " <selenium.webdriver.remote.webelement.WebElement (session=\"304a863b4c71c43dc6f32041153a4182\", element=\"d70a344b-1cde-450b-a457-1de33164f246\")>,\n",
       " <selenium.webdriver.remote.webelement.WebElement (session=\"304a863b4c71c43dc6f32041153a4182\", element=\"b497ff1c-c270-40a0-bd08-e15d80cbfe91\")>,\n",
       " <selenium.webdriver.remote.webelement.WebElement (session=\"304a863b4c71c43dc6f32041153a4182\", element=\"86963df1-8038-408f-8ccf-789896a9bb3e\")>,\n",
       " <selenium.webdriver.remote.webelement.WebElement (session=\"304a863b4c71c43dc6f32041153a4182\", element=\"4b53f3f8-8b93-4dbb-b8b2-1452b6514cc2\")>,\n",
       " <selenium.webdriver.remote.webelement.WebElement (session=\"304a863b4c71c43dc6f32041153a4182\", element=\"4886b9f1-5723-4920-9374-c0187f0be5cf\")>,\n",
       " <selenium.webdriver.remote.webelement.WebElement (session=\"304a863b4c71c43dc6f32041153a4182\", element=\"7a15f9f0-2bdc-4309-b827-487652b65f22\")>,\n",
       " <selenium.webdriver.remote.webelement.WebElement (session=\"304a863b4c71c43dc6f32041153a4182\", element=\"38af6edf-249c-435f-9aee-92f5bfb04b46\")>,\n",
       " <selenium.webdriver.remote.webelement.WebElement (session=\"304a863b4c71c43dc6f32041153a4182\", element=\"2ed4c9f6-b465-42e7-847e-5e1a35e3fd4b\")>,\n",
       " <selenium.webdriver.remote.webelement.WebElement (session=\"304a863b4c71c43dc6f32041153a4182\", element=\"74d95b76-99df-4400-ae52-21636ef445e6\")>,\n",
       " <selenium.webdriver.remote.webelement.WebElement (session=\"304a863b4c71c43dc6f32041153a4182\", element=\"25b00fd6-b489-4169-bd5d-42be8e344905\")>,\n",
       " <selenium.webdriver.remote.webelement.WebElement (session=\"304a863b4c71c43dc6f32041153a4182\", element=\"d79ebc7b-e449-46f3-8f0a-c8f01a4d639e\")>,\n",
       " <selenium.webdriver.remote.webelement.WebElement (session=\"304a863b4c71c43dc6f32041153a4182\", element=\"d2780525-9dba-44fa-b021-1922f7b60762\")>,\n",
       " <selenium.webdriver.remote.webelement.WebElement (session=\"304a863b4c71c43dc6f32041153a4182\", element=\"bc8cffdd-8628-44bb-a240-187e469b0597\")>,\n",
       " <selenium.webdriver.remote.webelement.WebElement (session=\"304a863b4c71c43dc6f32041153a4182\", element=\"95a25427-5979-4e0b-bc79-4437b7f3c0b4\")>,\n",
       " <selenium.webdriver.remote.webelement.WebElement (session=\"304a863b4c71c43dc6f32041153a4182\", element=\"c8273ee7-95d4-4532-a818-15dad8eb0b22\")>,\n",
       " <selenium.webdriver.remote.webelement.WebElement (session=\"304a863b4c71c43dc6f32041153a4182\", element=\"df012fb7-be7d-40be-bdea-7b139fe57bb3\")>,\n",
       " <selenium.webdriver.remote.webelement.WebElement (session=\"304a863b4c71c43dc6f32041153a4182\", element=\"7af6fdc7-be16-4da7-8451-19b9157984d7\")>,\n",
       " <selenium.webdriver.remote.webelement.WebElement (session=\"304a863b4c71c43dc6f32041153a4182\", element=\"36997a34-4bc5-4560-af23-47c3362ac7e7\")>,\n",
       " <selenium.webdriver.remote.webelement.WebElement (session=\"304a863b4c71c43dc6f32041153a4182\", element=\"6ae0602f-59b7-4993-86f5-c3be753d5e80\")>,\n",
       " <selenium.webdriver.remote.webelement.WebElement (session=\"304a863b4c71c43dc6f32041153a4182\", element=\"78d34d14-c5b7-4b63-a25b-a6ce59747636\")>]"
      ]
     },
     "execution_count": 43,
     "metadata": {},
     "output_type": "execute_result"
    }
   ],
   "source": [
    "# experience required\n",
    "search_experience=driver.find_elements_by_xpath('//span[@class=\"ellipsis fleft fs12 lh16 \"]')\n",
    "search_experience"
   ]
  },
  {
   "cell_type": "code",
   "execution_count": 49,
   "metadata": {},
   "outputs": [
    {
     "data": {
      "text/plain": [
       "['0-5 Yrs',\n",
       " '0-0 Yrs',\n",
       " '2-6 Yrs',\n",
       " '1-5 Yrs',\n",
       " '1-3 Yrs',\n",
       " '3-6 Yrs',\n",
       " '5-10 Yrs',\n",
       " '2-6 Yrs',\n",
       " '2-4 Yrs',\n",
       " '5-10 Yrs']"
      ]
     },
     "execution_count": 49,
     "metadata": {},
     "output_type": "execute_result"
    }
   ],
   "source": [
    "search_experience_2=[]  \n",
    "for i in search_experience:\n",
    "    search_experience_2.append(i.text)\n",
    "search_experience_2\n",
    "del search_experience_2[2]\n",
    "search_experience_2\n",
    "\n",
    "# use range function to select only location\n",
    "search_experience3=[]\n",
    "for i in range(0,len(search_experience_2),3):\n",
    "               search_experience3.append(search_experience_2[i])\n",
    "final_job_experience=search_experience3[:10]\n",
    "final_job_experience"
   ]
  },
  {
   "cell_type": "code",
   "execution_count": 50,
   "metadata": {},
   "outputs": [
    {
     "data": {
      "text/plain": [
       "(10, 10, 10, 10)"
      ]
     },
     "execution_count": 50,
     "metadata": {},
     "output_type": "execute_result"
    }
   ],
   "source": [
    "len(final_job_experience),len(search_company_3),len(final_job_location4),len(job_title_3)"
   ]
  },
  {
   "cell_type": "code",
   "execution_count": 51,
   "metadata": {},
   "outputs": [
    {
     "data": {
      "text/html": [
       "<div>\n",
       "<style scoped>\n",
       "    .dataframe tbody tr th:only-of-type {\n",
       "        vertical-align: middle;\n",
       "    }\n",
       "\n",
       "    .dataframe tbody tr th {\n",
       "        vertical-align: top;\n",
       "    }\n",
       "\n",
       "    .dataframe thead th {\n",
       "        text-align: right;\n",
       "    }\n",
       "</style>\n",
       "<table border=\"1\" class=\"dataframe\">\n",
       "  <thead>\n",
       "    <tr style=\"text-align: right;\">\n",
       "      <th></th>\n",
       "      <th>Job Title</th>\n",
       "      <th>Job Location</th>\n",
       "      <th>Comapny Name</th>\n",
       "      <th>Experience</th>\n",
       "    </tr>\n",
       "  </thead>\n",
       "  <tbody>\n",
       "    <tr>\n",
       "      <th>0</th>\n",
       "      <td>Data Scientist / Sr. Data Scientist</td>\n",
       "      <td>Noida, Pune, Mumbai (All Areas)</td>\n",
       "      <td>WEGARNER SOLUTIONS PRIVATE LIMITED</td>\n",
       "      <td>0-5 Yrs</td>\n",
       "    </tr>\n",
       "    <tr>\n",
       "      <th>1</th>\n",
       "      <td>Immediate Openings For DATA Scientist with 6 T...</td>\n",
       "      <td>Noida, Gurgaon/Gurugram, Delhi / NCR</td>\n",
       "      <td>Entune IT Consulting Private Limited</td>\n",
       "      <td>0-0 Yrs</td>\n",
       "    </tr>\n",
       "    <tr>\n",
       "      <th>2</th>\n",
       "      <td>Only Fresher / Data Scientist / Data Analyst /...</td>\n",
       "      <td>Noida</td>\n",
       "      <td>GABA Consultancy services</td>\n",
       "      <td>2-6 Yrs</td>\n",
       "    </tr>\n",
       "    <tr>\n",
       "      <th>3</th>\n",
       "      <td>Senior Data Scientist - Noida</td>\n",
       "      <td>Gurgaon/Gurugram</td>\n",
       "      <td>Optum Global Solutions (India) Private Limited</td>\n",
       "      <td>1-5 Yrs</td>\n",
       "    </tr>\n",
       "    <tr>\n",
       "      <th>4</th>\n",
       "      <td>Data Scientist / Data Analyst</td>\n",
       "      <td>Gurgaon/Gurugram</td>\n",
       "      <td>CARS24</td>\n",
       "      <td>1-3 Yrs</td>\n",
       "    </tr>\n",
       "    <tr>\n",
       "      <th>5</th>\n",
       "      <td>Data Scientist</td>\n",
       "      <td>Hyderabad/Secunderabad, Gurgaon/Gurugram, Bang...</td>\n",
       "      <td>Decimal Technologies Pvt Ltd.</td>\n",
       "      <td>3-6 Yrs</td>\n",
       "    </tr>\n",
       "    <tr>\n",
       "      <th>6</th>\n",
       "      <td>Senior Data Scientist</td>\n",
       "      <td>Noida(Sector-59 Noida)</td>\n",
       "      <td>inVentiv International Pharma Services Pvt. Ltd.</td>\n",
       "      <td>5-10 Yrs</td>\n",
       "    </tr>\n",
       "    <tr>\n",
       "      <th>7</th>\n",
       "      <td>Data Scientist</td>\n",
       "      <td>Gurgaon/Gurugram</td>\n",
       "      <td>R Systems International Ltd.</td>\n",
       "      <td>2-6 Yrs</td>\n",
       "    </tr>\n",
       "    <tr>\n",
       "      <th>8</th>\n",
       "      <td>Data Scientist - Machine Learning/NLP</td>\n",
       "      <td>Gurgaon/Gurugram</td>\n",
       "      <td>TalPro</td>\n",
       "      <td>2-4 Yrs</td>\n",
       "    </tr>\n",
       "    <tr>\n",
       "      <th>9</th>\n",
       "      <td>Data Scientist - Machine Learning/NLP</td>\n",
       "      <td>Chandigarh, Hyderabad/Secunderabad, Chennai, B...</td>\n",
       "      <td>TalPro</td>\n",
       "      <td>5-10 Yrs</td>\n",
       "    </tr>\n",
       "  </tbody>\n",
       "</table>\n",
       "</div>"
      ],
      "text/plain": [
       "                                           Job Title  \\\n",
       "0                Data Scientist / Sr. Data Scientist   \n",
       "1  Immediate Openings For DATA Scientist with 6 T...   \n",
       "2  Only Fresher / Data Scientist / Data Analyst /...   \n",
       "3                      Senior Data Scientist - Noida   \n",
       "4                      Data Scientist / Data Analyst   \n",
       "5                                     Data Scientist   \n",
       "6                              Senior Data Scientist   \n",
       "7                                     Data Scientist   \n",
       "8              Data Scientist - Machine Learning/NLP   \n",
       "9              Data Scientist - Machine Learning/NLP   \n",
       "\n",
       "                                        Job Location  \\\n",
       "0                    Noida, Pune, Mumbai (All Areas)   \n",
       "1               Noida, Gurgaon/Gurugram, Delhi / NCR   \n",
       "2                                              Noida   \n",
       "3                                   Gurgaon/Gurugram   \n",
       "4                                   Gurgaon/Gurugram   \n",
       "5  Hyderabad/Secunderabad, Gurgaon/Gurugram, Bang...   \n",
       "6                             Noida(Sector-59 Noida)   \n",
       "7                                   Gurgaon/Gurugram   \n",
       "8                                   Gurgaon/Gurugram   \n",
       "9  Chandigarh, Hyderabad/Secunderabad, Chennai, B...   \n",
       "\n",
       "                                       Comapny Name Experience  \n",
       "0                WEGARNER SOLUTIONS PRIVATE LIMITED    0-5 Yrs  \n",
       "1              Entune IT Consulting Private Limited    0-0 Yrs  \n",
       "2                         GABA Consultancy services    2-6 Yrs  \n",
       "3    Optum Global Solutions (India) Private Limited    1-5 Yrs  \n",
       "4                                            CARS24    1-3 Yrs  \n",
       "5                     Decimal Technologies Pvt Ltd.    3-6 Yrs  \n",
       "6  inVentiv International Pharma Services Pvt. Ltd.   5-10 Yrs  \n",
       "7                      R Systems International Ltd.    2-6 Yrs  \n",
       "8                                            TalPro    2-4 Yrs  \n",
       "9                                            TalPro   5-10 Yrs  "
      ]
     },
     "execution_count": 51,
     "metadata": {},
     "output_type": "execute_result"
    }
   ],
   "source": [
    "#Lets make dataframe for above scraped data\n",
    "data_sceintist_delhi=pd.DataFrame({})\n",
    "data_sceintist_delhi['Job Title']=job_title_3\n",
    "data_sceintist_delhi['Job Location']=final_job_location4\n",
    "data_sceintist_delhi['Comapny Name']=search_company_3\n",
    "data_sceintist_delhi['Experience']=final_job_experience\n",
    "data_sceintist_delhi"
   ]
  },
  {
   "cell_type": "markdown",
   "metadata": {},
   "source": [
    "#### Q4: Write a python program to scrape data for first 10 job results for Data scientist Designation in Noida location. You have to scrape company_name, No. of days ago when job was posted, Rating of the company."
   ]
  },
  {
   "cell_type": "code",
   "execution_count": 4,
   "metadata": {},
   "outputs": [],
   "source": [
    "url4='https://www.glassdoor.co.in/index.htm'\n",
    "driver.get(url4)"
   ]
  },
  {
   "cell_type": "code",
   "execution_count": 5,
   "metadata": {},
   "outputs": [],
   "source": [
    "search_job4=driver.find_element_by_xpath('//input[@class=\"css-1etjok6\"]')\n",
    "search_job4.send_keys(\"Data Scientist\")\n"
   ]
  },
  {
   "cell_type": "code",
   "execution_count": 6,
   "metadata": {},
   "outputs": [],
   "source": [
    "search_location4=driver.find_element_by_xpath('/html/body/header/nav[1]/div/div/div/div[4]/div[2]/form/div/div[3]/div/input')\n",
    "search_location4.send_keys(\"Noida\")"
   ]
  },
  {
   "cell_type": "code",
   "execution_count": 7,
   "metadata": {},
   "outputs": [],
   "source": [
    "search_button=driver.find_element_by_xpath('/html/body/header/nav[1]/div/div/div/div[4]/div[2]/form/div/button/span/span')\n",
    "search_button.click()"
   ]
  },
  {
   "cell_type": "code",
   "execution_count": 8,
   "metadata": {},
   "outputs": [
    {
     "data": {
      "text/plain": [
       "['https://www.glassdoor.co.in/partner/jobListing.htm?pos=101&ao=1136043&s=58&guid=0000017b3f51bf1b930a035744967528&src=GD_JOB_AD&t=SR&vt=w&uido=FBD8BBAE3D38C5056D4A84985935587B&ea=1&cs=1_aee741e1&cb=1628854927399&jobListingId=1007200389479&jrtk=2-0-1fcvl3fptu5el801-1fcvl3fq9u1ej800-97d4c65035600d81',\n",
       " 'https://www.glassdoor.co.in/partner/jobListing.htm?pos=102&ao=1136043&s=58&guid=0000017b3f51bf1b930a035744967528&src=GD_JOB_AD&t=SR&vt=w&uido=FBD8BBAE3D38C5056D4A84985935587B&ea=1&cs=1_897ea5e5&cb=1628854927399&jobListingId=1007223625926&jrtk=2-0-1fcvl3fptu5el801-1fcvl3fq9u1ej800-8f431e7a43bcc483',\n",
       " 'https://www.glassdoor.co.in/partner/jobListing.htm?pos=103&ao=1136043&s=58&guid=0000017b3f51bf1b930a035744967528&src=GD_JOB_AD&t=SR&vt=w&uido=FBD8BBAE3D38C5056D4A84985935587B&ea=1&cs=1_05828add&cb=1628854927400&jobListingId=1007181085665&jrtk=2-0-1fcvl3fptu5el801-1fcvl3fq9u1ej800-c5ebf3c133ebe75f',\n",
       " 'https://www.glassdoor.co.in/partner/jobListing.htm?pos=104&ao=1136043&s=58&guid=0000017b3f51bf1b930a035744967528&src=GD_JOB_AD&t=SR&vt=w&uido=FBD8BBAE3D38C5056D4A84985935587B&ea=1&cs=1_e22dd11c&cb=1628854927402&jobListingId=1007219231719&jrtk=2-0-1fcvl3fptu5el801-1fcvl3fq9u1ej800-97e5e173cec15330',\n",
       " 'https://www.glassdoor.co.in/partner/jobListing.htm?pos=105&ao=1136043&s=58&guid=0000017b3f51bf1b930a035744967528&src=GD_JOB_AD&t=SR&vt=w&uido=FBD8BBAE3D38C5056D4A84985935587B&cs=1_eeebd9cc&cb=1628854927401&jobListingId=1007230855102&jrtk=2-0-1fcvl3fptu5el801-1fcvl3fq9u1ej800-409b6a371f63d0fe',\n",
       " 'https://www.glassdoor.co.in/partner/jobListing.htm?pos=106&ao=1136043&s=58&guid=0000017b3f51bf1b930a035744967528&src=GD_JOB_AD&t=SR&vt=w&uido=FBD8BBAE3D38C5056D4A84985935587B&cs=1_e364758e&cb=1628854927401&jobListingId=1007095133299&jrtk=2-0-1fcvl3fptu5el801-1fcvl3fq9u1ej800-84db922a59ad7885',\n",
       " 'https://www.glassdoor.co.in/partner/jobListing.htm?pos=107&ao=1136043&s=58&guid=0000017b3f51bf1b930a035744967528&src=GD_JOB_AD&t=SR&vt=w&uido=FBD8BBAE3D38C5056D4A84985935587B&cs=1_515b6081&cb=1628854927403&jobListingId=1006624053994&jrtk=2-0-1fcvl3fptu5el801-1fcvl3fq9u1ej800-a8cb856cd397a474',\n",
       " 'https://www.glassdoor.co.in/partner/jobListing.htm?pos=108&ao=1136043&s=58&guid=0000017b3f51bf1b930a035744967528&src=GD_JOB_AD&t=SR&vt=w&uido=FBD8BBAE3D38C5056D4A84985935587B&ea=1&cs=1_3d703145&cb=1628854927405&jobListingId=1006687249100&jrtk=2-0-1fcvl3fptu5el801-1fcvl3fq9u1ej800-94036c835379de77',\n",
       " 'https://www.glassdoor.co.in/partner/jobListing.htm?pos=109&ao=1136043&s=58&guid=0000017b3f51bf1b930a035744967528&src=GD_JOB_AD&t=SR&vt=w&uido=FBD8BBAE3D38C5056D4A84985935587B&ea=1&cs=1_723e6bf8&cb=1628854927406&jobListingId=1007219665646&jrtk=2-0-1fcvl3fptu5el801-1fcvl3fq9u1ej800-f48b990bb3cba778',\n",
       " 'https://www.glassdoor.co.in/partner/jobListing.htm?pos=110&ao=1136043&s=58&guid=0000017b3f51bf1b930a035744967528&src=GD_JOB_AD&t=SR&vt=w&uido=FBD8BBAE3D38C5056D4A84985935587B&cs=1_93bb4238&cb=1628854927405&jobListingId=1006461286442&jrtk=2-0-1fcvl3fptu5el801-1fcvl3fq9u1ej800-a1ea358f023a69b7',\n",
       " 'https://www.glassdoor.co.in/partner/jobListing.htm?pos=111&ao=1136043&s=58&guid=0000017b3f51bf1b930a035744967528&src=GD_JOB_AD&t=SR&vt=w&uido=FBD8BBAE3D38C5056D4A84985935587B&cs=1_0aff2da1&cb=1628854927405&jobListingId=1007210208445&jrtk=2-0-1fcvl3fptu5el801-1fcvl3fq9u1ej800-121cea6655c59c77',\n",
       " 'https://www.glassdoor.co.in/partner/jobListing.htm?pos=112&ao=1136043&s=58&guid=0000017b3f51bf1b930a035744967528&src=GD_JOB_AD&t=SR&vt=w&uido=FBD8BBAE3D38C5056D4A84985935587B&cs=1_c9a0c1cf&cb=1628854927406&jobListingId=1007225046684&jrtk=2-0-1fcvl3fptu5el801-1fcvl3fq9u1ej800-8a12da519f3ff016',\n",
       " 'https://www.glassdoor.co.in/partner/jobListing.htm?pos=113&ao=1136043&s=58&guid=0000017b3f51bf1b930a035744967528&src=GD_JOB_AD&t=SR&vt=w&uido=FBD8BBAE3D38C5056D4A84985935587B&cs=1_50c80235&cb=1628854927407&jobListingId=1007228236725&jrtk=2-0-1fcvl3fptu5el801-1fcvl3fq9u1ej800-7d78fa2265d316be',\n",
       " 'https://www.glassdoor.co.in/partner/jobListing.htm?pos=114&ao=1136043&s=58&guid=0000017b3f51bf1b930a035744967528&src=GD_JOB_AD&t=SR&vt=w&uido=FBD8BBAE3D38C5056D4A84985935587B&ea=1&cs=1_8c21a68a&cb=1628854927408&jobListingId=1007123743326&jrtk=2-0-1fcvl3fptu5el801-1fcvl3fq9u1ej800-10f814971ae4b92a',\n",
       " 'https://www.glassdoor.co.in/partner/jobListing.htm?pos=115&ao=1136043&s=58&guid=0000017b3f51bf1b930a035744967528&src=GD_JOB_AD&t=SR&vt=w&uido=FBD8BBAE3D38C5056D4A84985935587B&cs=1_55cb4e84&cb=1628854927407&jobListingId=1007145889803&jrtk=2-0-1fcvl3fptu5el801-1fcvl3fq9u1ej800-87c7d9bf80c83e46',\n",
       " 'https://www.glassdoor.co.in/partner/jobListing.htm?pos=116&ao=1136043&s=58&guid=0000017b3f51bf1b930a035744967528&src=GD_JOB_AD&t=SR&vt=w&uido=FBD8BBAE3D38C5056D4A84985935587B&ea=1&cs=1_378eb32c&cb=1628854927408&jobListingId=1007225801832&jrtk=2-0-1fcvl3fptu5el801-1fcvl3fq9u1ej800-19d04e511a50bc28',\n",
       " 'https://www.glassdoor.co.in/partner/jobListing.htm?pos=117&ao=1136043&s=58&guid=0000017b3f51bf1b930a035744967528&src=GD_JOB_AD&t=SR&vt=w&uido=FBD8BBAE3D38C5056D4A84985935587B&cs=1_248fbb4b&cb=1628854927408&jobListingId=1007220158657&jrtk=2-0-1fcvl3fptu5el801-1fcvl3fq9u1ej800-7a67726dbab26a01',\n",
       " 'https://www.glassdoor.co.in/partner/jobListing.htm?pos=118&ao=1136043&s=58&guid=0000017b3f51bf1b930a035744967528&src=GD_JOB_AD&t=SR&vt=w&uido=FBD8BBAE3D38C5056D4A84985935587B&cs=1_aacd276c&cb=1628854927408&jobListingId=1006624054035&jrtk=2-0-1fcvl3fptu5el801-1fcvl3fq9u1ej800-c47c5ae51c2ed2ee',\n",
       " 'https://www.glassdoor.co.in/partner/jobListing.htm?pos=119&ao=1136043&s=58&guid=0000017b3f51bf1b930a035744967528&src=GD_JOB_AD&t=SR&vt=w&uido=FBD8BBAE3D38C5056D4A84985935587B&cs=1_0a1a6fa2&cb=1628854927409&jobListingId=1007216315923&jrtk=2-0-1fcvl3fptu5el801-1fcvl3fq9u1ej800-e86979e08f7dcb4e',\n",
       " 'https://www.glassdoor.co.in/partner/jobListing.htm?pos=120&ao=1136043&s=58&guid=0000017b3f51bf1b930a035744967528&src=GD_JOB_AD&t=SR&vt=w&uido=FBD8BBAE3D38C5056D4A84985935587B&cs=1_9125415d&cb=1628854927409&jobListingId=1006500025617&jrtk=2-0-1fcvl3fptu5el801-1fcvl3fq9u1ej800-221d6afa3757039d',\n",
       " 'https://www.glassdoor.co.in/partner/jobListing.htm?pos=121&ao=1136043&s=58&guid=0000017b3f51bf1b930a035744967528&src=GD_JOB_AD&t=SR&vt=w&uido=FBD8BBAE3D38C5056D4A84985935587B&cs=1_48526122&cb=1628854927409&jobListingId=1007224309095&jrtk=2-0-1fcvl3fptu5el801-1fcvl3fq9u1ej800-c521dfbc82ae5090',\n",
       " 'https://www.glassdoor.co.in/partner/jobListing.htm?pos=122&ao=1136043&s=58&guid=0000017b3f51bf1b930a035744967528&src=GD_JOB_AD&t=SR&vt=w&uido=FBD8BBAE3D38C5056D4A84985935587B&ea=1&cs=1_d2b6771a&cb=1628854927410&jobListingId=1007175988160&jrtk=2-0-1fcvl3fptu5el801-1fcvl3fq9u1ej800-623b6ce9039bae88',\n",
       " 'https://www.glassdoor.co.in/partner/jobListing.htm?pos=123&ao=1136043&s=58&guid=0000017b3f51bf1b930a035744967528&src=GD_JOB_AD&t=SR&vt=w&uido=FBD8BBAE3D38C5056D4A84985935587B&cs=1_b858fdd9&cb=1628854927410&jobListingId=1007227865902&jrtk=2-0-1fcvl3fptu5el801-1fcvl3fq9u1ej800-3d7d2240289d7a2a',\n",
       " 'https://www.glassdoor.co.in/partner/jobListing.htm?pos=124&ao=1136043&s=58&guid=0000017b3f51bf1b930a035744967528&src=GD_JOB_AD&t=SR&vt=w&uido=FBD8BBAE3D38C5056D4A84985935587B&cs=1_66b24e84&cb=1628854927410&jobListingId=1007044567503&jrtk=2-0-1fcvl3fptu5el801-1fcvl3fq9u1ej800-5092deea13fb4f8b',\n",
       " 'https://www.glassdoor.co.in/partner/jobListing.htm?pos=125&ao=1136043&s=58&guid=0000017b3f51bf1b930a035744967528&src=GD_JOB_AD&t=SR&vt=w&uido=FBD8BBAE3D38C5056D4A84985935587B&cs=1_1bed4ac0&cb=1628854927411&jobListingId=1007201054385&jrtk=2-0-1fcvl3fptu5el801-1fcvl3fq9u1ej800-9f24ed13c9f6eb1c',\n",
       " 'https://www.glassdoor.co.in/partner/jobListing.htm?pos=126&ao=1136043&s=58&guid=0000017b3f51bf1b930a035744967528&src=GD_JOB_AD&t=SR&vt=w&uido=FBD8BBAE3D38C5056D4A84985935587B&cs=1_0bf952b5&cb=1628854927411&jobListingId=1006867507716&jrtk=2-0-1fcvl3fptu5el801-1fcvl3fq9u1ej800-83f3ba54497948c9',\n",
       " 'https://www.glassdoor.co.in/partner/jobListing.htm?pos=127&ao=1136043&s=58&guid=0000017b3f51bf1b930a035744967528&src=GD_JOB_AD&t=SR&vt=w&uido=FBD8BBAE3D38C5056D4A84985935587B&cs=1_2366087f&cb=1628854927411&jobListingId=1007217238235&jrtk=2-0-1fcvl3fptu5el801-1fcvl3fq9u1ej800-f5c135fd5c4784bd',\n",
       " 'https://www.glassdoor.co.in/partner/jobListing.htm?pos=128&ao=1136043&s=58&guid=0000017b3f51bf1b930a035744967528&src=GD_JOB_AD&t=SR&vt=w&uido=FBD8BBAE3D38C5056D4A84985935587B&cs=1_15047751&cb=1628854927411&jobListingId=1007226935073&jrtk=2-0-1fcvl3fptu5el801-1fcvl3fq9u1ej800-f85a0b7400dbc57b',\n",
       " 'https://www.glassdoor.co.in/partner/jobListing.htm?pos=129&ao=1136043&s=58&guid=0000017b3f51bf1b930a035744967528&src=GD_JOB_AD&t=SR&vt=w&uido=FBD8BBAE3D38C5056D4A84985935587B&cs=1_476e5764&cb=1628854927412&jobListingId=1007222536547&jrtk=2-0-1fcvl3fptu5el801-1fcvl3fq9u1ej800-03c8dcb07222bc19',\n",
       " 'https://www.glassdoor.co.in/partner/jobListing.htm?pos=130&ao=1136043&s=58&guid=0000017b3f51bf1b930a035744967528&src=GD_JOB_AD&t=SR&vt=w&uido=FBD8BBAE3D38C5056D4A84985935587B&cs=1_19051314&cb=1628854927412&jobListingId=1006729351157&jrtk=2-0-1fcvl3fptu5el801-1fcvl3fq9u1ej800-1e445c06f2f3d94b']"
      ]
     },
     "execution_count": 8,
     "metadata": {},
     "output_type": "execute_result"
    }
   ],
   "source": [
    "url4=[]\n",
    "for i in driver.find_elements_by_xpath(\"//a[@class=' css-l2wjgv e1n63ojh0 jobLink']\"):\n",
    "    url4.append(i.get_attribute('href'))\n",
    "url4"
   ]
  },
  {
   "cell_type": "code",
   "execution_count": 9,
   "metadata": {},
   "outputs": [],
   "source": [
    "Company_name4=[]\n",
    "No_of_days_ago4=[]\n",
    "Ratings4=[]\n",
    "\n",
    "for i in url4[:10]:\n",
    "    driver.get(i)\n",
    "    time.sleep(3)\n",
    "    # fetch  Company_name\n",
    "    try:\n",
    "        Company_name=driver.find_element_by_xpath(\"//div[@class='css-16nw49e e11nt52q1']\")\n",
    "        Company_name4.append(Company_name.text.replace(\"\\n\",\"newline\"))\n",
    "    except:\n",
    "        Company_name4.append('--')\n",
    "   ## fetch No_of_days_ago \n",
    "    try:\n",
    "        No_of_days_ago=driver.find_element_by_xpath(\"//span[@class='css-13r90be e5rtmyt0']\")\n",
    "        No_of_days_ago4.append(No_of_days_ago.text.replace(\"\\n\",\"newline\"))\n",
    "    except:\n",
    "        No_of_days_ago4.append('--')\n",
    "    # fetch Ratings\n",
    "    try:\n",
    "        Ratings=driver.find_element_by_xpath(\"//span[@class='css-pyq2nd e5rtmyt3']\")\n",
    "        Ratings4.append( Ratings.text.replace(\"\\n\",\"newline\"))\n",
    "    except:\n",
    "        Ratings4.append('--')"
   ]
  },
  {
   "cell_type": "code",
   "execution_count": 10,
   "metadata": {},
   "outputs": [
    {
     "data": {
      "text/plain": [
       "['Liberin Technologies Private Limited',\n",
       " 'Data Trained Education',\n",
       " 'Pixel Vision',\n",
       " 'Emerging India Analytics',\n",
       " 'CRMNEXTnewline3.8newline★',\n",
       " 'Crowenewline3.8newline★',\n",
       " 'Salasar New Age Technologies',\n",
       " 'Biz2Credit Incnewline4.1newline★',\n",
       " 'Uncodemy',\n",
       " 'Techlivenewline5.0newline★']"
      ]
     },
     "execution_count": 10,
     "metadata": {},
     "output_type": "execute_result"
    }
   ],
   "source": [
    "Company_name4"
   ]
  },
  {
   "cell_type": "code",
   "execution_count": 11,
   "metadata": {},
   "outputs": [
    {
     "data": {
      "text/plain": [
       "['27d', '6d', '27d', '8d', '2d', '2d', '27d', '2d', '8d', '2d']"
      ]
     },
     "execution_count": 11,
     "metadata": {},
     "output_type": "execute_result"
    }
   ],
   "source": [
    "No_of_days_ago4"
   ]
  },
  {
   "cell_type": "code",
   "execution_count": 12,
   "metadata": {},
   "outputs": [
    {
     "data": {
      "text/plain": [
       "['4', '4.6', '4', '4.6', '3.8', '5', '4', '5', '2.4', '5']"
      ]
     },
     "execution_count": 12,
     "metadata": {},
     "output_type": "execute_result"
    }
   ],
   "source": [
    "Ratings4"
   ]
  },
  {
   "cell_type": "code",
   "execution_count": 14,
   "metadata": {},
   "outputs": [
    {
     "data": {
      "text/plain": [
       "(10, 10, 10)"
      ]
     },
     "execution_count": 14,
     "metadata": {},
     "output_type": "execute_result"
    }
   ],
   "source": [
    "len(Company_name4),len(No_of_days_ago4),len(Ratings4)"
   ]
  },
  {
   "cell_type": "code",
   "execution_count": 15,
   "metadata": {},
   "outputs": [
    {
     "data": {
      "text/html": [
       "<div>\n",
       "<style scoped>\n",
       "    .dataframe tbody tr th:only-of-type {\n",
       "        vertical-align: middle;\n",
       "    }\n",
       "\n",
       "    .dataframe tbody tr th {\n",
       "        vertical-align: top;\n",
       "    }\n",
       "\n",
       "    .dataframe thead th {\n",
       "        text-align: right;\n",
       "    }\n",
       "</style>\n",
       "<table border=\"1\" class=\"dataframe\">\n",
       "  <thead>\n",
       "    <tr style=\"text-align: right;\">\n",
       "      <th></th>\n",
       "      <th>Company_Name</th>\n",
       "      <th>Number of Days Ago</th>\n",
       "      <th>Ratings</th>\n",
       "    </tr>\n",
       "  </thead>\n",
       "  <tbody>\n",
       "    <tr>\n",
       "      <th>0</th>\n",
       "      <td>Liberin Technologies Private Limited</td>\n",
       "      <td>27d</td>\n",
       "      <td>4</td>\n",
       "    </tr>\n",
       "    <tr>\n",
       "      <th>1</th>\n",
       "      <td>Data Trained Education</td>\n",
       "      <td>6d</td>\n",
       "      <td>4.6</td>\n",
       "    </tr>\n",
       "    <tr>\n",
       "      <th>2</th>\n",
       "      <td>Pixel Vision</td>\n",
       "      <td>27d</td>\n",
       "      <td>4</td>\n",
       "    </tr>\n",
       "    <tr>\n",
       "      <th>3</th>\n",
       "      <td>Emerging India Analytics</td>\n",
       "      <td>8d</td>\n",
       "      <td>4.6</td>\n",
       "    </tr>\n",
       "    <tr>\n",
       "      <th>4</th>\n",
       "      <td>CRMNEXTnewline3.8newline★</td>\n",
       "      <td>2d</td>\n",
       "      <td>3.8</td>\n",
       "    </tr>\n",
       "    <tr>\n",
       "      <th>5</th>\n",
       "      <td>Crowenewline3.8newline★</td>\n",
       "      <td>2d</td>\n",
       "      <td>5</td>\n",
       "    </tr>\n",
       "    <tr>\n",
       "      <th>6</th>\n",
       "      <td>Salasar New Age Technologies</td>\n",
       "      <td>27d</td>\n",
       "      <td>4</td>\n",
       "    </tr>\n",
       "    <tr>\n",
       "      <th>7</th>\n",
       "      <td>Biz2Credit Incnewline4.1newline★</td>\n",
       "      <td>2d</td>\n",
       "      <td>5</td>\n",
       "    </tr>\n",
       "    <tr>\n",
       "      <th>8</th>\n",
       "      <td>Uncodemy</td>\n",
       "      <td>8d</td>\n",
       "      <td>2.4</td>\n",
       "    </tr>\n",
       "    <tr>\n",
       "      <th>9</th>\n",
       "      <td>Techlivenewline5.0newline★</td>\n",
       "      <td>2d</td>\n",
       "      <td>5</td>\n",
       "    </tr>\n",
       "  </tbody>\n",
       "</table>\n",
       "</div>"
      ],
      "text/plain": [
       "                           Company_Name Number of Days Ago Ratings\n",
       "0  Liberin Technologies Private Limited                27d       4\n",
       "1                Data Trained Education                 6d     4.6\n",
       "2                          Pixel Vision                27d       4\n",
       "3              Emerging India Analytics                 8d     4.6\n",
       "4             CRMNEXTnewline3.8newline★                 2d     3.8\n",
       "5               Crowenewline3.8newline★                 2d       5\n",
       "6          Salasar New Age Technologies                27d       4\n",
       "7      Biz2Credit Incnewline4.1newline★                 2d       5\n",
       "8                              Uncodemy                 8d     2.4\n",
       "9            Techlivenewline5.0newline★                 2d       5"
      ]
     },
     "execution_count": 15,
     "metadata": {},
     "output_type": "execute_result"
    }
   ],
   "source": [
    "#lets make dataframe for above scraped data\n",
    "Data_scientist4=pd.DataFrame({})\n",
    "Data_scientist4['Company_Name']=Company_name4\n",
    "Data_scientist4['Number of Days Ago']=No_of_days_ago4\n",
    "Data_scientist4['Ratings']=Ratings4\n",
    "Data_scientist4"
   ]
  },
  {
   "cell_type": "markdown",
   "metadata": {},
   "source": [
    "### Q5: Write a python program to scrape the salary data for Data Scientist designation in Noida location."
   ]
  },
  {
   "cell_type": "code",
   "execution_count": 44,
   "metadata": {},
   "outputs": [],
   "source": [
    "url5='https://www.glassdoor.co.in/Salaries/index.htm'\n",
    "driver.get(url5)"
   ]
  },
  {
   "cell_type": "code",
   "execution_count": 45,
   "metadata": {},
   "outputs": [],
   "source": [
    "job_field5=driver.find_element_by_xpath('/html/body/div[3]/div/div[1]/div[1]/div/div/form/input[5]')\n",
    "job_field5.send_keys('Data Scientist')"
   ]
  },
  {
   "cell_type": "code",
   "execution_count": 46,
   "metadata": {},
   "outputs": [],
   "source": [
    "location_field5=driver.find_element_by_xpath('/html/body/div[3]/div/div[1]/div[1]/div/div/form/input[6]')\n",
    "location_field5.send_keys('Noida')"
   ]
  },
  {
   "cell_type": "code",
   "execution_count": 47,
   "metadata": {},
   "outputs": [],
   "source": [
    "search_field5=driver.find_element_by_xpath('/html/body/div[3]/div/div[1]/div[1]/div/div/form/button')\n",
    "search_field5.click()"
   ]
  },
  {
   "cell_type": "code",
   "execution_count": 48,
   "metadata": {},
   "outputs": [
    {
     "data": {
      "text/plain": [
       "[<selenium.webdriver.remote.webelement.WebElement (session=\"069b5b66c757ed448228b226cfe1ffd3\", element=\"03b51379-e37d-4c50-bd59-e44e55e80345\")>,\n",
       " <selenium.webdriver.remote.webelement.WebElement (session=\"069b5b66c757ed448228b226cfe1ffd3\", element=\"cb31cd7b-b32b-474e-924d-669dd3479dec\")>,\n",
       " <selenium.webdriver.remote.webelement.WebElement (session=\"069b5b66c757ed448228b226cfe1ffd3\", element=\"20fac999-74d3-43f3-a0f5-583c0ba5ce42\")>,\n",
       " <selenium.webdriver.remote.webelement.WebElement (session=\"069b5b66c757ed448228b226cfe1ffd3\", element=\"f6853c69-bf0b-45e3-af1a-fd9a2633e089\")>,\n",
       " <selenium.webdriver.remote.webelement.WebElement (session=\"069b5b66c757ed448228b226cfe1ffd3\", element=\"ede4d99a-76da-48d6-b18e-d4a090e37643\")>,\n",
       " <selenium.webdriver.remote.webelement.WebElement (session=\"069b5b66c757ed448228b226cfe1ffd3\", element=\"c1305bea-8845-4cb3-8195-5329ddae9e75\")>,\n",
       " <selenium.webdriver.remote.webelement.WebElement (session=\"069b5b66c757ed448228b226cfe1ffd3\", element=\"c5a8cd6e-07b5-4ad7-bd02-06de6432fc4f\")>,\n",
       " <selenium.webdriver.remote.webelement.WebElement (session=\"069b5b66c757ed448228b226cfe1ffd3\", element=\"fd820c83-b02c-4d09-bd58-b9e5e7276897\")>,\n",
       " <selenium.webdriver.remote.webelement.WebElement (session=\"069b5b66c757ed448228b226cfe1ffd3\", element=\"d60e1807-1377-4d6e-9f20-19c45e20fe79\")>,\n",
       " <selenium.webdriver.remote.webelement.WebElement (session=\"069b5b66c757ed448228b226cfe1ffd3\", element=\"69a05950-5913-479b-912b-dc3bae78d1e4\")>,\n",
       " <selenium.webdriver.remote.webelement.WebElement (session=\"069b5b66c757ed448228b226cfe1ffd3\", element=\"8e0a0876-1d33-487c-b8cb-b23e70fe0533\")>,\n",
       " <selenium.webdriver.remote.webelement.WebElement (session=\"069b5b66c757ed448228b226cfe1ffd3\", element=\"233314dd-7444-418d-8619-fab66d0ae404\")>,\n",
       " <selenium.webdriver.remote.webelement.WebElement (session=\"069b5b66c757ed448228b226cfe1ffd3\", element=\"6b43cd6e-4c18-40b6-91d9-210cc677f569\")>,\n",
       " <selenium.webdriver.remote.webelement.WebElement (session=\"069b5b66c757ed448228b226cfe1ffd3\", element=\"499a56fe-1e20-44e3-bd62-bc9efe5547b8\")>,\n",
       " <selenium.webdriver.remote.webelement.WebElement (session=\"069b5b66c757ed448228b226cfe1ffd3\", element=\"22a4e025-c1d5-4ffd-bb38-f97f279fff89\")>,\n",
       " <selenium.webdriver.remote.webelement.WebElement (session=\"069b5b66c757ed448228b226cfe1ffd3\", element=\"246e1d26-cf8c-48f5-abe9-74291b6b8c01\")>,\n",
       " <selenium.webdriver.remote.webelement.WebElement (session=\"069b5b66c757ed448228b226cfe1ffd3\", element=\"239ad2de-308e-4e2b-b5be-801baa13628e\")>,\n",
       " <selenium.webdriver.remote.webelement.WebElement (session=\"069b5b66c757ed448228b226cfe1ffd3\", element=\"ff0619c5-4c05-4660-8a5f-fa10b17f9c39\")>,\n",
       " <selenium.webdriver.remote.webelement.WebElement (session=\"069b5b66c757ed448228b226cfe1ffd3\", element=\"430ab87b-bfe2-4b30-9f36-fa47f447126f\")>,\n",
       " <selenium.webdriver.remote.webelement.WebElement (session=\"069b5b66c757ed448228b226cfe1ffd3\", element=\"14660862-da6b-49c7-89cd-ea4d754aab10\")>]"
      ]
     },
     "execution_count": 48,
     "metadata": {},
     "output_type": "execute_result"
    }
   ],
   "source": [
    "# one scrap company name\n",
    "company_name=driver.find_elements_by_xpath('//a[@class=\"css-f3vw95 e1aj7ssy3\"]')\n",
    "company_name"
   ]
  },
  {
   "cell_type": "code",
   "execution_count": 49,
   "metadata": {},
   "outputs": [
    {
     "data": {
      "text/plain": [
       "['Tata Consultancy Services',\n",
       " 'IBM',\n",
       " 'Accenture',\n",
       " 'Delhivery',\n",
       " 'Ericsson-Worldwide',\n",
       " 'UnitedHealth Group',\n",
       " 'Valiance Solutions',\n",
       " 'EXL Service',\n",
       " 'Optum',\n",
       " 'Optum Global Solutions']"
      ]
     },
     "execution_count": 49,
     "metadata": {},
     "output_type": "execute_result"
    }
   ],
   "source": [
    "# now extract text from  web element, we use for loop  to iterate over tags and extract the text inside them\n",
    "company_name2=[]\n",
    "for i in company_name:\n",
    "    company_name2.append(i.text)\n",
    "company_name2\n",
    "final_company=company_name2[:10]\n",
    "final_company"
   ]
  },
  {
   "cell_type": "code",
   "execution_count": 50,
   "metadata": {},
   "outputs": [
    {
     "data": {
      "text/plain": [
       "[<selenium.webdriver.remote.webelement.WebElement (session=\"069b5b66c757ed448228b226cfe1ffd3\", element=\"67ded6c2-9923-4793-aacc-fd853ae5db2c\")>,\n",
       " <selenium.webdriver.remote.webelement.WebElement (session=\"069b5b66c757ed448228b226cfe1ffd3\", element=\"c037ae92-17c6-4439-a187-48bcd974250b\")>,\n",
       " <selenium.webdriver.remote.webelement.WebElement (session=\"069b5b66c757ed448228b226cfe1ffd3\", element=\"172774c5-a661-4af5-aff6-0cb74cac45c4\")>,\n",
       " <selenium.webdriver.remote.webelement.WebElement (session=\"069b5b66c757ed448228b226cfe1ffd3\", element=\"4e591150-5029-4eef-8334-a8b3dea84893\")>,\n",
       " <selenium.webdriver.remote.webelement.WebElement (session=\"069b5b66c757ed448228b226cfe1ffd3\", element=\"c3fff345-027f-4307-b969-74dcece73150\")>,\n",
       " <selenium.webdriver.remote.webelement.WebElement (session=\"069b5b66c757ed448228b226cfe1ffd3\", element=\"37717e41-12f3-4361-a1d1-6678d9edfc60\")>,\n",
       " <selenium.webdriver.remote.webelement.WebElement (session=\"069b5b66c757ed448228b226cfe1ffd3\", element=\"7e6a8d64-c325-46da-add6-0f71e0c6a008\")>,\n",
       " <selenium.webdriver.remote.webelement.WebElement (session=\"069b5b66c757ed448228b226cfe1ffd3\", element=\"88875f7e-3e61-4fba-aff1-e2ade58c6063\")>,\n",
       " <selenium.webdriver.remote.webelement.WebElement (session=\"069b5b66c757ed448228b226cfe1ffd3\", element=\"c2199ea0-e14c-4b35-8cad-014d5953171c\")>,\n",
       " <selenium.webdriver.remote.webelement.WebElement (session=\"069b5b66c757ed448228b226cfe1ffd3\", element=\"9d232427-16c3-45fb-8d5b-479b86c65e68\")>,\n",
       " <selenium.webdriver.remote.webelement.WebElement (session=\"069b5b66c757ed448228b226cfe1ffd3\", element=\"232463c9-7822-428a-95fa-01ad6da2e7d4\")>,\n",
       " <selenium.webdriver.remote.webelement.WebElement (session=\"069b5b66c757ed448228b226cfe1ffd3\", element=\"e5f39b8b-1b74-48d1-864b-0d6c485130e6\")>,\n",
       " <selenium.webdriver.remote.webelement.WebElement (session=\"069b5b66c757ed448228b226cfe1ffd3\", element=\"5be1d44c-ffe5-4d95-b05c-22dfdb975a55\")>,\n",
       " <selenium.webdriver.remote.webelement.WebElement (session=\"069b5b66c757ed448228b226cfe1ffd3\", element=\"d60e01b8-63e5-4d35-94c5-2083fb3dbd72\")>,\n",
       " <selenium.webdriver.remote.webelement.WebElement (session=\"069b5b66c757ed448228b226cfe1ffd3\", element=\"c64b2b23-83f4-4d91-86c0-a9bdb5f2d32a\")>,\n",
       " <selenium.webdriver.remote.webelement.WebElement (session=\"069b5b66c757ed448228b226cfe1ffd3\", element=\"b96b58fa-1c76-4d5e-8793-888df01d5525\")>,\n",
       " <selenium.webdriver.remote.webelement.WebElement (session=\"069b5b66c757ed448228b226cfe1ffd3\", element=\"5f224872-0978-4b36-87bc-631dd781aaac\")>,\n",
       " <selenium.webdriver.remote.webelement.WebElement (session=\"069b5b66c757ed448228b226cfe1ffd3\", element=\"3459d28d-b92e-4536-ad34-2cf855c13dc1\")>,\n",
       " <selenium.webdriver.remote.webelement.WebElement (session=\"069b5b66c757ed448228b226cfe1ffd3\", element=\"2089327b-1bc9-4712-9159-bd1c88751991\")>,\n",
       " <selenium.webdriver.remote.webelement.WebElement (session=\"069b5b66c757ed448228b226cfe1ffd3\", element=\"50338ad4-7648-4bdd-8028-36ad3c3ad5c9\")>]"
      ]
     },
     "execution_count": 50,
     "metadata": {},
     "output_type": "execute_result"
    }
   ],
   "source": [
    "# avarage salary\n",
    "Avg_salary=driver.find_elements_by_xpath('//div[@class=\"col-12 col-lg-4 px-lg-0 d-flex align-items-baseline\"]')\n",
    "Avg_salary"
   ]
  },
  {
   "cell_type": "code",
   "execution_count": 51,
   "metadata": {},
   "outputs": [
    {
     "data": {
      "text/plain": [
       "['₹6,12,205\\n /yr',\n",
       " '₹9,00,000\\n /yr',\n",
       " '₹11,63,336\\n /yr',\n",
       " '₹xx,xx,xxx\\n /yr',\n",
       " '₹x,xx,xxx\\n /yr',\n",
       " '₹xx,xx,xxx\\n /yr',\n",
       " '₹x,xx,xxx\\n /yr',\n",
       " '₹xx,xx,xxx\\n /yr',\n",
       " '₹xx,xx,xxx\\n /yr',\n",
       " '₹xx,xx,xxx\\n /yr']"
      ]
     },
     "execution_count": 51,
     "metadata": {},
     "output_type": "execute_result"
    }
   ],
   "source": [
    "# now extract text from  web element, we use for loop  to iterate over tags and extract the text inside them\n",
    "Avg_salary2=[]\n",
    "for i in Avg_salary:\n",
    "    Avg_salary2.append(i.text)\n",
    "Avg_salary2\n",
    "final_Avg_salary=Avg_salary2[:10]\n",
    "final_Avg_salary"
   ]
  },
  {
   "cell_type": "code",
   "execution_count": 52,
   "metadata": {},
   "outputs": [
    {
     "data": {
      "text/plain": [
       "[<selenium.webdriver.remote.webelement.WebElement (session=\"069b5b66c757ed448228b226cfe1ffd3\", element=\"d147252d-bbc9-4486-86b0-56be0cc9e2ee\")>,\n",
       " <selenium.webdriver.remote.webelement.WebElement (session=\"069b5b66c757ed448228b226cfe1ffd3\", element=\"d8b9783e-9a73-42e6-be60-6d05d0a20591\")>,\n",
       " <selenium.webdriver.remote.webelement.WebElement (session=\"069b5b66c757ed448228b226cfe1ffd3\", element=\"f3ccbc91-cbc4-461e-85f8-b308e95cf68d\")>,\n",
       " <selenium.webdriver.remote.webelement.WebElement (session=\"069b5b66c757ed448228b226cfe1ffd3\", element=\"9725da65-04b1-4a46-a4d6-497c0e1962ce\")>,\n",
       " <selenium.webdriver.remote.webelement.WebElement (session=\"069b5b66c757ed448228b226cfe1ffd3\", element=\"a4b23eb7-34a2-4a2f-ba99-7de7e73cc38d\")>,\n",
       " <selenium.webdriver.remote.webelement.WebElement (session=\"069b5b66c757ed448228b226cfe1ffd3\", element=\"8f84513d-18b3-4358-b54c-a46488f1ec5e\")>,\n",
       " <selenium.webdriver.remote.webelement.WebElement (session=\"069b5b66c757ed448228b226cfe1ffd3\", element=\"285855a8-ca8e-4543-8e8a-fe37e0fbe707\")>,\n",
       " <selenium.webdriver.remote.webelement.WebElement (session=\"069b5b66c757ed448228b226cfe1ffd3\", element=\"2785642b-216a-49a5-b9a8-030f5d303c49\")>,\n",
       " <selenium.webdriver.remote.webelement.WebElement (session=\"069b5b66c757ed448228b226cfe1ffd3\", element=\"f27aea26-6fb2-45f2-bf90-76061476b8c2\")>,\n",
       " <selenium.webdriver.remote.webelement.WebElement (session=\"069b5b66c757ed448228b226cfe1ffd3\", element=\"87f8dfe8-eff3-4884-85f4-d199949b0e50\")>,\n",
       " <selenium.webdriver.remote.webelement.WebElement (session=\"069b5b66c757ed448228b226cfe1ffd3\", element=\"076f176e-fa95-4ea0-83d3-cea21c45a507\")>,\n",
       " <selenium.webdriver.remote.webelement.WebElement (session=\"069b5b66c757ed448228b226cfe1ffd3\", element=\"d9443fde-8167-4041-a589-b35abe5bcfba\")>,\n",
       " <selenium.webdriver.remote.webelement.WebElement (session=\"069b5b66c757ed448228b226cfe1ffd3\", element=\"2e94423c-11db-486e-bd0c-68fb98df74c2\")>,\n",
       " <selenium.webdriver.remote.webelement.WebElement (session=\"069b5b66c757ed448228b226cfe1ffd3\", element=\"2b3c4979-8712-4840-9756-b39de689f855\")>,\n",
       " <selenium.webdriver.remote.webelement.WebElement (session=\"069b5b66c757ed448228b226cfe1ffd3\", element=\"321173be-b205-432c-b222-2a8d85d6a3f2\")>,\n",
       " <selenium.webdriver.remote.webelement.WebElement (session=\"069b5b66c757ed448228b226cfe1ffd3\", element=\"dfab79d5-ac9a-414d-8cb0-98442e5ac875\")>,\n",
       " <selenium.webdriver.remote.webelement.WebElement (session=\"069b5b66c757ed448228b226cfe1ffd3\", element=\"03670e0c-1cbd-4582-a574-ab75ae3543ef\")>,\n",
       " <selenium.webdriver.remote.webelement.WebElement (session=\"069b5b66c757ed448228b226cfe1ffd3\", element=\"652004ef-1e92-4bc3-a89e-d096ad02fd2a\")>,\n",
       " <selenium.webdriver.remote.webelement.WebElement (session=\"069b5b66c757ed448228b226cfe1ffd3\", element=\"079817fb-7562-4688-a75a-62237865523c\")>,\n",
       " <selenium.webdriver.remote.webelement.WebElement (session=\"069b5b66c757ed448228b226cfe1ffd3\", element=\"c17cf1d1-62d1-491a-82fc-8cae81d300ca\")>]"
      ]
     },
     "execution_count": 52,
     "metadata": {},
     "output_type": "execute_result"
    }
   ],
   "source": [
    "# ratings of the company\n",
    "Ratings=driver.find_elements_by_xpath('//span[@class=\"m-0 css-kyx745\"]')\n",
    "Ratings"
   ]
  },
  {
   "cell_type": "code",
   "execution_count": 53,
   "metadata": {},
   "outputs": [
    {
     "data": {
      "text/plain": [
       "['3.9', '3.9', '4.1', '3.9', '4', '3.6', '4.2', '3.6', '3.7', '3.9']"
      ]
     },
     "execution_count": 53,
     "metadata": {},
     "output_type": "execute_result"
    }
   ],
   "source": [
    "# now extract text from  web element, we use for loop  to iterate over tags and extract the text inside them\n",
    "Ratings2=[]\n",
    "for i in Ratings:\n",
    "    Ratings2.append(i.text)\n",
    "Ratings2\n",
    "final_Ratings=Ratings2[:10]\n",
    "final_Ratings"
   ]
  },
  {
   "cell_type": "code",
   "execution_count": 56,
   "metadata": {},
   "outputs": [
    {
     "data": {
      "text/plain": [
       "[<selenium.webdriver.remote.webelement.WebElement (session=\"069b5b66c757ed448228b226cfe1ffd3\", element=\"99350cd6-f516-47a2-8ac8-8bf1cd30d267\")>,\n",
       " <selenium.webdriver.remote.webelement.WebElement (session=\"069b5b66c757ed448228b226cfe1ffd3\", element=\"c970c5b6-276c-4159-adf0-35ef1eda5af7\")>,\n",
       " <selenium.webdriver.remote.webelement.WebElement (session=\"069b5b66c757ed448228b226cfe1ffd3\", element=\"5f0ebb34-1ea7-4a49-9c18-df70031dbe77\")>,\n",
       " <selenium.webdriver.remote.webelement.WebElement (session=\"069b5b66c757ed448228b226cfe1ffd3\", element=\"c021387a-75ef-4896-8894-c5073553af94\")>,\n",
       " <selenium.webdriver.remote.webelement.WebElement (session=\"069b5b66c757ed448228b226cfe1ffd3\", element=\"fa44398d-9ea3-436b-bacb-424d14bb8196\")>,\n",
       " <selenium.webdriver.remote.webelement.WebElement (session=\"069b5b66c757ed448228b226cfe1ffd3\", element=\"56ed4700-2357-43a5-b57f-f85aca75abb2\")>,\n",
       " <selenium.webdriver.remote.webelement.WebElement (session=\"069b5b66c757ed448228b226cfe1ffd3\", element=\"385ab7b5-4862-4eb0-9f1f-f0201351a04e\")>,\n",
       " <selenium.webdriver.remote.webelement.WebElement (session=\"069b5b66c757ed448228b226cfe1ffd3\", element=\"40d936c3-dc6b-4874-b4cb-4cc78380ed75\")>,\n",
       " <selenium.webdriver.remote.webelement.WebElement (session=\"069b5b66c757ed448228b226cfe1ffd3\", element=\"9d34decb-410d-4833-bfeb-fdaa1ce64704\")>,\n",
       " <selenium.webdriver.remote.webelement.WebElement (session=\"069b5b66c757ed448228b226cfe1ffd3\", element=\"02d9ab13-2022-48e9-8d7e-b12d49080793\")>,\n",
       " <selenium.webdriver.remote.webelement.WebElement (session=\"069b5b66c757ed448228b226cfe1ffd3\", element=\"2f0dd080-e487-4050-8bda-f1ef2556d335\")>,\n",
       " <selenium.webdriver.remote.webelement.WebElement (session=\"069b5b66c757ed448228b226cfe1ffd3\", element=\"237a3ff7-b8a6-4ff1-8b94-5977aa895038\")>,\n",
       " <selenium.webdriver.remote.webelement.WebElement (session=\"069b5b66c757ed448228b226cfe1ffd3\", element=\"ef919440-41bb-4c92-aeb6-85fcc762e219\")>,\n",
       " <selenium.webdriver.remote.webelement.WebElement (session=\"069b5b66c757ed448228b226cfe1ffd3\", element=\"b37fce3e-1c8d-4a4f-bccc-6175d843a33a\")>,\n",
       " <selenium.webdriver.remote.webelement.WebElement (session=\"069b5b66c757ed448228b226cfe1ffd3\", element=\"685882a7-eefa-4abd-b666-fee0bb80fa7e\")>,\n",
       " <selenium.webdriver.remote.webelement.WebElement (session=\"069b5b66c757ed448228b226cfe1ffd3\", element=\"51c7e3b2-8e46-46e7-bfd4-b598ea0685ed\")>,\n",
       " <selenium.webdriver.remote.webelement.WebElement (session=\"069b5b66c757ed448228b226cfe1ffd3\", element=\"88bf43e0-d4c5-4f18-8ed2-8893b146c5ce\")>,\n",
       " <selenium.webdriver.remote.webelement.WebElement (session=\"069b5b66c757ed448228b226cfe1ffd3\", element=\"e5b7230e-eb20-4c80-ade3-b57c7f198ca4\")>,\n",
       " <selenium.webdriver.remote.webelement.WebElement (session=\"069b5b66c757ed448228b226cfe1ffd3\", element=\"3b6dcebc-858c-4183-9099-960f8a293e0a\")>,\n",
       " <selenium.webdriver.remote.webelement.WebElement (session=\"069b5b66c757ed448228b226cfe1ffd3\", element=\"43d2138a-1a78-407c-a683-866922d85742\")>]"
      ]
     },
     "execution_count": 56,
     "metadata": {},
     "output_type": "execute_result"
    }
   ],
   "source": [
    "# scrap min salary\n",
    "min_salary=driver.find_elements_by_xpath('//span[@class=\"d-block d-lg-none m-0 css-1b6bxoo\"]')\n",
    "min_salary"
   ]
  },
  {
   "cell_type": "code",
   "execution_count": 57,
   "metadata": {},
   "outputs": [
    {
     "data": {
      "text/plain": [
       "['Range: ₹3L - ₹13L',\n",
       " 'Range: ₹6L - ₹27L',\n",
       " 'Range: ₹6L - ₹22L',\n",
       " 'Range: ₹xL - ₹xCr',\n",
       " 'Range: ₹xL - ₹xxL',\n",
       " 'Range: ₹xL - ₹xxL',\n",
       " 'Range: ₹xL - ₹xxL',\n",
       " 'Range: ₹xL - ₹xxL',\n",
       " 'Range: ₹xL - ₹xxL',\n",
       " 'Range: ₹xL - ₹xxL']"
      ]
     },
     "execution_count": 57,
     "metadata": {},
     "output_type": "execute_result"
    }
   ],
   "source": [
    "# now extract text from  web element, we use for loop  to iterate over tags and extract the text inside them\n",
    "min_salary2=[]\n",
    "for i in min_salary:\n",
    "    min_salary2.append(i.text)\n",
    "min_salary2\n",
    "final_min_salary=min_salary2[:10]\n",
    "final_min_salary"
   ]
  },
  {
   "cell_type": "code",
   "execution_count": 58,
   "metadata": {},
   "outputs": [
    {
     "data": {
      "text/html": [
       "<div>\n",
       "<style scoped>\n",
       "    .dataframe tbody tr th:only-of-type {\n",
       "        vertical-align: middle;\n",
       "    }\n",
       "\n",
       "    .dataframe tbody tr th {\n",
       "        vertical-align: top;\n",
       "    }\n",
       "\n",
       "    .dataframe thead th {\n",
       "        text-align: right;\n",
       "    }\n",
       "</style>\n",
       "<table border=\"1\" class=\"dataframe\">\n",
       "  <thead>\n",
       "    <tr style=\"text-align: right;\">\n",
       "      <th></th>\n",
       "      <th>Company Name</th>\n",
       "      <th>Range Of Salary</th>\n",
       "      <th>Average Salary</th>\n",
       "      <th>Ratings</th>\n",
       "    </tr>\n",
       "  </thead>\n",
       "  <tbody>\n",
       "    <tr>\n",
       "      <th>0</th>\n",
       "      <td>Tata Consultancy Services</td>\n",
       "      <td>Range: ₹3L - ₹13L</td>\n",
       "      <td>₹6,12,205\\n /yr</td>\n",
       "      <td>3.9</td>\n",
       "    </tr>\n",
       "    <tr>\n",
       "      <th>1</th>\n",
       "      <td>IBM</td>\n",
       "      <td>Range: ₹6L - ₹27L</td>\n",
       "      <td>₹9,00,000\\n /yr</td>\n",
       "      <td>3.9</td>\n",
       "    </tr>\n",
       "    <tr>\n",
       "      <th>2</th>\n",
       "      <td>Accenture</td>\n",
       "      <td>Range: ₹6L - ₹22L</td>\n",
       "      <td>₹11,63,336\\n /yr</td>\n",
       "      <td>4.1</td>\n",
       "    </tr>\n",
       "    <tr>\n",
       "      <th>3</th>\n",
       "      <td>Delhivery</td>\n",
       "      <td>Range: ₹xL - ₹xCr</td>\n",
       "      <td>₹xx,xx,xxx\\n /yr</td>\n",
       "      <td>3.9</td>\n",
       "    </tr>\n",
       "    <tr>\n",
       "      <th>4</th>\n",
       "      <td>Ericsson-Worldwide</td>\n",
       "      <td>Range: ₹xL - ₹xxL</td>\n",
       "      <td>₹x,xx,xxx\\n /yr</td>\n",
       "      <td>4</td>\n",
       "    </tr>\n",
       "    <tr>\n",
       "      <th>5</th>\n",
       "      <td>UnitedHealth Group</td>\n",
       "      <td>Range: ₹xL - ₹xxL</td>\n",
       "      <td>₹xx,xx,xxx\\n /yr</td>\n",
       "      <td>3.6</td>\n",
       "    </tr>\n",
       "    <tr>\n",
       "      <th>6</th>\n",
       "      <td>Valiance Solutions</td>\n",
       "      <td>Range: ₹xL - ₹xxL</td>\n",
       "      <td>₹x,xx,xxx\\n /yr</td>\n",
       "      <td>4.2</td>\n",
       "    </tr>\n",
       "    <tr>\n",
       "      <th>7</th>\n",
       "      <td>EXL Service</td>\n",
       "      <td>Range: ₹xL - ₹xxL</td>\n",
       "      <td>₹xx,xx,xxx\\n /yr</td>\n",
       "      <td>3.6</td>\n",
       "    </tr>\n",
       "    <tr>\n",
       "      <th>8</th>\n",
       "      <td>Optum</td>\n",
       "      <td>Range: ₹xL - ₹xxL</td>\n",
       "      <td>₹xx,xx,xxx\\n /yr</td>\n",
       "      <td>3.7</td>\n",
       "    </tr>\n",
       "    <tr>\n",
       "      <th>9</th>\n",
       "      <td>Optum Global Solutions</td>\n",
       "      <td>Range: ₹xL - ₹xxL</td>\n",
       "      <td>₹xx,xx,xxx\\n /yr</td>\n",
       "      <td>3.9</td>\n",
       "    </tr>\n",
       "  </tbody>\n",
       "</table>\n",
       "</div>"
      ],
      "text/plain": [
       "                Company Name    Range Of Salary    Average Salary Ratings\n",
       "0  Tata Consultancy Services  Range: ₹3L - ₹13L   ₹6,12,205\\n /yr     3.9\n",
       "1                        IBM  Range: ₹6L - ₹27L   ₹9,00,000\\n /yr     3.9\n",
       "2                  Accenture  Range: ₹6L - ₹22L  ₹11,63,336\\n /yr     4.1\n",
       "3                  Delhivery  Range: ₹xL - ₹xCr  ₹xx,xx,xxx\\n /yr     3.9\n",
       "4         Ericsson-Worldwide  Range: ₹xL - ₹xxL   ₹x,xx,xxx\\n /yr       4\n",
       "5         UnitedHealth Group  Range: ₹xL - ₹xxL  ₹xx,xx,xxx\\n /yr     3.6\n",
       "6         Valiance Solutions  Range: ₹xL - ₹xxL   ₹x,xx,xxx\\n /yr     4.2\n",
       "7                EXL Service  Range: ₹xL - ₹xxL  ₹xx,xx,xxx\\n /yr     3.6\n",
       "8                      Optum  Range: ₹xL - ₹xxL  ₹xx,xx,xxx\\n /yr     3.7\n",
       "9     Optum Global Solutions  Range: ₹xL - ₹xxL  ₹xx,xx,xxx\\n /yr     3.9"
      ]
     },
     "execution_count": 58,
     "metadata": {},
     "output_type": "execute_result"
    }
   ],
   "source": [
    "# now make dataframe of all scraped data\n",
    "Data_Scientist_Noida=pd.DataFrame({})\n",
    "Data_Scientist_Noida['Company Name']=final_company\n",
    "Data_Scientist_Noida['Range Of Salary']=final_min_salary\n",
    "Data_Scientist_Noida['Average Salary']=final_Avg_salary\n",
    "Data_Scientist_Noida['Ratings']=final_Ratings\n",
    "Data_Scientist_Noida"
   ]
  },
  {
   "cell_type": "markdown",
   "metadata": {},
   "source": [
    "### Q6 : Scrape data of first 100 sunglasses listings on flipkart.com. You have to scrape four attributes:1. Brand 2. Product Description 3. Price 4. Discount %"
   ]
  },
  {
   "cell_type": "code",
   "execution_count": 106,
   "metadata": {},
   "outputs": [],
   "source": [
    "url='https://www.flipkart.com/'\n",
    "driver.get(url)"
   ]
  },
  {
   "cell_type": "code",
   "execution_count": 113,
   "metadata": {},
   "outputs": [],
   "source": [
    "search_Sunglass=driver.find_element_by_xpath('//input[@class=\"_3704LK\"]')\n",
    "search_Sunglass.send_keys('sunglasses')"
   ]
  },
  {
   "cell_type": "code",
   "execution_count": 114,
   "metadata": {},
   "outputs": [],
   "source": [
    "search_button6=driver.find_element_by_xpath('//button[@class=\"L0Z3Pu\"]')\n",
    "search_button6.click()"
   ]
  },
  {
   "cell_type": "code",
   "execution_count": 115,
   "metadata": {},
   "outputs": [
    {
     "data": {
      "text/plain": [
       "[<selenium.webdriver.remote.webelement.WebElement (session=\"5c4699d7eca66cf4e97b90df15af8323\", element=\"0e288228-7053-4041-80c8-d2d495e0fb15\")>,\n",
       " <selenium.webdriver.remote.webelement.WebElement (session=\"5c4699d7eca66cf4e97b90df15af8323\", element=\"a0a44f48-b49d-49d6-999f-7ed34174cf08\")>,\n",
       " <selenium.webdriver.remote.webelement.WebElement (session=\"5c4699d7eca66cf4e97b90df15af8323\", element=\"82a7545e-73c0-418b-98e1-de9ffe509085\")>,\n",
       " <selenium.webdriver.remote.webelement.WebElement (session=\"5c4699d7eca66cf4e97b90df15af8323\", element=\"5a111414-667d-4b44-9ee3-18dbdbb62b47\")>,\n",
       " <selenium.webdriver.remote.webelement.WebElement (session=\"5c4699d7eca66cf4e97b90df15af8323\", element=\"3ef4881f-dab4-4008-a889-7254cccf12db\")>,\n",
       " <selenium.webdriver.remote.webelement.WebElement (session=\"5c4699d7eca66cf4e97b90df15af8323\", element=\"c9a403c1-236b-4b20-9b0d-4064664c0295\")>,\n",
       " <selenium.webdriver.remote.webelement.WebElement (session=\"5c4699d7eca66cf4e97b90df15af8323\", element=\"f8d9833d-827e-4cff-825c-78bdee083c35\")>,\n",
       " <selenium.webdriver.remote.webelement.WebElement (session=\"5c4699d7eca66cf4e97b90df15af8323\", element=\"b9c9c833-682f-451a-9245-058672908f84\")>,\n",
       " <selenium.webdriver.remote.webelement.WebElement (session=\"5c4699d7eca66cf4e97b90df15af8323\", element=\"ccc0d33a-da39-4122-89f7-f0e402124f10\")>,\n",
       " <selenium.webdriver.remote.webelement.WebElement (session=\"5c4699d7eca66cf4e97b90df15af8323\", element=\"6c6e07ff-a7bc-4f6f-b436-dc1cd0c8085d\")>,\n",
       " <selenium.webdriver.remote.webelement.WebElement (session=\"5c4699d7eca66cf4e97b90df15af8323\", element=\"04104a4d-9edb-494a-ac4b-9a5a62151678\")>]"
      ]
     },
     "execution_count": 115,
     "metadata": {},
     "output_type": "execute_result"
    }
   ],
   "source": [
    "# we want scrap data of 100 sunglases \n",
    "url=driver.find_elements_by_xpath('//nav[@class=\"yFHi8N\"]//a')\n",
    "url"
   ]
  },
  {
   "cell_type": "code",
   "execution_count": 116,
   "metadata": {},
   "outputs": [
    {
     "data": {
      "text/plain": [
       "['https://www.flipkart.com/search?q=sunglassessunglasses&otracker=search&otracker1=search&marketplace=FLIPKART&as-show=on&as=off&page=1',\n",
       " 'https://www.flipkart.com/search?q=sunglassessunglasses&otracker=search&otracker1=search&marketplace=FLIPKART&as-show=on&as=off&page=2',\n",
       " 'https://www.flipkart.com/search?q=sunglassessunglasses&otracker=search&otracker1=search&marketplace=FLIPKART&as-show=on&as=off&page=3',\n",
       " 'https://www.flipkart.com/search?q=sunglassessunglasses&otracker=search&otracker1=search&marketplace=FLIPKART&as-show=on&as=off&page=4',\n",
       " 'https://www.flipkart.com/search?q=sunglassessunglasses&otracker=search&otracker1=search&marketplace=FLIPKART&as-show=on&as=off&page=5',\n",
       " 'https://www.flipkart.com/search?q=sunglassessunglasses&otracker=search&otracker1=search&marketplace=FLIPKART&as-show=on&as=off&page=6',\n",
       " 'https://www.flipkart.com/search?q=sunglassessunglasses&otracker=search&otracker1=search&marketplace=FLIPKART&as-show=on&as=off&page=7',\n",
       " 'https://www.flipkart.com/search?q=sunglassessunglasses&otracker=search&otracker1=search&marketplace=FLIPKART&as-show=on&as=off&page=8',\n",
       " 'https://www.flipkart.com/search?q=sunglassessunglasses&otracker=search&otracker1=search&marketplace=FLIPKART&as-show=on&as=off&page=9',\n",
       " 'https://www.flipkart.com/search?q=sunglassessunglasses&otracker=search&otracker1=search&marketplace=FLIPKART&as-show=on&as=off&page=10',\n",
       " 'https://www.flipkart.com/search?q=sunglassessunglasses&otracker=search&otracker1=search&marketplace=FLIPKART&as-show=on&as=off&page=2']"
      ]
     },
     "execution_count": 116,
     "metadata": {},
     "output_type": "execute_result"
    }
   ],
   "source": [
    "page_url=[]\n",
    "for i in url:\n",
    "    page_url.append(i.get_attribute('href'))\n",
    "page_url"
   ]
  },
  {
   "cell_type": "code",
   "execution_count": 117,
   "metadata": {},
   "outputs": [
    {
     "data": {
      "text/plain": [
       "['Elligator',\n",
       " 'Fastrack',\n",
       " 'Fastrack',\n",
       " 'PIRASO',\n",
       " 'kingsunglasses',\n",
       " 'Fastrack',\n",
       " 'Fastrack',\n",
       " 'SUNBEE',\n",
       " 'Fastrack',\n",
       " 'Fastrack',\n",
       " 'kingsunglasses',\n",
       " 'ROZZETTA CRAFT',\n",
       " 'Fastrack',\n",
       " 'Fastrack',\n",
       " 'PIRASO',\n",
       " 'SHAAH COLLECTIONS',\n",
       " 'kingsunglasses',\n",
       " 'PHENOMENAL',\n",
       " 'GANSTA',\n",
       " 'PIRASO',\n",
       " 'Elligator',\n",
       " 'PHENOMENAL',\n",
       " 'ROZZETTA CRAFT',\n",
       " 'Fravy',\n",
       " 'hipe',\n",
       " 'Fastrack',\n",
       " 'Silver Kartz',\n",
       " 'Singco India',\n",
       " 'Singco India',\n",
       " 'Fastrack',\n",
       " 'ROYAL SON',\n",
       " 'kingsunglasses',\n",
       " 'kingsunglasses',\n",
       " 'Fastrack',\n",
       " 'SHAAH COLLECTIONS',\n",
       " 'Fastrack',\n",
       " 'PHENOMENAL',\n",
       " 'NuVew',\n",
       " 'AISLIN',\n",
       " 'Fravy',\n",
       " 'kingsunglasses',\n",
       " 'NuVew',\n",
       " 'kingsunglasses',\n",
       " 'Elligator',\n",
       " 'ROZZETTA CRAFT',\n",
       " 'Fastrack',\n",
       " 'Elligator',\n",
       " 'Fastrack',\n",
       " 'Badfella',\n",
       " 'Fastrack',\n",
       " 'Fastrack',\n",
       " 'ROZZETTA CRAFT',\n",
       " 'Fastrack',\n",
       " 'hipe',\n",
       " 'Singco',\n",
       " 'Fastrack',\n",
       " 'SRPM',\n",
       " 'Fastrack',\n",
       " 'hipe',\n",
       " 'Fastrack',\n",
       " 'DEIXELS',\n",
       " 'ROYAL SON',\n",
       " 'PHENOMENAL',\n",
       " 'ROYAL SON',\n",
       " 'kingsunglasses',\n",
       " 'GANSTA',\n",
       " 'HIPPON',\n",
       " 'Flizz',\n",
       " 'ROZZETTA CRAFT',\n",
       " 'Singco India',\n",
       " 'AISLIN',\n",
       " 'Fastrack',\n",
       " 'Fastrack',\n",
       " 'elegante',\n",
       " 'NuVew',\n",
       " 'Villain',\n",
       " 'Elligator',\n",
       " 'kingsunglasses',\n",
       " 'GANSTA',\n",
       " 'hipe',\n",
       " 'PIRASO',\n",
       " 'ROYAL SON',\n",
       " 'ROZZETTA CRAFT',\n",
       " 'DEIXELS',\n",
       " 'Fastrack',\n",
       " 'IRUS by IDEE',\n",
       " 'Wrogn',\n",
       " 'Elligator',\n",
       " 'Ray-Ban',\n",
       " 'PIRASO',\n",
       " 'PHENOMENAL',\n",
       " 'Fastrack',\n",
       " 'GANSTA',\n",
       " 'IRUS by IDEE',\n",
       " 'AISLIN',\n",
       " 'Elligator',\n",
       " 'ROYAL SON',\n",
       " 'ROZZETTA CRAFT',\n",
       " 'kingsunglasses',\n",
       " 'kingsunglasses',\n",
       " 'Crackers',\n",
       " 'AISLIN',\n",
       " 'Fastrack',\n",
       " 'hipe',\n",
       " 'kingsunglasses',\n",
       " 'GANSTA',\n",
       " 'Fastrack',\n",
       " 'Fastrack',\n",
       " 'Wrogn',\n",
       " 'PIRASO',\n",
       " 'ROYAL SON',\n",
       " 'PHENOMENAL',\n",
       " 'ROYAL SON',\n",
       " 'elegante',\n",
       " 'Fastrack',\n",
       " 'KAYFA',\n",
       " 'Fastrack',\n",
       " 'ROZZETTA CRAFT',\n",
       " 'Fastrack',\n",
       " 'kingsunglasses']"
      ]
     },
     "execution_count": 117,
     "metadata": {},
     "output_type": "execute_result"
    }
   ],
   "source": [
    "# scrap sunglass for multiple pages \n",
    "sunglass=[]\n",
    "for i in page_url[:3]:# we scraped only 3 pages\n",
    "    driver.get(i)\n",
    "    sunglass_1=driver.find_elements_by_xpath('//div[@class=\"_2WkVRV\"]')\n",
    "    for i in sunglass_1:\n",
    "        sunglass.append(i.text)\n",
    "sunglass"
   ]
  },
  {
   "cell_type": "code",
   "execution_count": 118,
   "metadata": {},
   "outputs": [
    {
     "data": {
      "text/plain": [
       "120"
      ]
     },
     "execution_count": 118,
     "metadata": {},
     "output_type": "execute_result"
    }
   ],
   "source": [
    "len(sunglass)"
   ]
  },
  {
   "cell_type": "code",
   "execution_count": 119,
   "metadata": {},
   "outputs": [
    {
     "data": {
      "text/plain": [
       "['Elligator',\n",
       " 'Fastrack',\n",
       " 'Fastrack',\n",
       " 'PIRASO',\n",
       " 'kingsunglasses',\n",
       " 'Fastrack',\n",
       " 'Fastrack',\n",
       " 'SUNBEE',\n",
       " 'Fastrack',\n",
       " 'Fastrack',\n",
       " 'kingsunglasses',\n",
       " 'ROZZETTA CRAFT',\n",
       " 'Fastrack',\n",
       " 'Fastrack',\n",
       " 'PIRASO',\n",
       " 'SHAAH COLLECTIONS',\n",
       " 'kingsunglasses',\n",
       " 'PHENOMENAL',\n",
       " 'GANSTA',\n",
       " 'PIRASO',\n",
       " 'Elligator',\n",
       " 'PHENOMENAL',\n",
       " 'ROZZETTA CRAFT',\n",
       " 'Fravy',\n",
       " 'hipe',\n",
       " 'Fastrack',\n",
       " 'Silver Kartz',\n",
       " 'Singco India',\n",
       " 'Singco India',\n",
       " 'Fastrack',\n",
       " 'ROYAL SON',\n",
       " 'kingsunglasses',\n",
       " 'kingsunglasses',\n",
       " 'Fastrack',\n",
       " 'SHAAH COLLECTIONS',\n",
       " 'Fastrack',\n",
       " 'PHENOMENAL',\n",
       " 'NuVew',\n",
       " 'AISLIN',\n",
       " 'Fravy',\n",
       " 'kingsunglasses',\n",
       " 'NuVew',\n",
       " 'kingsunglasses',\n",
       " 'Elligator',\n",
       " 'ROZZETTA CRAFT',\n",
       " 'Fastrack',\n",
       " 'Elligator',\n",
       " 'Fastrack',\n",
       " 'Badfella',\n",
       " 'Fastrack',\n",
       " 'Fastrack',\n",
       " 'ROZZETTA CRAFT',\n",
       " 'Fastrack',\n",
       " 'hipe',\n",
       " 'Singco',\n",
       " 'Fastrack',\n",
       " 'SRPM',\n",
       " 'Fastrack',\n",
       " 'hipe',\n",
       " 'Fastrack',\n",
       " 'DEIXELS',\n",
       " 'ROYAL SON',\n",
       " 'PHENOMENAL',\n",
       " 'ROYAL SON',\n",
       " 'kingsunglasses',\n",
       " 'GANSTA',\n",
       " 'HIPPON',\n",
       " 'Flizz',\n",
       " 'ROZZETTA CRAFT',\n",
       " 'Singco India',\n",
       " 'AISLIN',\n",
       " 'Fastrack',\n",
       " 'Fastrack',\n",
       " 'elegante',\n",
       " 'NuVew',\n",
       " 'Villain',\n",
       " 'Elligator',\n",
       " 'kingsunglasses',\n",
       " 'GANSTA',\n",
       " 'hipe',\n",
       " 'PIRASO',\n",
       " 'ROYAL SON',\n",
       " 'ROZZETTA CRAFT',\n",
       " 'DEIXELS',\n",
       " 'Fastrack',\n",
       " 'IRUS by IDEE',\n",
       " 'Wrogn',\n",
       " 'Elligator',\n",
       " 'Ray-Ban',\n",
       " 'PIRASO',\n",
       " 'PHENOMENAL',\n",
       " 'Fastrack',\n",
       " 'GANSTA',\n",
       " 'IRUS by IDEE',\n",
       " 'AISLIN',\n",
       " 'Elligator',\n",
       " 'ROYAL SON',\n",
       " 'ROZZETTA CRAFT',\n",
       " 'kingsunglasses',\n",
       " 'kingsunglasses']"
      ]
     },
     "execution_count": 119,
     "metadata": {},
     "output_type": "execute_result"
    }
   ],
   "source": [
    "Final_Sunglass=sunglass[:100]\n",
    "Final_Sunglass"
   ]
  },
  {
   "cell_type": "code",
   "execution_count": 120,
   "metadata": {},
   "outputs": [
    {
     "data": {
      "text/plain": [
       "['UV Protection Round Sunglasses (54)',\n",
       " 'UV Protection Wayfarer Sunglasses (Free Size)',\n",
       " 'UV Protection Rectangular Sunglasses (Free Size)',\n",
       " 'UV Protection Aviator Sunglasses (54)',\n",
       " 'Mirrored, UV Protection Wayfarer Sunglasses (Free Size)',\n",
       " 'Gradient, UV Protection Wayfarer Sunglasses (Free Size)',\n",
       " 'UV Protection Aviator Sunglasses (58)',\n",
       " 'UV Protection, Polarized, Mirrored Round Sunglasses (Fr...',\n",
       " 'UV Protection Aviator Sunglasses (Free Size)',\n",
       " 'UV Protection Wayfarer Sunglasses (Free Size)',\n",
       " 'UV Protection Rectangular Sunglasses (Free Size)',\n",
       " 'UV Protection, Gradient Rectangular Sunglasses (Free Si...',\n",
       " 'UV Protection Aviator Sunglasses (58)',\n",
       " 'Mirrored, UV Protection Wayfarer Sunglasses (Free Size)',\n",
       " 'UV Protection Aviator Sunglasses (54)',\n",
       " 'UV Protection, Polarized, Mirrored Rectangular Sunglass...',\n",
       " 'UV Protection Round Sunglasses (54)',\n",
       " 'UV Protection Retro Square Sunglasses (Free Size)',\n",
       " 'UV Protection Aviator Sunglasses (57)',\n",
       " 'UV Protection Aviator Sunglasses (54)',\n",
       " 'Mirrored Round Sunglasses (53)',\n",
       " 'UV Protection, Mirrored Retro Square Sunglasses (53)',\n",
       " 'UV Protection Retro Square Sunglasses (Free Size)',\n",
       " 'UV Protection Wayfarer Sunglasses (56)',\n",
       " 'Mirrored, UV Protection, Gradient Round Sunglasses (55)',\n",
       " 'UV Protection Sports Sunglasses (Free Size)',\n",
       " 'UV Protection Wayfarer Sunglasses (Free Size)',\n",
       " 'UV Protection Aviator Sunglasses (Free Size)',\n",
       " 'UV Protection, Riding Glasses, Others Aviator, Wayfarer...',\n",
       " 'UV Protection Wayfarer Sunglasses (Free Size)',\n",
       " 'UV Protection, Gradient Wayfarer Sunglasses (55)',\n",
       " 'Mirrored, UV Protection Wayfarer Sunglasses (Free Size)',\n",
       " 'UV Protection, Others Round, Aviator Sunglasses (54)',\n",
       " 'UV Protection Aviator Sunglasses (58)',\n",
       " 'UV Protection Round Sunglasses (Free Size)',\n",
       " 'Gradient, UV Protection Wayfarer Sunglasses (Free Size)',\n",
       " 'UV Protection, Mirrored Retro Square Sunglasses (Free S...',\n",
       " 'UV Protection, Mirrored, Night Vision, Riding Glasses S...',\n",
       " 'UV Protection, Gradient Butterfly, Retro Square Sunglas...',\n",
       " 'UV Protection Retro Square Sunglasses (Free Size)',\n",
       " 'UV Protection Rectangular Sunglasses (55)',\n",
       " 'UV Protection Aviator Sunglasses (58)',\n",
       " 'UV Protection, Mirrored Round Sunglasses (54)',\n",
       " 'UV Protection Aviator Sunglasses (55)',\n",
       " 'UV Protection, Gradient Rectangular Sunglasses (Free Si...',\n",
       " 'Gradient, UV Protection Wayfarer Sunglasses (Free Size)',\n",
       " 'UV Protection Round Sunglasses (54)',\n",
       " 'UV Protection Wayfarer Sunglasses (Free Size)',\n",
       " 'Polarized, UV Protection Retro Square Sunglasses (53)',\n",
       " 'UV Protection Wayfarer Sunglasses (Free Size)',\n",
       " 'UV Protection Rectangular Sunglasses (59)',\n",
       " 'UV Protection, Riding Glasses Rectangular Sunglasses (F...',\n",
       " 'UV Protection Wayfarer Sunglasses (56)',\n",
       " 'UV Protection, Gradient, Mirrored, Riding Glasses Aviat...',\n",
       " 'Mirrored Aviator Sunglasses (53)',\n",
       " 'UV Protection Wayfarer Sunglasses (Free Size)',\n",
       " 'UV Protection Wayfarer Sunglasses (53)',\n",
       " 'UV Protection Wayfarer Sunglasses (56)',\n",
       " 'UV Protection Sports Sunglasses (Free Size)',\n",
       " 'UV Protection Shield Sunglasses (Free Size)',\n",
       " 'UV Protection Aviator, Wayfarer Sunglasses (Free Size)',\n",
       " 'Mirrored Aviator Sunglasses (55)',\n",
       " 'UV Protection, Mirrored Retro Square Sunglasses (53)',\n",
       " 'UV Protection Rectangular Sunglasses (58)',\n",
       " 'UV Protection Round Sunglasses (Free Size)',\n",
       " 'UV Protection, Night Vision, Riding Glasses Aviator Sun...',\n",
       " 'UV Protection Wayfarer Sunglasses (55)',\n",
       " 'UV Protection Retro Square Sunglasses (Free Size)',\n",
       " 'UV Protection, Gradient Round Sunglasses (Free Size)',\n",
       " 'Mirrored, UV Protection, Riding Glasses, Others Wrap-ar...',\n",
       " 'UV Protection, Gradient Butterfly, Retro Square Sunglas...',\n",
       " 'UV Protection Aviator Sunglasses (Free Size)',\n",
       " 'UV Protection Aviator Sunglasses (Free Size)',\n",
       " 'UV Protection Round Sunglasses (Free Size)',\n",
       " 'UV Protection, Riding Glasses Wayfarer Sunglasses (56)',\n",
       " 'Others Retro Square Sunglasses (Free Size)',\n",
       " 'UV Protection, Gradient, Mirrored Aviator, Round, Wayfa...',\n",
       " 'UV Protection, Riding Glasses, Mirrored Wayfarer Sungla...',\n",
       " 'UV Protection Aviator Sunglasses (57)',\n",
       " 'UV Protection, Gradient, Mirrored, Riding Glasses Recta...',\n",
       " 'UV Protection Wayfarer Sunglasses (32)',\n",
       " 'UV Protection Wayfarer Sunglasses (55)',\n",
       " 'UV Protection Retro Square Sunglasses (Free Size)',\n",
       " 'Polarized, UV Protection, Riding Glasses Wayfarer Sungl...',\n",
       " 'UV Protection Wayfarer Sunglasses (Free Size)',\n",
       " 'Gradient Rectangular Sunglasses (56)',\n",
       " 'UV Protection Wayfarer Sunglasses (56)',\n",
       " 'UV Protection Round Sunglasses (55)',\n",
       " 'UV Protection Retro Square Sunglasses (55)',\n",
       " 'UV Protection Aviator Sunglasses (58)',\n",
       " 'UV Protection Round Sunglasses (53)',\n",
       " 'UV Protection Round Sunglasses (52)',\n",
       " 'UV Protection Wayfarer Sunglasses (54)',\n",
       " 'Gradient Rectangular Sunglasses (56)',\n",
       " 'UV Protection, Gradient Cat-eye Sunglasses (61)',\n",
       " 'UV Protection, Riding Glasses Rectangular, Retro Square...',\n",
       " 'Gradient, UV Protection Round, Oval, Cat-eye Sunglasses...',\n",
       " 'Gradient, UV Protection Round Sunglasses (Free Size)',\n",
       " 'Mirrored, UV Protection Wayfarer, Wayfarer, Wayfarer, W...',\n",
       " 'Mirrored, UV Protection Aviator Sunglasses (56)']"
      ]
     },
     "execution_count": 120,
     "metadata": {},
     "output_type": "execute_result"
    }
   ],
   "source": [
    "# now scrap product description\n",
    "product_description=[]\n",
    "for i in page_url[:3]:# we scraped only 3 pages\n",
    "    driver.get(i)\n",
    "    product_description_1=driver.find_elements_by_xpath('//a[@class=\"IRpwTa\"]')\n",
    "    for i in product_description_1:\n",
    "        product_description.append(i.text)\n",
    "product_description\n",
    "Final_product_description=product_description[:100]\n",
    "Final_product_description"
   ]
  },
  {
   "cell_type": "code",
   "execution_count": 121,
   "metadata": {},
   "outputs": [
    {
     "data": {
      "text/plain": [
       "100"
      ]
     },
     "execution_count": 121,
     "metadata": {},
     "output_type": "execute_result"
    }
   ],
   "source": [
    "len(Final_product_description)"
   ]
  },
  {
   "cell_type": "code",
   "execution_count": 122,
   "metadata": {},
   "outputs": [
    {
     "data": {
      "text/plain": [
       "['₹295',\n",
       " '₹758',\n",
       " '₹513',\n",
       " '₹237',\n",
       " '₹299',\n",
       " '₹509',\n",
       " '₹1,085',\n",
       " '₹331',\n",
       " '₹546',\n",
       " '₹733',\n",
       " '₹210',\n",
       " '₹404',\n",
       " '₹1,010',\n",
       " '₹738',\n",
       " '₹237',\n",
       " '₹198',\n",
       " '₹225',\n",
       " '₹379',\n",
       " '₹266',\n",
       " '₹237',\n",
       " '₹312',\n",
       " '₹379',\n",
       " '₹499',\n",
       " '₹179',\n",
       " '₹199',\n",
       " '₹771',\n",
       " '₹246',\n",
       " '₹334',\n",
       " '₹214',\n",
       " '₹758',\n",
       " '₹217',\n",
       " '₹299',\n",
       " '₹225',\n",
       " '₹1,115',\n",
       " '₹331',\n",
       " '₹711',\n",
       " '₹379',\n",
       " '₹345',\n",
       " '₹545',\n",
       " '₹299',\n",
       " '₹349',\n",
       " '₹202',\n",
       " '₹249',\n",
       " '₹328',\n",
       " '₹474',\n",
       " '₹558',\n",
       " '₹331',\n",
       " '₹826',\n",
       " '₹255',\n",
       " '₹539',\n",
       " '₹1,021',\n",
       " '₹426',\n",
       " '₹655',\n",
       " '₹209',\n",
       " '₹239',\n",
       " '₹655',\n",
       " '₹246',\n",
       " '₹633',\n",
       " '₹303',\n",
       " '₹853',\n",
       " '₹213',\n",
       " '₹379',\n",
       " '₹379',\n",
       " '₹474',\n",
       " '₹349',\n",
       " '₹295',\n",
       " '₹257',\n",
       " '₹399',\n",
       " '₹449',\n",
       " '₹331',\n",
       " '₹516',\n",
       " '₹1,699',\n",
       " '₹759',\n",
       " '₹189',\n",
       " '₹232',\n",
       " '₹599',\n",
       " '₹246',\n",
       " '₹229',\n",
       " '₹230',\n",
       " '₹299',\n",
       " '₹237',\n",
       " '₹265',\n",
       " '₹380',\n",
       " '₹249',\n",
       " '₹660',\n",
       " '₹606',\n",
       " '₹684',\n",
       " '₹254',\n",
       " '₹3,843',\n",
       " '₹399',\n",
       " '₹282',\n",
       " '₹1,093',\n",
       " '₹199',\n",
       " '₹540',\n",
       " '₹498',\n",
       " '₹398',\n",
       " '₹699',\n",
       " '₹426',\n",
       " '₹299',\n",
       " '₹249']"
      ]
     },
     "execution_count": 122,
     "metadata": {},
     "output_type": "execute_result"
    }
   ],
   "source": [
    "# now scrap price of sunglasses\n",
    "price=[]\n",
    "for i in page_url[:3]:# we scraped only 3 pages\n",
    "    driver.get(i)\n",
    "    price_1=driver.find_elements_by_xpath('//div[@class=\"_30jeq3\"]')\n",
    "    for i in price_1:\n",
    "        price.append(i.text)\n",
    "price\n",
    "Final_price=price[:100]\n",
    "Final_price"
   ]
  },
  {
   "cell_type": "code",
   "execution_count": 123,
   "metadata": {},
   "outputs": [
    {
     "data": {
      "text/plain": [
       "100"
      ]
     },
     "execution_count": 123,
     "metadata": {},
     "output_type": "execute_result"
    }
   ],
   "source": [
    "len(Final_price)"
   ]
  },
  {
   "cell_type": "code",
   "execution_count": 124,
   "metadata": {},
   "outputs": [
    {
     "data": {
      "text/plain": [
       "['88% off',\n",
       " '15% off',\n",
       " '35% off',\n",
       " '85% off',\n",
       " '88% off',\n",
       " '36% off',\n",
       " '16% off',\n",
       " '80% off',\n",
       " '31% off',\n",
       " '18% off',\n",
       " '82% off',\n",
       " '79% off',\n",
       " '22% off',\n",
       " '26% off',\n",
       " '85% off',\n",
       " '88% off',\n",
       " '79% off',\n",
       " '81% off',\n",
       " '86% off',\n",
       " '85% off',\n",
       " '87% off',\n",
       " '81% off',\n",
       " '77% off',\n",
       " '80% off',\n",
       " '86% off',\n",
       " '14% off',\n",
       " '83% off',\n",
       " '72% off',\n",
       " '69% off',\n",
       " '15% off',\n",
       " '78% off',\n",
       " '88% off',\n",
       " '77% off',\n",
       " '14% off',\n",
       " '80% off',\n",
       " '11% off',\n",
       " '81% off',\n",
       " '62% off',\n",
       " '64% off',\n",
       " '80% off',\n",
       " '76% off',\n",
       " '74% off',\n",
       " '79% off',\n",
       " '86% off',\n",
       " '78% off',\n",
       " '30% off',\n",
       " '74% off',\n",
       " '8% off',\n",
       " '74% off',\n",
       " '32% off',\n",
       " '21% off',\n",
       " '80% off',\n",
       " '27% off',\n",
       " '79% off',\n",
       " '76% off',\n",
       " '18% off',\n",
       " '75% off',\n",
       " '29% off',\n",
       " '84% off',\n",
       " '5% off',\n",
       " '82% off',\n",
       " '74% off',\n",
       " '81% off',\n",
       " '68% off',\n",
       " '78% off',\n",
       " '85% off',\n",
       " '78% off',\n",
       " '81% off',\n",
       " '77% off',\n",
       " '83% off',\n",
       " '66% off',\n",
       " '15% off',\n",
       " '15% off',\n",
       " '81% off',\n",
       " '76% off',\n",
       " '20% off',\n",
       " '87% off',\n",
       " '80% off',\n",
       " '82% off',\n",
       " '76% off',\n",
       " '85% off',\n",
       " '79% off',\n",
       " '77% off',\n",
       " '58% off',\n",
       " '17% off',\n",
       " '52% off',\n",
       " '73% off',\n",
       " '87% off',\n",
       " '30% off',\n",
       " '84% off',\n",
       " '87% off',\n",
       " '15% off',\n",
       " '75% off',\n",
       " '52% off',\n",
       " '70% off',\n",
       " '73% off',\n",
       " '53% off',\n",
       " '78% off',\n",
       " '80% off',\n",
       " '80% off']"
      ]
     },
     "execution_count": 124,
     "metadata": {},
     "output_type": "execute_result"
    }
   ],
   "source": [
    "#now scrap discount of sunglasses\n",
    "discount=[]\n",
    "for i in page_url[:3]:# we scraped only 3 pages\n",
    "    driver.get(i)\n",
    "    discount1=driver.find_elements_by_xpath('//div[@class=\"_3Ay6Sb\"]')\n",
    "    for i in discount1:\n",
    "        discount.append(i.text)\n",
    "discount\n",
    "Final_discount=discount[:100]\n",
    "Final_discount"
   ]
  },
  {
   "cell_type": "code",
   "execution_count": 125,
   "metadata": {},
   "outputs": [
    {
     "data": {
      "text/plain": [
       "100"
      ]
     },
     "execution_count": 125,
     "metadata": {},
     "output_type": "execute_result"
    }
   ],
   "source": [
    "len(Final_discount)"
   ]
  },
  {
   "cell_type": "code",
   "execution_count": 126,
   "metadata": {},
   "outputs": [
    {
     "data": {
      "text/html": [
       "<div>\n",
       "<style scoped>\n",
       "    .dataframe tbody tr th:only-of-type {\n",
       "        vertical-align: middle;\n",
       "    }\n",
       "\n",
       "    .dataframe tbody tr th {\n",
       "        vertical-align: top;\n",
       "    }\n",
       "\n",
       "    .dataframe thead th {\n",
       "        text-align: right;\n",
       "    }\n",
       "</style>\n",
       "<table border=\"1\" class=\"dataframe\">\n",
       "  <thead>\n",
       "    <tr style=\"text-align: right;\">\n",
       "      <th></th>\n",
       "      <th>Brand</th>\n",
       "      <th>Description</th>\n",
       "      <th>Price</th>\n",
       "      <th>Discount</th>\n",
       "    </tr>\n",
       "  </thead>\n",
       "  <tbody>\n",
       "    <tr>\n",
       "      <th>0</th>\n",
       "      <td>Elligator</td>\n",
       "      <td>UV Protection Round Sunglasses (54)</td>\n",
       "      <td>₹295</td>\n",
       "      <td>88% off</td>\n",
       "    </tr>\n",
       "    <tr>\n",
       "      <th>1</th>\n",
       "      <td>Fastrack</td>\n",
       "      <td>UV Protection Wayfarer Sunglasses (Free Size)</td>\n",
       "      <td>₹758</td>\n",
       "      <td>15% off</td>\n",
       "    </tr>\n",
       "    <tr>\n",
       "      <th>2</th>\n",
       "      <td>Fastrack</td>\n",
       "      <td>UV Protection Rectangular Sunglasses (Free Size)</td>\n",
       "      <td>₹513</td>\n",
       "      <td>35% off</td>\n",
       "    </tr>\n",
       "    <tr>\n",
       "      <th>3</th>\n",
       "      <td>PIRASO</td>\n",
       "      <td>UV Protection Aviator Sunglasses (54)</td>\n",
       "      <td>₹237</td>\n",
       "      <td>85% off</td>\n",
       "    </tr>\n",
       "    <tr>\n",
       "      <th>4</th>\n",
       "      <td>kingsunglasses</td>\n",
       "      <td>Mirrored, UV Protection Wayfarer Sunglasses (F...</td>\n",
       "      <td>₹299</td>\n",
       "      <td>88% off</td>\n",
       "    </tr>\n",
       "    <tr>\n",
       "      <th>...</th>\n",
       "      <td>...</td>\n",
       "      <td>...</td>\n",
       "      <td>...</td>\n",
       "      <td>...</td>\n",
       "    </tr>\n",
       "    <tr>\n",
       "      <th>95</th>\n",
       "      <td>Elligator</td>\n",
       "      <td>UV Protection, Riding Glasses Rectangular, Ret...</td>\n",
       "      <td>₹398</td>\n",
       "      <td>73% off</td>\n",
       "    </tr>\n",
       "    <tr>\n",
       "      <th>96</th>\n",
       "      <td>ROYAL SON</td>\n",
       "      <td>Gradient, UV Protection Round, Oval, Cat-eye S...</td>\n",
       "      <td>₹699</td>\n",
       "      <td>53% off</td>\n",
       "    </tr>\n",
       "    <tr>\n",
       "      <th>97</th>\n",
       "      <td>ROZZETTA CRAFT</td>\n",
       "      <td>Gradient, UV Protection Round Sunglasses (Free...</td>\n",
       "      <td>₹426</td>\n",
       "      <td>78% off</td>\n",
       "    </tr>\n",
       "    <tr>\n",
       "      <th>98</th>\n",
       "      <td>kingsunglasses</td>\n",
       "      <td>Mirrored, UV Protection Wayfarer, Wayfarer, Wa...</td>\n",
       "      <td>₹299</td>\n",
       "      <td>80% off</td>\n",
       "    </tr>\n",
       "    <tr>\n",
       "      <th>99</th>\n",
       "      <td>kingsunglasses</td>\n",
       "      <td>Mirrored, UV Protection Aviator Sunglasses (56)</td>\n",
       "      <td>₹249</td>\n",
       "      <td>80% off</td>\n",
       "    </tr>\n",
       "  </tbody>\n",
       "</table>\n",
       "<p>100 rows × 4 columns</p>\n",
       "</div>"
      ],
      "text/plain": [
       "             Brand                                        Description Price  \\\n",
       "0        Elligator                UV Protection Round Sunglasses (54)  ₹295   \n",
       "1         Fastrack      UV Protection Wayfarer Sunglasses (Free Size)  ₹758   \n",
       "2         Fastrack   UV Protection Rectangular Sunglasses (Free Size)  ₹513   \n",
       "3           PIRASO              UV Protection Aviator Sunglasses (54)  ₹237   \n",
       "4   kingsunglasses  Mirrored, UV Protection Wayfarer Sunglasses (F...  ₹299   \n",
       "..             ...                                                ...   ...   \n",
       "95       Elligator  UV Protection, Riding Glasses Rectangular, Ret...  ₹398   \n",
       "96       ROYAL SON  Gradient, UV Protection Round, Oval, Cat-eye S...  ₹699   \n",
       "97  ROZZETTA CRAFT  Gradient, UV Protection Round Sunglasses (Free...  ₹426   \n",
       "98  kingsunglasses  Mirrored, UV Protection Wayfarer, Wayfarer, Wa...  ₹299   \n",
       "99  kingsunglasses    Mirrored, UV Protection Aviator Sunglasses (56)  ₹249   \n",
       "\n",
       "   Discount  \n",
       "0   88% off  \n",
       "1   15% off  \n",
       "2   35% off  \n",
       "3   85% off  \n",
       "4   88% off  \n",
       "..      ...  \n",
       "95  73% off  \n",
       "96  53% off  \n",
       "97  78% off  \n",
       "98  80% off  \n",
       "99  80% off  \n",
       "\n",
       "[100 rows x 4 columns]"
      ]
     },
     "execution_count": 126,
     "metadata": {},
     "output_type": "execute_result"
    }
   ],
   "source": [
    "# lets make dataframe for Sunglass \n",
    "Sunglass=pd.DataFrame({})\n",
    "Sunglass['Brand']=Final_Sunglass\n",
    "Sunglass['Description']=Final_product_description\n",
    "Sunglass['Price']=Final_price\n",
    "Sunglass['Discount']=Final_discount\n",
    "Sunglass"
   ]
  },
  {
   "cell_type": "markdown",
   "metadata": {},
   "source": [
    "#### Q7: Scrape 100 reviews data from flipkart.com for iphone11 phone. You have to go the link: https://www.flipkart.com/apple-iphone-11-black-64-gb-includes-earpods-power-adapter/p/itm0f37c2240b217?pid=MOBFKCTSVZAXUHGR&lid=LSTMOBFKCTSVZAXUHGREPBFGI&marketplace.\n",
    "As shown in the above page you have to scrape the tick marked attributes. These are\n",
    "\n",
    "Rating\n",
    "Review_summary\n",
    "Full review You have to scrape this data for first 100 reviews."
   ]
  },
  {
   "cell_type": "code",
   "execution_count": 127,
   "metadata": {},
   "outputs": [],
   "source": [
    "url='https://www.flipkart.com/apple-iphone-11-black-64-gb-includes-earpods-power-adapter/p/itm0f37c2240b217?pid=MOBFKCTSVZAXUHGR&lid=LSTMOBFKCTSVZAXUHGREPBFGI&marketplace'\n",
    "driver.get(url)"
   ]
  },
  {
   "cell_type": "code",
   "execution_count": 128,
   "metadata": {},
   "outputs": [],
   "source": [
    "all_review=driver.find_element_by_xpath('//div[@class=\"_3UAT2v _16PBlm\"]')\n",
    "all_review.click()"
   ]
  },
  {
   "cell_type": "markdown",
   "metadata": {},
   "source": [
    "Each page as near about 10 reviews so we will scrap first 13 pages"
   ]
  },
  {
   "cell_type": "code",
   "execution_count": 129,
   "metadata": {},
   "outputs": [
    {
     "data": {
      "text/plain": [
       "[<selenium.webdriver.remote.webelement.WebElement (session=\"5c4699d7eca66cf4e97b90df15af8323\", element=\"95980c2b-58b0-45ca-9f06-91c5b73add51\")>,\n",
       " <selenium.webdriver.remote.webelement.WebElement (session=\"5c4699d7eca66cf4e97b90df15af8323\", element=\"0c7e98a2-5105-4e0e-888d-bdc95f2af59a\")>,\n",
       " <selenium.webdriver.remote.webelement.WebElement (session=\"5c4699d7eca66cf4e97b90df15af8323\", element=\"c0d81ef2-00d3-44ef-ae58-a2682b69afa1\")>,\n",
       " <selenium.webdriver.remote.webelement.WebElement (session=\"5c4699d7eca66cf4e97b90df15af8323\", element=\"e2880114-c848-4241-b204-8c5d62638d1f\")>,\n",
       " <selenium.webdriver.remote.webelement.WebElement (session=\"5c4699d7eca66cf4e97b90df15af8323\", element=\"cf241235-dc3c-43ed-8606-7acb6c441b75\")>,\n",
       " <selenium.webdriver.remote.webelement.WebElement (session=\"5c4699d7eca66cf4e97b90df15af8323\", element=\"a0c6a5ae-f185-451e-aa50-2816580deed8\")>,\n",
       " <selenium.webdriver.remote.webelement.WebElement (session=\"5c4699d7eca66cf4e97b90df15af8323\", element=\"65b61da3-94a8-4558-8fe9-818fe7c0d2c9\")>,\n",
       " <selenium.webdriver.remote.webelement.WebElement (session=\"5c4699d7eca66cf4e97b90df15af8323\", element=\"c203356d-d251-415c-86d2-5b913f223871\")>,\n",
       " <selenium.webdriver.remote.webelement.WebElement (session=\"5c4699d7eca66cf4e97b90df15af8323\", element=\"cc5ced75-4bd2-4390-a096-001ea87de01b\")>,\n",
       " <selenium.webdriver.remote.webelement.WebElement (session=\"5c4699d7eca66cf4e97b90df15af8323\", element=\"4d1a7bdc-a991-440d-8de9-595a0c488f6d\")>,\n",
       " <selenium.webdriver.remote.webelement.WebElement (session=\"5c4699d7eca66cf4e97b90df15af8323\", element=\"20fc7248-6422-464a-a345-1f971cceb903\")>]"
      ]
     },
     "execution_count": 129,
     "metadata": {},
     "output_type": "execute_result"
    }
   ],
   "source": [
    "#get url first\n",
    "url1=driver.find_elements_by_xpath('//nav[@class=\"yFHi8N\"]//a')\n",
    "url1"
   ]
  },
  {
   "cell_type": "code",
   "execution_count": 130,
   "metadata": {},
   "outputs": [
    {
     "data": {
      "text/plain": [
       "['https://www.flipkart.com/apple-iphone-11-black-64-gb-includes-earpods-power-adapter/product-reviews/itm0f37c2240b217?pid=MOBFKCTSVZAXUHGR&lid=LSTMOBFKCTSVZAXUHGREPBFGI&marketplace=FLIPKART&page=1',\n",
       " 'https://www.flipkart.com/apple-iphone-11-black-64-gb-includes-earpods-power-adapter/product-reviews/itm0f37c2240b217?pid=MOBFKCTSVZAXUHGR&lid=LSTMOBFKCTSVZAXUHGREPBFGI&marketplace=FLIPKART&page=2',\n",
       " 'https://www.flipkart.com/apple-iphone-11-black-64-gb-includes-earpods-power-adapter/product-reviews/itm0f37c2240b217?pid=MOBFKCTSVZAXUHGR&lid=LSTMOBFKCTSVZAXUHGREPBFGI&marketplace=FLIPKART&page=3',\n",
       " 'https://www.flipkart.com/apple-iphone-11-black-64-gb-includes-earpods-power-adapter/product-reviews/itm0f37c2240b217?pid=MOBFKCTSVZAXUHGR&lid=LSTMOBFKCTSVZAXUHGREPBFGI&marketplace=FLIPKART&page=4',\n",
       " 'https://www.flipkart.com/apple-iphone-11-black-64-gb-includes-earpods-power-adapter/product-reviews/itm0f37c2240b217?pid=MOBFKCTSVZAXUHGR&lid=LSTMOBFKCTSVZAXUHGREPBFGI&marketplace=FLIPKART&page=5',\n",
       " 'https://www.flipkart.com/apple-iphone-11-black-64-gb-includes-earpods-power-adapter/product-reviews/itm0f37c2240b217?pid=MOBFKCTSVZAXUHGR&lid=LSTMOBFKCTSVZAXUHGREPBFGI&marketplace=FLIPKART&page=6',\n",
       " 'https://www.flipkart.com/apple-iphone-11-black-64-gb-includes-earpods-power-adapter/product-reviews/itm0f37c2240b217?pid=MOBFKCTSVZAXUHGR&lid=LSTMOBFKCTSVZAXUHGREPBFGI&marketplace=FLIPKART&page=7',\n",
       " 'https://www.flipkart.com/apple-iphone-11-black-64-gb-includes-earpods-power-adapter/product-reviews/itm0f37c2240b217?pid=MOBFKCTSVZAXUHGR&lid=LSTMOBFKCTSVZAXUHGREPBFGI&marketplace=FLIPKART&page=8',\n",
       " 'https://www.flipkart.com/apple-iphone-11-black-64-gb-includes-earpods-power-adapter/product-reviews/itm0f37c2240b217?pid=MOBFKCTSVZAXUHGR&lid=LSTMOBFKCTSVZAXUHGREPBFGI&marketplace=FLIPKART&page=9',\n",
       " 'https://www.flipkart.com/apple-iphone-11-black-64-gb-includes-earpods-power-adapter/product-reviews/itm0f37c2240b217?pid=MOBFKCTSVZAXUHGR&lid=LSTMOBFKCTSVZAXUHGREPBFGI&marketplace=FLIPKART&page=10',\n",
       " 'https://www.flipkart.com/apple-iphone-11-black-64-gb-includes-earpods-power-adapter/product-reviews/itm0f37c2240b217?pid=MOBFKCTSVZAXUHGR&lid=LSTMOBFKCTSVZAXUHGREPBFGI&marketplace=FLIPKART&page=2']"
      ]
     },
     "execution_count": 130,
     "metadata": {},
     "output_type": "execute_result"
    }
   ],
   "source": [
    "page_url1=[]\n",
    "for i in url1:\n",
    "    page_url1.append(i.get_attribute('href'))\n",
    "page_url1"
   ]
  },
  {
   "cell_type": "code",
   "execution_count": 131,
   "metadata": {},
   "outputs": [
    {
     "data": {
      "text/plain": [
       "['5',\n",
       " '5',\n",
       " '5',\n",
       " '5',\n",
       " '5',\n",
       " '5',\n",
       " '4',\n",
       " '5',\n",
       " '5',\n",
       " '5',\n",
       " '5',\n",
       " '5',\n",
       " '5',\n",
       " '5',\n",
       " '5',\n",
       " '5',\n",
       " '5',\n",
       " '5',\n",
       " '5',\n",
       " '5',\n",
       " '4',\n",
       " '5',\n",
       " '5',\n",
       " '5',\n",
       " '5',\n",
       " '4',\n",
       " '5',\n",
       " '5',\n",
       " '5',\n",
       " '5',\n",
       " '5',\n",
       " '5',\n",
       " '5',\n",
       " '5',\n",
       " '5',\n",
       " '4',\n",
       " '5',\n",
       " '5',\n",
       " '5',\n",
       " '5',\n",
       " '5',\n",
       " '5',\n",
       " '5',\n",
       " '5',\n",
       " '4',\n",
       " '5',\n",
       " '5',\n",
       " '5',\n",
       " '5',\n",
       " '5',\n",
       " '5',\n",
       " '5',\n",
       " '5',\n",
       " '5',\n",
       " '5',\n",
       " '5',\n",
       " '5',\n",
       " '5',\n",
       " '5',\n",
       " '5',\n",
       " '5',\n",
       " '5',\n",
       " '4',\n",
       " '5',\n",
       " '5',\n",
       " '4',\n",
       " '5',\n",
       " '5',\n",
       " '4',\n",
       " '5',\n",
       " '5',\n",
       " '5',\n",
       " '5',\n",
       " '5',\n",
       " '5',\n",
       " '5',\n",
       " '5',\n",
       " '5',\n",
       " '5',\n",
       " '4',\n",
       " '4',\n",
       " '5',\n",
       " '3',\n",
       " '5',\n",
       " '5',\n",
       " '5',\n",
       " '5',\n",
       " '5',\n",
       " '5',\n",
       " '5',\n",
       " '5',\n",
       " '5',\n",
       " '3',\n",
       " '5',\n",
       " '5',\n",
       " '5',\n",
       " '5',\n",
       " '5',\n",
       " '5',\n",
       " '5']"
      ]
     },
     "execution_count": 131,
     "metadata": {},
     "output_type": "execute_result"
    }
   ],
   "source": [
    "# we scraped for Ratings\n",
    "Ratings3=[]\n",
    "for i in page_url1[:13]:# we scraped only 13 pages\n",
    "    driver.get(i)\n",
    "    Ratings_3=driver.find_elements_by_xpath('//div[@class=\"_3LWZlK _1BLPMq\"]')\n",
    "    for i in Ratings_3:\n",
    "        Ratings3.append(i.text)\n",
    "Ratings3\n",
    "Final_Ratings_3=Ratings3[:100]\n",
    "Final_Ratings_3"
   ]
  },
  {
   "cell_type": "code",
   "execution_count": 132,
   "metadata": {},
   "outputs": [
    {
     "data": {
      "text/plain": [
       "100"
      ]
     },
     "execution_count": 132,
     "metadata": {},
     "output_type": "execute_result"
    }
   ],
   "source": [
    "len(Final_Ratings_3)"
   ]
  },
  {
   "cell_type": "code",
   "execution_count": 133,
   "metadata": {},
   "outputs": [
    {
     "data": {
      "text/plain": [
       "['Brilliant',\n",
       " 'Simply awesome',\n",
       " 'Perfect product!',\n",
       " 'Fabulous!',\n",
       " 'Worth every penny',\n",
       " 'Great product',\n",
       " 'Good choice',\n",
       " 'Worth every penny',\n",
       " 'Best in the market!',\n",
       " 'Highly recommended',\n",
       " 'Perfect product!',\n",
       " 'Highly recommended',\n",
       " 'Perfect product!',\n",
       " 'Classy product',\n",
       " 'Worth every penny',\n",
       " 'Perfect product!',\n",
       " 'Simply awesome',\n",
       " 'Highly recommended',\n",
       " 'Worth every penny',\n",
       " 'Terrific',\n",
       " 'Nice product',\n",
       " 'Wonderful',\n",
       " 'Classy product',\n",
       " 'Brilliant',\n",
       " 'Must buy!',\n",
       " 'Good choice',\n",
       " 'Perfect product!',\n",
       " 'Wonderful',\n",
       " 'Terrific purchase',\n",
       " 'Great product',\n",
       " 'Simply awesome',\n",
       " 'Mind-blowing purchase',\n",
       " 'Terrific purchase',\n",
       " 'Excellent',\n",
       " 'Simply awesome',\n",
       " 'Good quality product',\n",
       " 'Very poor',\n",
       " 'Perfect product!',\n",
       " 'Must buy!',\n",
       " 'Fabulous!',\n",
       " 'Mind-blowing purchase',\n",
       " 'Mind-blowing purchase',\n",
       " 'Wonderful',\n",
       " 'Worth every penny',\n",
       " 'Great product',\n",
       " 'Very Good',\n",
       " 'Perfect product!',\n",
       " 'Classy product',\n",
       " 'Perfect product!',\n",
       " 'Just wow!',\n",
       " 'Awesome',\n",
       " 'Terrific',\n",
       " 'Terrific purchase',\n",
       " 'Awesome',\n",
       " 'Classy product',\n",
       " 'Brilliant',\n",
       " 'Terrific',\n",
       " 'Perfect product!',\n",
       " 'Awesome',\n",
       " 'Perfect product!',\n",
       " 'Very poor',\n",
       " 'Fabulous!',\n",
       " 'Excellent',\n",
       " 'Must buy!',\n",
       " 'Value-for-money',\n",
       " 'Brilliant',\n",
       " 'Terrific purchase',\n",
       " 'Good quality product',\n",
       " 'Perfect product!',\n",
       " 'Awesome',\n",
       " 'Value-for-money',\n",
       " 'Just wow!',\n",
       " 'Super!',\n",
       " 'Best in the market!',\n",
       " 'Classy product',\n",
       " 'Highly recommended',\n",
       " 'Mind-blowing purchase',\n",
       " 'Must buy!',\n",
       " 'Excellent',\n",
       " 'Excellent',\n",
       " 'Terrific',\n",
       " 'Pretty good',\n",
       " 'Nice product',\n",
       " 'Mind-blowing purchase',\n",
       " 'Does the job',\n",
       " 'Wonderful',\n",
       " 'Worth every penny',\n",
       " 'Worth every penny',\n",
       " 'Fabulous!',\n",
       " 'Classy product',\n",
       " 'Awesome',\n",
       " 'Wonderful',\n",
       " 'Terrific purchase',\n",
       " 'Awesome',\n",
       " 'Decent product',\n",
       " 'Super!',\n",
       " 'Fabulous!',\n",
       " 'Just wow!',\n",
       " 'Mind-blowing purchase',\n",
       " 'Excellent']"
      ]
     },
     "execution_count": 133,
     "metadata": {},
     "output_type": "execute_result"
    }
   ],
   "source": [
    "# we scraped for review summary\n",
    "Review_summary=[]\n",
    "for i in page_url1[:13]:# we scraped only 13 pages\n",
    "    driver.get(i)\n",
    "    Review_summary_1=driver.find_elements_by_xpath('//p[@class=\"_2-N8zT\"]')\n",
    "    for i in Review_summary_1:\n",
    "        Review_summary.append(i.text)\n",
    "Review_summary\n",
    "Final_Review_summary=Review_summary[:100]\n",
    "Final_Review_summary"
   ]
  },
  {
   "cell_type": "code",
   "execution_count": 134,
   "metadata": {},
   "outputs": [
    {
     "data": {
      "text/plain": [
       "100"
      ]
     },
     "execution_count": 134,
     "metadata": {},
     "output_type": "execute_result"
    }
   ],
   "source": [
    "len(Final_Review_summary)"
   ]
  },
  {
   "cell_type": "code",
   "execution_count": 135,
   "metadata": {},
   "outputs": [
    {
     "data": {
      "text/plain": [
       "['The Best Phone for the Money\\n\\nThe iPhone 11 offers superb cameras, a more durable design and excellent battery life for an affordable price.\\n\\nCompelling ultra-wide camera\\nNew Night mode is excellent\\nLong battery life',\n",
       " 'Really satisfied with the Product I received... It’s totally genuine and the packaging was also really good so if ur planning to buy just go for it.',\n",
       " 'Amazing phone with great cameras and better battery which gives you the best performance. I just love the camera .',\n",
       " 'This is my first iOS phone. I am very happy with this product. Very much satisfied with this. I love this phone.',\n",
       " 'Previously I was using one plus 3t it was a great phone\\nAnd then I decided to upgrade I am stuck between Samsung s10 plus or iPhone 11\\nI have seen the specs and everything were good except the display it’s somewhere between 720-1080 and it’s not even an amoled it’s an LCD display\\nBut I decided to go with iPhone because I have never used an IOS device I have Been an android user from the past 9 years I ordered IPhone 11 (128gb) product red\\nMy experience after using 3 weeks\\n1. The delivery ...\\nREAD MORE',\n",
       " 'Amazing Powerful and Durable Gadget.\\n\\nI’m am very happy with the camera picture quality, Amazing face id unlocked in dark room, Strong battery with perfect screen size as you can carry easily in pocket. This is my third iPhone.\\n\\nI shifted from android Samsung Note series to iPhone because of the strong build quality and peace of mind for next 3-4 years.\\n\\nDon’t think to much just go for it and I suggest you to go for minimum 128gb variant or more 256gb.\\n\\nI’ve attached my puppy pics and no fi...\\nREAD MORE',\n",
       " 'So far it’s been an AMAZING experience coming back to iOS after nearly a decade but it’s not as versatile as android though phone is sturdy dropped it accidentally a couple of times and nothing happened fortunately camera is awesome',\n",
       " 'i11 is worthy to buy, too much happy with the product. Thank u flipkart I received the item on time..loved it..',\n",
       " 'Great iPhone very snappy experience as apple kind. Upgraded from iPhone 7.\\nPros\\n-Camera top class\\n- Battery top performed\\n-Chipset no need to say as apple kind\\n-Security as you expect from apple\\n- Display super bright industry leading colour\\naccuracy and super responsive\\n-Build quality as expect from apple sturdy\\npremium durable beautiful stylish.\\n-Os most stable os in smartphone industry\\n\\nCons\\n-No 5G\\n-Display is not based on OLED technology\\n-Charger headphones and 1 apple stic...\\nREAD MORE',\n",
       " 'iphone 11 is a very good phone to buy only if you can compromise for the display. The display on this is device is pretty good but you can get other options with better displays in this price segment.\\nIf you can survive with an HD+ LCD panel with thicker bezels and a notch up top then this is a very good phone for you.\\nCameras are awesome, battery backup excellent, great performance and a decent premium look. Good job Apple !',\n",
       " 'It’s a must buy who is looking for an upgrade from previous generation of iPhones. If you are using XR then still you can hold on for sometime and upgrade to 2020 model else this phone is a must buy . Camera quality is amazing and wide angle is something to count upon. Performance wise it’s amazing and feels premium while holding in hand. So a big YES for this device. Go for 128 GB variant as the 4K videos will occupy lots of space and the storage can get over very quickly. Try to buy it with...\\nREAD MORE',\n",
       " 'What a camera .....just awesome ..you can feel this iPhone just awesome . Good for gaming also ...try pubg in hd it’s just wow',\n",
       " 'Value for money❤️❤️\\nIts awesome mobile phone in the world ...\\nDisplay was very good and bright ..\\nTrust me freinds you r never regret after Buying..\\nJust go for it....\\nI love this phone and i switch to iphone x to 11',\n",
       " 'Totally in love with this ❤ the camera quality is amazing just love it 😘😘😘 itsss dammnnnnnn amazing... Must buy iPhone 11 this is my best experience ever ☀👌👌🧡🧡🧡🧡🧡 thanku apple ❤',\n",
       " 'Best budget Iphone till date ❤️ go for it guys without second thought. Let me explain you guys about Camera, Display, battery, and performance.\\n\\nCamera: at this price range there is no comparison of camera, you’ll love the picture quality as well as video quality. I am a Vlogger I wanted an iPhone with 4k video by front camera and I got this phone and I am more than happy 😃\\n\\nBattery: I use this phone roughly as I am active social media person and I have a youtube channel. so the battery ba...\\nREAD MORE',\n",
       " \"Iphone is just awesome.. battery backup is very very nice.. continuously for 10 hours we can use it.camera is just awesome.. display is just fab.i love it alot..i had to wait 15 days for it as i pre ordered it..overalll it's worth the price..these all images are clicked by my iPhone..and i love it.\",\n",
       " 'Excellent camera, good performance, no lag. The lcd display is also good.. but difference come when we watch movie in prime and Netflix, the colours are not vibrant.. as we see in amoled display.. and the charger in box is of 5 watts.. takes more than 3 hours to charge from 0 to 100.. so guys be prepare to buy 18 watts charger . Finally I am an android user, it was my first Iapple phone, I promise u guys the iOS is so smooth.. overall the phone is damn good.... close eyes to buy it.. thanks t...\\nREAD MORE',\n",
       " \"It's my first time to use iOS phone and I am loving my upgradation 😍😍 I love the color, I love the assebility of the phone....I need to learn more about its functionality, but as far as I have seen, it's quite easy and it has a lot of functions to work on, specially if you are a content writer or a blogger you get a lot of content creation platforms and they are really amazing.\\n\\nThis phone not only for good quality photography but a lot of other task too.😍💯\",\n",
       " 'It’s been almost a month since I have been using this phone. I upgraded from an iPhone 8. The main issue with my 8 was battery and this phone is just awesome when it comes to battery. It lasts a day and a half for me with my regular use , internet connected always with 4g\\nCan’t move forward without saying this. Battery of this phone is a life saver when I am traveling or at work when I don’t get the option to charge\\nCamera is superb. Front cam selfies and back cam photos are just awesome.\\n...\\nREAD MORE',\n",
       " 'Really worth of money. i just love it. It is the best phone ever.',\n",
       " 'Awesome Phone. Slightly high price but worth. Better than iPhone XR.\\nCamera is superb and wide angle camera is very clear.\\n12MP selfie camera is also very good.\\nA13 Chip gives a very good and smooth performance.',\n",
       " 'This is my first ever I phone. Before this I was using my google nexus 5. But moving from android to iOS is a great experience. It’s worth at this price. I will highly recommend it if you want to move to iOS. The best part of this phone is it’s camera and it’s battery life. This two things have won my heart. I loved it. Happy to have it in my hand. Still exploring its features. And can’t forget to mention Flipkart service. Very prompt service and fast delivery.',\n",
       " 'Superb Product !!!\\nA big and worthy upgrade from mi 3S to iphone 11 .\\nTotally loved it !',\n",
       " 'I have migrated from OP 7pro... and trust me, iPhone 11 is totally worth it.. following are the reasons:-\\n1)there is ABSOLUTELY NO ISSUE WITH THE DISPLAY... its crisp, sharp and I found it to be much much better than OP7 pro. Netflix, Prime video all run crisply... you won’t miss a thing. True Tone works flawlessly...the display brightness is perfect. OP have not calibrated their screens properly.\\n2) iPhone 11 series have really good cameras... others have spoken in depth about them.\\n3) bat...\\nREAD MORE',\n",
       " 'It’s an amazing product from apple and the camera is simply superb. Phone is faster.Night shot is simply superb and detailing and colour differentiation from camera is an added advantage\\n\\nThis review I have written from iPhone 11 only and I am glad to say outside.\\n\\nCons wise if we see HD+ display only, no battery percentage indicator as in older iPhone 8.\\nNo assistive touch control button in it\\nNo oleophobic coating on back panel glass and finger prints are visible but since I bought mint gr...\\nREAD MORE',\n",
       " 'Looking so good 👍 😍 super 👌 stylish 😎 phone\\nClean box 📦 good 👍 delivery 👌 fast delivery\\nOriginal box Original iphone 📱 👌 😍😍😍',\n",
       " 'After 1 month use I found camera quality best compared to my previous Samsung note 10+.Display not good as note 10 also charging too slow.Apple should add fast charger like 11 plus and pro.Best phone for daily use',\n",
       " 'I just directly switch from iphone 6s to iphone 11 .The best premium smartphone I recommend to everyone. Excellent quality and colors the iphone have in 11 series.\\nCamera quality is just awesome and the major feel when we hold in our hands. The sound quality and volume is also higher then the previous models.\\nI will recommend to buy iphone 11 instead of pro models , there is nothing much difference as this model contains everything which fulfill our needs.\\n\\nOnly one thing that I dislike abo...\\nREAD MORE',\n",
       " 'Upgraded from iphone 6 to 11 best phone for iphone users battery is much better than other iphones camera is awesome love to use it.camera is so clear in night.',\n",
       " 'Well you all know the specifications . One of a kind. Best iPhone till date. Many enhancements to the camera app with many options. Love the glass body with matte finish in the lens area on the back. Lovely colours to choose from. Best battery in an iPhone till date, enough to last more than a day in normal usage. I tested my iPhone 11 battery and lasted for than 24 hours after full charge still with 30% battery charge left. Watched movies for some time. Normal usage on calls, browsing, musi...\\nREAD MORE',\n",
       " \"It's very high performances devise i am like the service of flipkart delevary very fast and packing very nice perfect phone\",\n",
       " 'This will help you more. See if you are planning to buy iPhone 11. I will say. Yes. But there are some plans I just want to disclose before you buy. 1) If you are an existing iPhone X/XS/XS Max/ XR user, better you guys do not think it to buy. You guys have more or less better gadget. 2) If you are an android user and planning to buy premium phone. I will suggest them to please buy iPhone instead of buying an Android. I bet you will never go back to android after using IOS. Now I want to shar...\\nREAD MORE',\n",
       " 'The built quality is not very premium.\\nThe battery back is great .\\nThe LCD panel is not so sharp but the brightness level is very High .\\nCamera is super duper awesome.\\nThe red colour which people think is bright is actually very soothing and excellent colour to choose from .\\nThe A13 Bionic chip is really a flagship processor and can beat any phone which even has 12 gb ram .\\nCamera module is very great and looks very stylish.',\n",
       " 'Amazing camera and feel super machine I am not describe my feeling but this is amazing Phone I am so lucky I have this',\n",
       " 'Really good actually this is my first apple product am using its really awesome performance wise excellent. Am really happy with this iphone11',\n",
       " 'it is very good at performance. Camera is best like before and very smooth response even in water. Don’t buy 12 mini buy iPhone 11 , it is far better than 12 mini believe me ! Have a nice day \\uf8ff ☺️',\n",
       " 'Reviewing again after 5 months. At the beginning the battery and performance was good but it degraded soon. Also I was facing heating issues. The mobile will heat up like a stove sometimes. You cannot even play Pubg even in low settings properly, performance is not a problem but heating is. Also if you play that game for 10 mins the brightness will be automatically down due to over heating even when the auto brightness is set to off. This will not be solved even if u manually increase the bri...\\nREAD MORE',\n",
       " 'It is just awesome mobile for this price from Apple,\\n\\nAfter 10 days review\\n\\nBattery enough for 1 day even 24*7 Internet will be on and mostly internet usage\\n\\nCamera is just awesome cool , android 64 MP is equal to this just 12 MP\\n\\nA13 Bionic chip will give more high performance without hanging\\n\\nAudio stereo speakers will give Dolby atoms sound with crystal clear\\n\\nVideo recording is like cinematic shots of every sec can be a 4K 60fps. Just awesome this phone\\niPhone 11 loved one',\n",
       " 'Best Apple iPhone that i have bought at a very reasonable price, camera quality is next level just awesome n of superior quality android phones not even close(RIP) to that and also battery is really good but packaging by Flipkart of iPhone was very poor of such a expensive product, firstly im bit worried about the quality of product if i purchased it through online how was the product but i think now this was mine best decision to bought it through Flipkart online because i got genuine Apple...\\nREAD MORE',\n",
       " \"I can say I'm damn impressed with iPhone 11. As they says iPhone 11 have the toughest glass ever in the smartphone which you'll find on the front and back and it's totally smooth. The fit and finish is full apple quality - there's no sense that any cheaping out has happened in the construction. Without saying it's camera features this review won't complete. The iPhone 11 has a dual camera system, consisting of a wide angle len's that's pretty much same as found on the iPhone XR last year, but...\\nREAD MORE\",\n",
       " 'Best Quality Product OF iPhone Series , Sound Quality & Camera quality is very awesome, Battery Life is very Sufficient for 24 hr Backup With Full Internet Access , I love this this Product too much , It is very fast & making me Very fast in all my daily Routine\\nHighlights;\\n1.Camera: 5 STAR\\n2.Video Recording: 5 star\\n3.Night mODE sHOOTING & Camera:4 star\\n4. Audio Quality: Awesome\\n5. Battery : 5 Star\\n6. Touch:5 Star\\n7. Processor: Very Fast\\nThe M...\\nREAD MORE',\n",
       " 'First thanks to Flipkart for this amazing deal and phone is outstanding. I upgraded from iPhone 7 and this is like very big upgrade. But the packaging was very basic I expected a good packaging as they only wrapped one layer of bubble wrap which I don’t think is enough to protect this expensive phone. And I recommend this phone and seller as well.\\n\\nAnd I’m posting this review after using it for 4 days.',\n",
       " 'Superfast delivery by Flipkart. Thanks.\\n\\n1. iPhone 11 is a pretty solid phone for the money you are paying.\\n2. All the bad reviews about the display is confusing. It’s not that bad.\\n3. I switched from a Oneplus 7t. I have no complaints about the display quality of iPhone. Yes, it’s not OLED, so, we are missing on the deep blacks. But that’s it. It is a very colour accurate display. Gets adequately bright and I could not find any pixelation.\\n4. Performance is one of the best, if not best, in ...\\nREAD MORE',\n",
       " 'Smooth like butter, camera like fantabulous, sound is crystal clear & its red color is damn attractive, i am just loving it. Must buy if you love photography.\\n\\nLucky to get it in sale, thank you Flipkart.',\n",
       " \"Again back to apple iphone after a gap of 2-3 years. It's pleasure to use iOS and the quality product by Apple. Iphone 11 still works like a beast in 2021 also. It really capable of doing day to day usage as well as hard core gaming. Battery is awesome. I'm really too much satisfied with it. Apart fto the very gorgious IPS LCD (AMOLED will be better) everything is mind boggling. Iphone💕.\",\n",
       " 'impressive super phone and best in class camera ,sound and face unlock is super fast just see and phone is unlock and fast in daily apps use',\n",
       " 'Battery backup is extraordinary, camera is decent & performance offered by A13 bionic is awsome. The display is good in practical usage like the visibility of display is very good in direct sun light compare to pro models. Iam extremely satisfied for the money I spent.',\n",
       " 'Well while switching from android to iOS the first thing you need to be careful about is that you will loose all your whatsapp chat backups as both are different operating systems. Camera clarity is awesome and though being an lcd screen clarity and resolution is good. Battery backup is also good unlike previous gen iPhone. So far the experience is good will Padre after a few months of usage.\\n\\nP.S the black is more of a dark grey shade and not jet black',\n",
       " 'In love with this iphone great performance,camera ,battery everything. Go for it have a uncompareble battery backup, no doubts in iPhone camera here You can see the picture which is shot on my iPhone In love with this iphone great performance,camera ,battery everything. Go for it have a uncompareble battery backup, no doubts in iPhone camera here You can see the picture which is shot on my iPhone In love with this iphone great performance,camera ,battery everything. Go for it have a uncompare...\\nREAD MORE',\n",
       " 'Best in class. Battery backup is good especially when you play games like Pubg COD. But it is sort of heavy when you hold in hands. Portrait mode is best to click pictures. Stage light effect is awesome. Try to click photos outside in nature because photos inside home or room will not give you the quality in any phone even in DSLR.',\n",
       " 'Very excited to have this phone. This phone has the real power unlike the android phones having SD 855 . The battery life is very good and the camera quality is excellent as comapred to redmi and other phones except google pixel. I M enjoying every single bit of it. Would recommed only if you have the budget.',\n",
       " \"I upgraded (downgraded?) from my iPhone X since the phone fell down and I didn't want to repair the screen. The box that the phone came in was super slim and I was worried that there'd be no 5W charger with it and my fears were confirmed. However, thankfully I had the 18W USB-C PD charger from Apple which I bought for my iPhone X and it worked perfectly. The charging time is as lethargic as ever though and it takes about 1:30 mins or even 2 hours depending on charge remaining. I'll list some ...\\nREAD MORE\",\n",
       " 'Its Very awesome product working and good camera quality and all about best product and also flipkart is very great deal and offer nice price',\n",
       " 'I am using this phone for 5 days and its one of the best camera out there ❤️ the screen is not oled and i am coming from iphone xs so its little bit not up to the mark i would say\\nBut overall value for money💕😍the battery back up is far better than my iphone xs and its worth in my apple ecosystem💫❤️if u are an apple User and have the eco system then go for it❤️though i will be getting the new iphone but its pretty good💫',\n",
       " 'Best and amazing product.....phone looks so premium.... battary is also good as expected .... Wide angle camera is so addictive ...if you are a IOS lover....then this phone will be the best choice for you all!!💯🔥',\n",
       " 'Excellent camera and display touching very nice and smooth very improvement against iPhone XR and new processor is very fast',\n",
       " \"I got this beast today. And I must say the picture quality of its camera is awesome. Both the cameras works fine.\\n\\nAs for as the processing is concerned, it runs without any lag. You can play and do whatever you want without a glitch.\\n\\nThe battery runs for a day with medium and high workload.\\n\\nThe display is good and the speakers are working fine.\\n\\nThe earphones doesn't have any base and you can use it for calling mostly.\\n\\nThe charging time is approximately for 90 minutes for full charging...\\nREAD MORE\",\n",
       " 'Awesome purchase. Amazing phone with good battery backup. It’s a top notch device. White colour looks amazing. Phone has a few extra feature than iPhone XR. Overall, this is value for money',\n",
       " 'Always love the apple products, upgraded from old iPhone 6S plus to this after having my first baby. I just love to click baby’s photos with it. Overall I just love this phone. Battery back up is okay, sound quality is good. Haven’t tested yet waterproof yet. Only one thing I hate is apple could have given charger & headphones in box.',\n",
       " 'Value for money\\n5 star rating\\nExcellent camera\\nBattery backup full day in single charge.\\n\\nTougher and water resistant design, glossy back.\\nThe screen has excellent brightness and contrast.\\nApple A13 Bionic is the fastest smartphone chip on the planet.\\nExcellent battery life, fast charging support.\\nStereo speakers with great quality.',\n",
       " 'Please DONT buy from here,\\n\\nI purchased Apple iPhone 11. with an exchange of IPhone 7, the exchange did not go well, iPhone 7 had a small scratch out side screen which i could never identify till date, but the FLIPKART person could, so he reduced 50% from exchange rate. I decided not to trade in, but paid money.\\n\\niPhone 11 Detail Below\\n---------------------------------------------\\nIt came with no charging, then i have put for charging, it took lot of time for charging, the phone also showe...\\nREAD MORE',\n",
       " 'awesome phone to have. it has got many smart features apart from mind blowing looks, camera, display, battery and sound. have fallen in love with this phone. must buy phone if you have got enough money. thanks to flipkart and apple of course..',\n",
       " 'Its a fabulous mobile look awesome performance unbeaten camera like dslr battery good i think this is a beast of mobile',\n",
       " 'Dear friends... I want to share my experience with you about this amazing I phone 11....this is my first iPhone and special things about this mobile is it has great camera, battery backup and awesome display.... I mean everything is perfect.loved it 👍👍👍',\n",
       " \"Just got this iphone 11\\nAnd it is most powerful mobile phone I have used ever\\n\\nSo,go for it if you want a phone with best specification like camera,battery backup,display, A13 bionic chip\\n\\nThat's my review about this phone but yours can be differ from me....\",\n",
       " 'Amazing phone and on great deal I received with super fast delivery by Flipkart...',\n",
       " 'finally an iPhone with very nice battery backup. update from iPhone 7 and happy to have it. camera is not up to the mark in low light but overall a recommended phone if your budget allows 😀',\n",
       " \"I'm switching this phone to oppo reno 10x zoom\\nIt's really impressive\\nRarely I'm missing smooth display touch response like oppo reno but\\nI really loved it.\\nCamera really impressive\",\n",
       " 'Worth the money’ starting first from its performance it beats out all phones , second the smoothness of camera is awesome, contrast ratio is much than expected. Price will not matter if u r a quality person, if not other phones are available with better discount',\n",
       " 'I dreamt about this day from a long time.... Getting an iPhone with my own money.... Super happy and worth spending every penny',\n",
       " \"I'm Really happy with the product\\nDelivery was fast as well\\n..it was a gift for my sister and she loved it so much.\",\n",
       " 'Great iphone.\\nI am writing this review after 2 months of usage.\\nCamera is excellent, especially the nightmode\\nDisplay perfect\\nBattery backup awesome\\nSound quality very good\\nOverall Apple gives you a perfect iphone in this range.\\nReally in love with iPhone 11',\n",
       " 'Did an upgrade from 6s plus to iphone 11.\\nAo far the experience is well and good. Felt smoother than 6s plus. The camera quality is superb. Battery backup is descent. Not a heavy user, and gets power more than a day. Go for it if you need an alrounder iphone in a competitve price.',\n",
       " 'Damn this phone is a blast . Upgraded from android to ios and is a duperb experience. Battery backup is top notch and display also pretty good',\n",
       " 'Gifted my man on his 30th birthday 🎂 He loves it.. Him happy so i am more than happy 😍😘❤️🥰',\n",
       " 'Thanks Flipkart For this amazing deal! I had a dream of owning a iphone since i had known about.\\nIm very happy with my purchase & it is totally worth it.\\nAmazing experience all over !!\\n\\nAnyone who’s thinking of buying it in 2021, i would simply say go for it without any second thoughts ❤️',\n",
       " 'awesome Phone Smooth Touch Too good Sexyy looks one word Awesome',\n",
       " 'I rate this product 5* as it has got amazing user experience with the best performing A13 bionic processor. The screen responds and graphics rendering is top notch. With casual gaming and internet browsing, the battery lasts for approx. 1 day. Camera is very good. You will fall in love with the portrait mode. You can call me a loyal Apple customer or whatever but I won’t stop praising the products and overall experience. That user experience matters and is worth every penny you pay.\\n\\nBelow ar...\\nREAD MORE',\n",
       " \"It was amazing experience for me. Honestly i am using iPhone first time so I don't have that much past experience about that. But after using 7 days this mobile i want to give some honest feedback.\\n1- Display 9 out of 10\\n2- Camera 9.5 out of 10\\n3- Battery 7 out of 10\\n4- Performance 9.5 out of 10\\n5- Features & Functions 10 out of 10\\n6- Outer looks and colour 10 out of 10\\nRest i think i will understand after using this for few months.\\nI will highly recommend you guys if you have budget then you...\\nREAD MORE\",\n",
       " \"Just go for it.\\nThis phone is really amazing. I ordered it for my wife and we click photos on this thing which are better than dslr. I own OnePlus 6t but it's camera sucks. iPhone is really amazing when it comes to camera. It's worth spending 50k on this. Cons- only display is lcd. While using u don't feel it but if u compare with other phone then u can see difference quite easily.\\nChanging from Android to iphone is bit difficult coz most of things u don't know but I liked it. Some of the a...\\nREAD MORE\",\n",
       " 'I bought iPhone 11 On March 2021, And I am Writing this review after using the phone for 4 Months. I would Say Everything is fine, Top Performance, Nice Camera as Anyone would Expect from any series of iPhone but when the Question comes to Battery it is complicated. The Battery is fully optimised and it comes 3110 mAh capacity but the problem is with the charger. Honestly Apple Removed charger from in Box items in the name of Environment and they are also forcing us to buy any 20W PD 3rd part...\\nREAD MORE',\n",
       " \"I've used this phone for over a month now and here are my takeaways.\\nI would like to first talk about the best things about this phone and then the cons of it.\\n\\nPros:\\nThis phone is a performance beast. It handles large games and applications effortlessly and you won't find any stutters or lags while playing graphic intensive games like pubg, cod , mortal kombat and asphalt.\\n\\nThis phone has only 4gb ram and yet the ram management is amazing, it can keep 3 heavy games in memory without reload...\\nREAD MORE\",\n",
       " \"If you are looking for a premium phone under 55k, this is the one for you.Got the iPhone 11 during the Republic day sale. Performance is top notch in this price range. Camera's do a perfect job in taking good quality photos and videos. Battery backup too is satisfactory. Writing this review after using for a week. Any further observations would be updated.\",\n",
       " 'Absolutely powerful gadget. Loved it’s look! Soo glassy and classy. I would definitely recommend this model of Apple. Only disappointed with the 5W charger, one should purchase an 18W adapter for fast charging. Though battery backup is great. Bought it in September 2020, reviewing after so long so I’m gonna put the genuine review here.✅',\n",
       " \"phone is good but in display is 720p lcd in this price range we can get full hd OLED displays with higher refresh rate processor is very good camera is nice but looks kind of oldish in front of todays phone also there's no charging in box had to buy it seperately\",\n",
       " 'Nice value for money good and best price I phone mind blowing camera processor very fast other android mobile I am happy India top selling phone 2020',\n",
       " 'Here is the thing\\n\\nThe only reason why you should buy this phone is for the camera, iOS, and if you have headaches looking at AMOLED display.\\n\\nI’m not an avid gamer but watch a lot of movies on smartphone. However, my migraine attacks increased considerably after using AMOLED Smartphone. That’s why I made a calculated decision to buy iPhone 11. It has the best LCD display and the blacks, though not as natural as an AMOLED, is better than some of the other smartphones.\\n\\nAdding to this the ste...\\nREAD MORE',\n",
       " 'Undoubtedly Iphone 11 is the most successful model till now and its performance is extraordinary and the security features are very impressive, display is more vibrant sound quality Camera Quality 5*****, but Iphone should add accessories too and act like scrooge.',\n",
       " 'I purchased the iPhone 11 a month back. I must say Apple has impressed me yet again . I have been an Apple user for past 5 years . The phone is power packed with amazing features . What impressed me the most was the battery backup the phone offers . Battery can easily run upto 1.5 days in single charge with moderate to\\nHeavy usage . If you’re looking for a value for money device , I don’t see any other phone in the price range which can match the iPhone 11 .\\nOne thing I didn’t like was that ...\\nREAD MORE',\n",
       " 'We are on apple ecosystem for almost eight years now with couple of iPads and iPhones, including Xr.\\n\\nBought iPhone 11 as a gift to my daughter who loves it. We chose for a purple coloured one. Believe me it is gorgeous and towards the lighter shade. Dazzling and brilliant!\\n\\nThe phone is great and does excellent RAM management like any other Apple device.\\n\\nThe screen, though a LCD and lesser ppi as compared to other flagship phones of competitor brands, is a delight to watch with perfect re...\\nREAD MORE',\n",
       " 'Can’t beat the software and hardware integration of apple.\\nPerforms like a beast. Great quality camera\\n6-7 hours screen on time which is good. Nothing much to complaint about the screen. Good connectivity speeds.\\nGreat buy and Flipkart’s delivery top notch as usual',\n",
       " 'Super and marvellous phone look very cute and nice sound. I love this phone i think white is good colur.Excellent camer 5*😍😘♥️♥️',\n",
       " 'I use a Note10+ and have been using both iOS and Android devices.\\n\\nCamera has really good features and portraits are super good, better than Samsung flagship. Overall camera setup can still be enhanced and hopeful for better upgrades on software in next release\\n\\nOperating system is quite a breeze and user experience of daily usage is very high as compared to Android. I moved to iOS very swiftly in 2 days for all my office work from Note10+\\n\\nBattery holds up quite well with 4 hrs of call and ...\\nREAD MORE',\n",
       " 'The phone is completely good\\nAs far as camera Apple is king of it\\nAnd its a beast in performance\\nAnd the battery is pretty good too',\n",
       " 'Everything u ll like it when u use this iPhone. Simple changes only not many to lower models but it’s nice to use. Little heavy compared to previous models like 7,8',\n",
       " 'This is my first ever iPhone.\\nAnd I truly don’t regret switching to IOS from my Android.\\n\\nIt is easily an alternative to a DSLR camera.\\nIf you’re obsessed with photos and videos, just don’t think twice or don’t compare to other androids(Samsung S10 lite or OnePlus 8/8T), as it’s far better from them in every field.\\nComparing will only make you confused.\\n\\nI am getting an average Screen on Time of around 10 hours with 30 percent left. I haven’t let my device discharged below 30 % as it aff...\\nREAD MORE',\n",
       " 'Everything is perfect pictures come out so clearly and at first I wasn’t sure when I got it then when I started to use it and get the hang of it it was amazing!! I can’t wait to see what the next future phones will be like. The screen display on this bad boy are unbelievable they are so clear and never fail me. The performance is super cool there is a lot of cool features as well I like this phone because I feel that it is easy to use and one of my favorite things about this phone is the Face...\\nREAD MORE',\n",
       " 'The ultimate performance\\nCamera is superb\\nThe battery backup also very good i never saw iphone gives this much of battery backup\\nIf any one wana buy iphone 11 definitely i will recommend this mobile\\nIt has the better battery and powerfull processer peak performance glorious camera and the display also 100% high quality lcd display if u had money for for 12 if u dont wana invest much money on that then go for iphone 11 it has maximum same specs only main difference between the 12 and 11 is...\\nREAD MORE',\n",
       " 'Excellent camera 📸 And Display touching very Nice And Smooth and very improvement against\\nI phone 11 and new processor is very fast',\n",
       " 'A perfect phone and a good battery super camera and the sound is dynamic overall the phone is perfect for upgrading from lower iPhone model to iPhone 11']"
      ]
     },
     "execution_count": 135,
     "metadata": {},
     "output_type": "execute_result"
    }
   ],
   "source": [
    "# we scraped for review summary\n",
    "Full_Review_summary=[]\n",
    "for i in page_url1[:13]:# we scraped only 13 pages\n",
    "    driver.get(i)\n",
    "    Full_Review_summary_1=driver.find_elements_by_xpath('//div[@class=\"t-ZTKy\"]')\n",
    "    for i in Full_Review_summary_1:\n",
    "        Full_Review_summary.append(i.text)\n",
    "Full_Review_summary\n",
    "Final_Full_Review_summary=Full_Review_summary[:100]\n",
    "Final_Full_Review_summary"
   ]
  },
  {
   "cell_type": "code",
   "execution_count": 136,
   "metadata": {},
   "outputs": [
    {
     "data": {
      "text/plain": [
       "100"
      ]
     },
     "execution_count": 136,
     "metadata": {},
     "output_type": "execute_result"
    }
   ],
   "source": [
    "len(Final_Full_Review_summary)"
   ]
  },
  {
   "cell_type": "code",
   "execution_count": 137,
   "metadata": {},
   "outputs": [
    {
     "data": {
      "text/html": [
       "<div>\n",
       "<style scoped>\n",
       "    .dataframe tbody tr th:only-of-type {\n",
       "        vertical-align: middle;\n",
       "    }\n",
       "\n",
       "    .dataframe tbody tr th {\n",
       "        vertical-align: top;\n",
       "    }\n",
       "\n",
       "    .dataframe thead th {\n",
       "        text-align: right;\n",
       "    }\n",
       "</style>\n",
       "<table border=\"1\" class=\"dataframe\">\n",
       "  <thead>\n",
       "    <tr style=\"text-align: right;\">\n",
       "      <th></th>\n",
       "      <th>Ratings</th>\n",
       "      <th>Review Summary</th>\n",
       "      <th>Full Review</th>\n",
       "    </tr>\n",
       "  </thead>\n",
       "  <tbody>\n",
       "    <tr>\n",
       "      <th>0</th>\n",
       "      <td>5</td>\n",
       "      <td>Brilliant</td>\n",
       "      <td>The Best Phone for the Money\\n\\nThe iPhone 11 ...</td>\n",
       "    </tr>\n",
       "    <tr>\n",
       "      <th>1</th>\n",
       "      <td>5</td>\n",
       "      <td>Simply awesome</td>\n",
       "      <td>Really satisfied with the Product I received.....</td>\n",
       "    </tr>\n",
       "    <tr>\n",
       "      <th>2</th>\n",
       "      <td>5</td>\n",
       "      <td>Perfect product!</td>\n",
       "      <td>Amazing phone with great cameras and better ba...</td>\n",
       "    </tr>\n",
       "    <tr>\n",
       "      <th>3</th>\n",
       "      <td>5</td>\n",
       "      <td>Fabulous!</td>\n",
       "      <td>This is my first iOS phone. I am very happy wi...</td>\n",
       "    </tr>\n",
       "    <tr>\n",
       "      <th>4</th>\n",
       "      <td>5</td>\n",
       "      <td>Worth every penny</td>\n",
       "      <td>Previously I was using one plus 3t it was a gr...</td>\n",
       "    </tr>\n",
       "    <tr>\n",
       "      <th>...</th>\n",
       "      <td>...</td>\n",
       "      <td>...</td>\n",
       "      <td>...</td>\n",
       "    </tr>\n",
       "    <tr>\n",
       "      <th>95</th>\n",
       "      <td>5</td>\n",
       "      <td>Super!</td>\n",
       "      <td>This is my first ever iPhone.\\nAnd I truly don...</td>\n",
       "    </tr>\n",
       "    <tr>\n",
       "      <th>96</th>\n",
       "      <td>5</td>\n",
       "      <td>Fabulous!</td>\n",
       "      <td>Everything is perfect pictures come out so cle...</td>\n",
       "    </tr>\n",
       "    <tr>\n",
       "      <th>97</th>\n",
       "      <td>5</td>\n",
       "      <td>Just wow!</td>\n",
       "      <td>The ultimate performance\\nCamera is superb\\nTh...</td>\n",
       "    </tr>\n",
       "    <tr>\n",
       "      <th>98</th>\n",
       "      <td>5</td>\n",
       "      <td>Mind-blowing purchase</td>\n",
       "      <td>Excellent camera 📸 And Display touching very N...</td>\n",
       "    </tr>\n",
       "    <tr>\n",
       "      <th>99</th>\n",
       "      <td>5</td>\n",
       "      <td>Excellent</td>\n",
       "      <td>A perfect phone and a good battery super camer...</td>\n",
       "    </tr>\n",
       "  </tbody>\n",
       "</table>\n",
       "<p>100 rows × 3 columns</p>\n",
       "</div>"
      ],
      "text/plain": [
       "   Ratings         Review Summary  \\\n",
       "0        5              Brilliant   \n",
       "1        5         Simply awesome   \n",
       "2        5       Perfect product!   \n",
       "3        5              Fabulous!   \n",
       "4        5      Worth every penny   \n",
       "..     ...                    ...   \n",
       "95       5                 Super!   \n",
       "96       5              Fabulous!   \n",
       "97       5              Just wow!   \n",
       "98       5  Mind-blowing purchase   \n",
       "99       5              Excellent   \n",
       "\n",
       "                                          Full Review  \n",
       "0   The Best Phone for the Money\\n\\nThe iPhone 11 ...  \n",
       "1   Really satisfied with the Product I received.....  \n",
       "2   Amazing phone with great cameras and better ba...  \n",
       "3   This is my first iOS phone. I am very happy wi...  \n",
       "4   Previously I was using one plus 3t it was a gr...  \n",
       "..                                                ...  \n",
       "95  This is my first ever iPhone.\\nAnd I truly don...  \n",
       "96  Everything is perfect pictures come out so cle...  \n",
       "97  The ultimate performance\\nCamera is superb\\nTh...  \n",
       "98  Excellent camera 📸 And Display touching very N...  \n",
       "99  A perfect phone and a good battery super camer...  \n",
       "\n",
       "[100 rows x 3 columns]"
      ]
     },
     "execution_count": 137,
     "metadata": {},
     "output_type": "execute_result"
    }
   ],
   "source": [
    "# now make dataframe for Apple phone review\n",
    "Apple_phone=pd.DataFrame({})\n",
    "Apple_phone['Ratings']=Final_Ratings_3\n",
    "Apple_phone['Review Summary']=Final_Review_summary\n",
    "Apple_phone['Full Review']=Final_Full_Review_summary\n",
    "Apple_phone"
   ]
  },
  {
   "cell_type": "markdown",
   "metadata": {},
   "source": [
    "#### Q8: Scrape data for first 100 sneakers you find when you visit flipkart.com and search for “sneakers” in the search field.\n",
    "You have to scrape 4 attributes of each sneaker :\n",
    "\n",
    "Brand\n",
    "Product Description\n",
    "Price\n",
    "discount %"
   ]
  },
  {
   "cell_type": "code",
   "execution_count": 51,
   "metadata": {},
   "outputs": [],
   "source": [
    "# Get Url first for searching sneaker\n",
    "url8='https://www.myntra.com/shoes'\n",
    "driver.get(url8)"
   ]
  },
  {
   "cell_type": "code",
   "execution_count": 52,
   "metadata": {},
   "outputs": [],
   "source": [
    "search_sneaker=driver.find_element_by_xpath('//input[@class=\"desktop-searchBar\"]')\n",
    "search_sneaker.send_keys('Sneaker')"
   ]
  },
  {
   "cell_type": "code",
   "execution_count": 53,
   "metadata": {},
   "outputs": [],
   "source": [
    "search_button=driver.find_element_by_xpath('//span[@class=\"myntraweb-sprite desktop-iconSearch sprites-search\"]')\n",
    "search_button.click()"
   ]
  },
  {
   "cell_type": "code",
   "execution_count": null,
   "metadata": {},
   "outputs": [],
   "source": [
    "# in question given price range is “Rs. 6649 to Rs. 13099” but this range is not available in website, so we use range \" Rs 5387 to Rs 10525\"\n",
    "#price_filter=driver.find_element_by_xpath('/html/body/div[2]/div/div[1]/main/div[3]/div[1]/section/div/div[4]/ul/li[2]/label/div')\n",
    "#price_filter.click()"
   ]
  },
  {
   "cell_type": "code",
   "execution_count": null,
   "metadata": {},
   "outputs": [],
   "source": [
    "#color_filter=driver.find_element_by_xpath('/html/body/div[2]/div/div[1]/main/div[3]/div[1]/section/div/div[5]/ul/li[2]/label/div')\n",
    "#color_filter.click()"
   ]
  },
  {
   "cell_type": "code",
   "execution_count": 54,
   "metadata": {},
   "outputs": [
    {
     "data": {
      "text/plain": [
       "[<selenium.webdriver.remote.webelement.WebElement (session=\"4d4bd235ab29a361d9798d543cbe1a59\", element=\"895f86f2-45fa-472c-b3ae-66bebf0228fa\")>,\n",
       " <selenium.webdriver.remote.webelement.WebElement (session=\"4d4bd235ab29a361d9798d543cbe1a59\", element=\"c254c1d4-7f6d-43f7-99fa-d4bf5155cc72\")>,\n",
       " <selenium.webdriver.remote.webelement.WebElement (session=\"4d4bd235ab29a361d9798d543cbe1a59\", element=\"139545e7-55df-42a6-a37d-40b1a87e3783\")>,\n",
       " <selenium.webdriver.remote.webelement.WebElement (session=\"4d4bd235ab29a361d9798d543cbe1a59\", element=\"33487427-b79f-4454-b647-c9de22953298\")>,\n",
       " <selenium.webdriver.remote.webelement.WebElement (session=\"4d4bd235ab29a361d9798d543cbe1a59\", element=\"2eea3944-ba01-4303-83b1-71eb8b584cfe\")>,\n",
       " <selenium.webdriver.remote.webelement.WebElement (session=\"4d4bd235ab29a361d9798d543cbe1a59\", element=\"b262489b-4082-4064-aa56-c5a90ff0c149\")>,\n",
       " <selenium.webdriver.remote.webelement.WebElement (session=\"4d4bd235ab29a361d9798d543cbe1a59\", element=\"734d9a20-70c0-4d7f-be72-55bfd80c65ea\")>,\n",
       " <selenium.webdriver.remote.webelement.WebElement (session=\"4d4bd235ab29a361d9798d543cbe1a59\", element=\"19dbf8ef-3679-41f3-9681-0c2017b82d8d\")>,\n",
       " <selenium.webdriver.remote.webelement.WebElement (session=\"4d4bd235ab29a361d9798d543cbe1a59\", element=\"7f40b10a-2ae5-48d5-a9f0-413d5c4ec783\")>]"
      ]
     },
     "execution_count": 54,
     "metadata": {},
     "output_type": "execute_result"
    }
   ],
   "source": [
    "# now we want to scrap 100 shoe  so we will get page url first\n",
    "url9=driver.find_elements_by_xpath('//li[@class=\"pagination-number\"]//a')\n",
    "url9"
   ]
  },
  {
   "cell_type": "code",
   "execution_count": 55,
   "metadata": {},
   "outputs": [
    {
     "data": {
      "text/plain": [
       "['https://www.myntra.com/sneaker?p=2',\n",
       " 'https://www.myntra.com/sneaker?p=3',\n",
       " 'https://www.myntra.com/sneaker?p=4',\n",
       " 'https://www.myntra.com/sneaker?p=5',\n",
       " 'https://www.myntra.com/sneaker?p=6',\n",
       " 'https://www.myntra.com/sneaker?p=7',\n",
       " 'https://www.myntra.com/sneaker?p=8',\n",
       " 'https://www.myntra.com/sneaker?p=9',\n",
       " 'https://www.myntra.com/sneaker?p=10']"
      ]
     },
     "execution_count": 55,
     "metadata": {},
     "output_type": "execute_result"
    }
   ],
   "source": [
    "page_url9=[]\n",
    "for i in url9:\n",
    "    page_url9.append(i.get_attribute('href'))\n",
    "page_url9"
   ]
  },
  {
   "cell_type": "code",
   "execution_count": 58,
   "metadata": {},
   "outputs": [
    {
     "data": {
      "text/plain": [
       "['Roadster',\n",
       " 'Skechers',\n",
       " 'Bella Toes',\n",
       " 'HRX by Hrithik Roshan',\n",
       " 'Puma',\n",
       " 'Lacoste',\n",
       " 'U.S. Polo Assn.',\n",
       " 'HRX by Hrithik Roshan',\n",
       " 'Roadster',\n",
       " 'WROGN',\n",
       " 'Delize',\n",
       " 'Puma',\n",
       " 'BYFORD by Pantaloons',\n",
       " 'Nike',\n",
       " 'HIGHLANDER',\n",
       " 'DressBerry',\n",
       " 'Bella Toes',\n",
       " 'U.S. Polo Assn.',\n",
       " 'H&M',\n",
       " 'WROGN',\n",
       " 'ZAPATOZ',\n",
       " 'HRX by Hrithik Roshan',\n",
       " 'HIGHLANDER',\n",
       " 'Jack & Jones',\n",
       " 'mr.wonker',\n",
       " 'H&M',\n",
       " 'Truffle Collection',\n",
       " 'Puma',\n",
       " 'bacca bucci',\n",
       " 'HRX by Hrithik Roshan',\n",
       " 'PUMA Motorsport',\n",
       " 'HRX by Hrithik Roshan',\n",
       " 'Roadster',\n",
       " 'Kook N Keech',\n",
       " 'Puma',\n",
       " 'H&M',\n",
       " 'Roadster',\n",
       " 'H&M',\n",
       " 'Woodland',\n",
       " 'HRX by Hrithik Roshan',\n",
       " 'DressBerry',\n",
       " 'Roadster',\n",
       " 'Mast & Harbour',\n",
       " 'Kook N Keech',\n",
       " 'Sir Corbett',\n",
       " 'HRX by Hrithik Roshan',\n",
       " 'HIGHLANDER',\n",
       " 'Mactree',\n",
       " 'bacca bucci',\n",
       " 'HRX by Hrithik Roshan',\n",
       " 'Mactree',\n",
       " 'bacca bucci',\n",
       " 'HRX by Hrithik Roshan',\n",
       " 'Jack & Jones',\n",
       " 'HIGHLANDER',\n",
       " 'Nike',\n",
       " 'Roadster',\n",
       " 'FAST TRAX',\n",
       " 'HRX by Hrithik Roshan',\n",
       " 'Mactree',\n",
       " 'El Paso',\n",
       " 'Sparx',\n",
       " 'Puma',\n",
       " 'Bond Street By Red Tape',\n",
       " 'H&M',\n",
       " 'HRX by Hrithik Roshan',\n",
       " 'DressBerry',\n",
       " 'Kook N Keech',\n",
       " 'Roadster',\n",
       " 'ZAPATOZ',\n",
       " 'U.S. Polo Assn.',\n",
       " 'Pantaloons Junior',\n",
       " 'Roadster',\n",
       " 'Roadster',\n",
       " 'Skechers',\n",
       " 'Roadster',\n",
       " 'DressBerry',\n",
       " 'Roadster',\n",
       " 'Woodland',\n",
       " 'El Paso',\n",
       " 'Roadster',\n",
       " 'Puma',\n",
       " 'HRX by Hrithik Roshan',\n",
       " 'Roadster',\n",
       " 'HRX by Hrithik Roshan',\n",
       " 'Louis Philippe',\n",
       " 'Ginger by Lifestyle',\n",
       " 'Roadster',\n",
       " 'Kook N Keech',\n",
       " 'Kook N Keech',\n",
       " 'YK',\n",
       " 'Kook N Keech',\n",
       " 'HRX by Hrithik Roshan',\n",
       " 'Kook N Keech',\n",
       " 'U.S. Polo Assn.',\n",
       " 'bacca bucci',\n",
       " 'Skechers',\n",
       " 'M7 by Metronaut',\n",
       " 'DressBerry',\n",
       " 'U.S. Polo Assn.']"
      ]
     },
     "execution_count": 58,
     "metadata": {},
     "output_type": "execute_result"
    }
   ],
   "source": [
    "# we scraped for Brand\n",
    "Brand9=[]\n",
    "for i in page_url9[:5]:# we scraped only 5 pages\n",
    "    driver.get(i)\n",
    "    Brand_9=driver.find_elements_by_xpath('//h3[@class=\"product-brand\"]')\n",
    "    for i in Brand_9:\n",
    "        Brand9.append(i.text)\n",
    "Brand9\n",
    "Final_Brand=Brand9[:100]\n",
    "Final_Brand"
   ]
  },
  {
   "cell_type": "code",
   "execution_count": 59,
   "metadata": {},
   "outputs": [
    {
     "data": {
      "text/plain": [
       "100"
      ]
     },
     "execution_count": 59,
     "metadata": {},
     "output_type": "execute_result"
    }
   ],
   "source": [
    "len(Final_Brand)"
   ]
  },
  {
   "cell_type": "code",
   "execution_count": 60,
   "metadata": {},
   "outputs": [
    {
     "data": {
      "text/plain": [
       "['Men Woven Design Sneakers',\n",
       " 'Men Woven Design Sneakers',\n",
       " 'Men LOCHBAY Sneakers',\n",
       " 'Men FlexStreet Athleisure Shoe',\n",
       " 'Men Woven Design Sneakers',\n",
       " 'Women Sneakers',\n",
       " 'Men Colourblocked Sneakers',\n",
       " 'Women Solid Sneakers',\n",
       " 'Men Skate Street Sneakers',\n",
       " 'Men Baymax IDP Sneakers',\n",
       " 'Men Sneakers',\n",
       " 'Men Sneakers',\n",
       " 'Men Solid Sneakers',\n",
       " 'Men Colourblocked Sneakers',\n",
       " 'Men Sneakers',\n",
       " 'Women Sneakers',\n",
       " 'Unisex Rebound JoyLow Trainers',\n",
       " 'Men COURT VISION Sneakers',\n",
       " 'Men Black & White Casual Shoes',\n",
       " 'Men Solid Sneakers',\n",
       " 'Trainers',\n",
       " 'Women Sneakers Casual Shoes',\n",
       " 'Men Colourblocked Sneakers',\n",
       " 'Men Chunky Sneakers',\n",
       " 'Men Solid Sneakers',\n",
       " 'Men Sneakers',\n",
       " 'Men Colourblocked Sneakers',\n",
       " 'Men Slip-On Trainers',\n",
       " 'Women Sneakers',\n",
       " 'Men Sneakers',\n",
       " 'Men Ferrari Race Sneakers',\n",
       " 'Men Chunky Sneakers',\n",
       " 'Men Chunky Sneaker',\n",
       " 'Women Sneakers',\n",
       " 'Men Solid Sneakers',\n",
       " 'Unisex Backcourt Sneakers',\n",
       " 'Women Trainers',\n",
       " 'Men Woven Design Sneakers',\n",
       " 'Men Sneakers',\n",
       " 'Men Solid Sneakers',\n",
       " 'Platform trainers',\n",
       " 'Men Woven Design Fly Sneakers',\n",
       " 'Men Sneakers',\n",
       " 'Men Sneakers',\n",
       " 'Women Woven Design Sneakers',\n",
       " 'Men Derbys',\n",
       " 'Men Sneakers',\n",
       " 'Men 3D Knit Slip On Shoes',\n",
       " 'Women Printed Sneakers',\n",
       " 'Men Sneakers',\n",
       " 'Men Woven Design Sneakers',\n",
       " 'Women Sneakers',\n",
       " 'Men NA Printed Sneakers',\n",
       " 'Men Fly Sneakers',\n",
       " 'Men Sneakers',\n",
       " 'Men Colourblocked Sneakers',\n",
       " 'Women High-Top Sneakers',\n",
       " 'Men Solid Sneakers',\n",
       " 'Men Sneakers',\n",
       " 'Men Solid Mesh Trainers',\n",
       " 'Men Flash Knit Socks Shoe',\n",
       " 'Women Woven Design Sneakers',\n",
       " 'Sneakers',\n",
       " 'Women Solid Sneakers',\n",
       " 'Boys Spider-Man Printed Sneakers',\n",
       " 'Women Sneakers Casual Shoes',\n",
       " 'Men Solid Sneakers',\n",
       " \"Men D'LUX WALKER Sneakers\",\n",
       " 'Men Woven Design Sneakers',\n",
       " 'Women Colourblocked Sneakers',\n",
       " 'Men Colourblocked Sneakers',\n",
       " 'Men Solid Sneakers',\n",
       " 'Women Solid Sneakers',\n",
       " 'Women Woven Design Sneakers',\n",
       " 'Men Sneakers',\n",
       " 'Men Chunky Sneakers',\n",
       " 'Unisex Anzarun Grid Sneakers',\n",
       " 'Men Urban Athleisure Shoe',\n",
       " 'Men Nubuck Mid-Top Sneakers',\n",
       " 'Men Solid Sneakers',\n",
       " 'Men Pro Sneakers',\n",
       " 'Men Solid Sneakers',\n",
       " 'Men Solid Sneakers',\n",
       " 'Women Solid Sneakers',\n",
       " 'Girls Printed Sneakers',\n",
       " 'Women Solid Sneakers',\n",
       " 'Women Colourblocked PU Sneakers',\n",
       " 'Women Chunky Sneakers',\n",
       " 'Men Woven Design Sneakers',\n",
       " 'Women Solid Sneakers',\n",
       " 'Men Textured Sneakers',\n",
       " 'Men Self-Striped Sneakers',\n",
       " 'Women Solid Sneakers',\n",
       " 'Women SKECH-AIR 2.0 Sneakers',\n",
       " 'Men Solid SIPL Sneakers',\n",
       " 'Men Sneakers',\n",
       " 'Men Colourblocked Sneakers',\n",
       " 'Women Solid Sneakers',\n",
       " 'Men Printed Sneakers',\n",
       " 'Women Sneakers']"
      ]
     },
     "execution_count": 60,
     "metadata": {},
     "output_type": "execute_result"
    }
   ],
   "source": [
    "# we scraped for Brand\n",
    "Short_Shoe_description9=[]\n",
    "for i in page_url9[:5]:# we scraped only 5 pages\n",
    "    driver.get(i)\n",
    "    Short_Shoe_description_9=driver.find_elements_by_xpath('//h4[@class=\"product-product\"]')\n",
    "    for i in Short_Shoe_description_9:\n",
    "        Short_Shoe_description9.append(i.text)\n",
    "Short_Shoe_description9\n",
    "Final_Short_Shoe_description=Short_Shoe_description9[:100]\n",
    "Final_Short_Shoe_description"
   ]
  },
  {
   "cell_type": "code",
   "execution_count": 61,
   "metadata": {},
   "outputs": [
    {
     "data": {
      "text/plain": [
       "100"
      ]
     },
     "execution_count": 61,
     "metadata": {},
     "output_type": "execute_result"
    }
   ],
   "source": [
    "len(Final_Short_Shoe_description)"
   ]
  },
  {
   "cell_type": "code",
   "execution_count": 62,
   "metadata": {},
   "outputs": [
    {
     "data": {
      "text/plain": [
       "['Rs. 2149',\n",
       " 'Rs. 1679',\n",
       " 'Rs. 3574',\n",
       " 'Rs. 599',\n",
       " 'Rs. 1149',\n",
       " 'Rs. 3444',\n",
       " 'Rs. 2099',\n",
       " 'Rs. 1379',\n",
       " 'Rs. 1749',\n",
       " 'Rs. 7350',\n",
       " 'Rs. 1039',\n",
       " 'Rs. 1679',\n",
       " 'Rs. 699',\n",
       " 'Rs. 4623',\n",
       " 'Rs. 599',\n",
       " 'Rs. 1679',\n",
       " 'Rs. 2399',\n",
       " 'Rs. 2799',\n",
       " 'Rs. 995',\n",
       " 'Rs. 659',\n",
       " 'Rs. 2199',\n",
       " 'Rs. 3249',\n",
       " 'Rs. 2159',\n",
       " 'Rs. 2399',\n",
       " 'Rs. 1999',\n",
       " 'Rs. 3999',\n",
       " 'Rs. 1154',\n",
       " 'Rs. 1264',\n",
       " 'Rs. 4899',\n",
       " 'Rs. 1199',\n",
       " 'Rs. 909',\n",
       " 'Rs. 2249',\n",
       " 'Rs. 1049',\n",
       " 'Rs. 1934',\n",
       " 'Rs. 1039',\n",
       " 'Rs. 649',\n",
       " 'Rs. 2034',\n",
       " 'Rs. 1594',\n",
       " 'Rs. 995',\n",
       " 'Rs. 1249',\n",
       " 'Rs. 783',\n",
       " 'Rs. 2799',\n",
       " 'Rs. 4499',\n",
       " 'Rs. 1154',\n",
       " 'Rs. 2069',\n",
       " 'Rs. 995',\n",
       " 'Rs. 664',\n",
       " 'Rs. 748',\n",
       " 'Rs. 958',\n",
       " 'Rs. 1399',\n",
       " 'Rs. 1264',\n",
       " 'Rs. 1749',\n",
       " 'Rs. 599',\n",
       " 'Rs. 4079',\n",
       " 'Rs. 1924',\n",
       " 'Rs. 1119',\n",
       " 'Rs. 909',\n",
       " 'Rs. 4079',\n",
       " 'Rs. 1664',\n",
       " 'Rs. 1799',\n",
       " 'Rs. 712',\n",
       " 'Rs. 1119',\n",
       " 'Rs. 2364',\n",
       " 'Rs. 3899',\n",
       " 'Rs. 1399',\n",
       " 'Rs. 909',\n",
       " 'Rs. 4799',\n",
       " 'Rs. 1719',\n",
       " 'Rs. 664',\n",
       " 'Rs. 1154',\n",
       " 'Rs. 839',\n",
       " 'Rs. 1264',\n",
       " 'Rs. 1149',\n",
       " 'Rs. 1119',\n",
       " 'Rs. 1249',\n",
       " 'Rs. 629',\n",
       " 'Rs. 4079',\n",
       " 'Rs. 1749',\n",
       " 'Rs. 799',\n",
       " 'Rs. 1374',\n",
       " 'Rs. 839',\n",
       " 'Rs. 4199',\n",
       " 'Rs. 1264',\n",
       " 'Rs. 729',\n",
       " 'Rs. 1799',\n",
       " 'Rs. 1374',\n",
       " 'Rs. 1189',\n",
       " 'Rs. 699',\n",
       " 'Rs. 4199',\n",
       " 'Rs. 2796',\n",
       " 'Rs. 729',\n",
       " 'Rs. 1374',\n",
       " 'Rs. 1799',\n",
       " 'Rs. 1189',\n",
       " 'Rs. 909',\n",
       " 'Rs. 2529',\n",
       " 'Rs. 1484',\n",
       " 'Rs. 1374',\n",
       " 'Rs. 699',\n",
       " 'Rs. 1264']"
      ]
     },
     "execution_count": 62,
     "metadata": {},
     "output_type": "execute_result"
    }
   ],
   "source": [
    "#price of the shoe\n",
    "price_sneaker9=[]\n",
    "for i in page_url9[:5]:# we scraped only 5 pages\n",
    "    driver.get(i)\n",
    "    price_sneaker_9=driver.find_elements_by_xpath('//span[@class=\"product-discountedPrice\"]')\n",
    "    for i in price_sneaker_9:\n",
    "        price_sneaker9.append(i.text)\n",
    "price_sneaker9\n",
    "Final_price_sneaker=price_sneaker9[:100]\n",
    "Final_price_sneaker"
   ]
  },
  {
   "cell_type": "code",
   "execution_count": 65,
   "metadata": {},
   "outputs": [
    {
     "data": {
      "text/plain": [
       "['(50% OFF)',\n",
       " '(50% OFF)',\n",
       " '(Rs. 770 OFF)',\n",
       " '(55% OFF)',\n",
       " '(60% OFF)',\n",
       " '(30% OFF)',\n",
       " '(40% OFF)',\n",
       " '(35% OFF)',\n",
       " '(40% OFF)',\n",
       " '(50% OFF)',\n",
       " '(35% OFF)',\n",
       " '(30% OFF)',\n",
       " '(Rs. 770 OFF)',\n",
       " '(60% OFF)',\n",
       " '(60% OFF)',\n",
       " '(40% OFF)',\n",
       " '(30% OFF)',\n",
       " '(50% OFF)',\n",
       " '(50% OFF)',\n",
       " '(45% OFF)',\n",
       " '(60% OFF)',\n",
       " '(67% OFF)',\n",
       " '(45% OFF)',\n",
       " '(55% OFF)',\n",
       " '(50% OFF)',\n",
       " '(35% OFF)',\n",
       " '(50% OFF)',\n",
       " '(30% OFF)',\n",
       " '(65% OFF)',\n",
       " '(50% OFF)',\n",
       " '(60% OFF)',\n",
       " '(55% OFF)',\n",
       " '(60% OFF)',\n",
       " '(70% OFF)',\n",
       " '(45% OFF)',\n",
       " '(45% OFF)',\n",
       " '(50% OFF)',\n",
       " '(65% OFF)',\n",
       " '(68% OFF)',\n",
       " '(70% OFF)',\n",
       " '(55% OFF)',\n",
       " '(65% OFF)',\n",
       " '(30% OFF)',\n",
       " '(50% OFF)',\n",
       " '(69% OFF)',\n",
       " '(70% OFF)',\n",
       " '(70% OFF)',\n",
       " '(65% OFF)',\n",
       " '(40% OFF)',\n",
       " '(45% OFF)',\n",
       " '(50% OFF)',\n",
       " '(45% OFF)',\n",
       " '(65% OFF)',\n",
       " '(55% OFF)',\n",
       " '(65% OFF)',\n",
       " '(60% OFF)',\n",
       " '(40% OFF)',\n",
       " '(45% OFF)',\n",
       " '(65% OFF)',\n",
       " '(32% OFF)',\n",
       " '(40% OFF)',\n",
       " '(60% OFF)',\n",
       " '(45% OFF)',\n",
       " '(50% OFF)',\n",
       " '(45% OFF)',\n",
       " '(65% OFF)',\n",
       " '(35% OFF)',\n",
       " '(60% OFF)',\n",
       " '(55% OFF)',\n",
       " '(60% OFF)',\n",
       " '(45% OFF)',\n",
       " '(50% OFF)',\n",
       " '(50% OFF)',\n",
       " '(Rs. 870 OFF)',\n",
       " '(20% OFF)',\n",
       " '(50% OFF)',\n",
       " '(32% OFF)',\n",
       " '(65% OFF)',\n",
       " '(20% OFF)',\n",
       " '(45% OFF)',\n",
       " '(30% OFF)',\n",
       " '(40% OFF)',\n",
       " '(35% OFF)',\n",
       " '(65% OFF)',\n",
       " '(65% OFF)',\n",
       " '(30% OFF)',\n",
       " '(65% OFF)',\n",
       " '(45% OFF)',\n",
       " '(30% OFF)',\n",
       " '(50% OFF)',\n",
       " '(45% OFF)',\n",
       " '(45% OFF)',\n",
       " '(70% OFF)',\n",
       " '(65% OFF)',\n",
       " '(45% OFF)',\n",
       " '(45% OFF)',\n",
       " '(45% OFF)',\n",
       " '(29% OFF)',\n",
       " '(50% OFF)',\n",
       " '(45% OFF)']"
      ]
     },
     "execution_count": 65,
     "metadata": {},
     "output_type": "execute_result"
    }
   ],
   "source": [
    "#Discount of the shoe\n",
    "discount_sneaker9=[]\n",
    "for i in page_url9[:5]:# we scraped only 5 pages\n",
    "    driver.get(i)\n",
    "    discount_sneaker_9=driver.find_elements_by_xpath('//span[@class=\"product-discountPercentage\"]')\n",
    "    for i in discount_sneaker_9:\n",
    "        discount_sneaker9.append(i.text)\n",
    "discount_sneaker9\n",
    "Final_discount_sneaker=discount_sneaker9[:100]\n",
    "Final_discount_sneaker"
   ]
  },
  {
   "cell_type": "code",
   "execution_count": 66,
   "metadata": {},
   "outputs": [
    {
     "data": {
      "text/plain": [
       "(100, 100, 100, 100)"
      ]
     },
     "execution_count": 66,
     "metadata": {},
     "output_type": "execute_result"
    }
   ],
   "source": [
    "len(Final_Brand),len(Final_Short_Shoe_description),len(Final_price_sneaker),len(Final_discount_sneaker)"
   ]
  },
  {
   "cell_type": "code",
   "execution_count": 67,
   "metadata": {},
   "outputs": [
    {
     "data": {
      "text/html": [
       "<div>\n",
       "<style scoped>\n",
       "    .dataframe tbody tr th:only-of-type {\n",
       "        vertical-align: middle;\n",
       "    }\n",
       "\n",
       "    .dataframe tbody tr th {\n",
       "        vertical-align: top;\n",
       "    }\n",
       "\n",
       "    .dataframe thead th {\n",
       "        text-align: right;\n",
       "    }\n",
       "</style>\n",
       "<table border=\"1\" class=\"dataframe\">\n",
       "  <thead>\n",
       "    <tr style=\"text-align: right;\">\n",
       "      <th></th>\n",
       "      <th>Brand</th>\n",
       "      <th>Short Description</th>\n",
       "      <th>Price</th>\n",
       "      <th>Discount</th>\n",
       "    </tr>\n",
       "  </thead>\n",
       "  <tbody>\n",
       "    <tr>\n",
       "      <th>0</th>\n",
       "      <td>Roadster</td>\n",
       "      <td>Men Woven Design Sneakers</td>\n",
       "      <td>Rs. 2149</td>\n",
       "      <td>(50% OFF)</td>\n",
       "    </tr>\n",
       "    <tr>\n",
       "      <th>1</th>\n",
       "      <td>Skechers</td>\n",
       "      <td>Men Woven Design Sneakers</td>\n",
       "      <td>Rs. 1679</td>\n",
       "      <td>(50% OFF)</td>\n",
       "    </tr>\n",
       "    <tr>\n",
       "      <th>2</th>\n",
       "      <td>Bella Toes</td>\n",
       "      <td>Men LOCHBAY Sneakers</td>\n",
       "      <td>Rs. 3574</td>\n",
       "      <td>(Rs. 770 OFF)</td>\n",
       "    </tr>\n",
       "    <tr>\n",
       "      <th>3</th>\n",
       "      <td>HRX by Hrithik Roshan</td>\n",
       "      <td>Men FlexStreet Athleisure Shoe</td>\n",
       "      <td>Rs. 599</td>\n",
       "      <td>(55% OFF)</td>\n",
       "    </tr>\n",
       "    <tr>\n",
       "      <th>4</th>\n",
       "      <td>Puma</td>\n",
       "      <td>Men Woven Design Sneakers</td>\n",
       "      <td>Rs. 1149</td>\n",
       "      <td>(60% OFF)</td>\n",
       "    </tr>\n",
       "    <tr>\n",
       "      <th>...</th>\n",
       "      <td>...</td>\n",
       "      <td>...</td>\n",
       "      <td>...</td>\n",
       "      <td>...</td>\n",
       "    </tr>\n",
       "    <tr>\n",
       "      <th>95</th>\n",
       "      <td>bacca bucci</td>\n",
       "      <td>Men Sneakers</td>\n",
       "      <td>Rs. 2529</td>\n",
       "      <td>(45% OFF)</td>\n",
       "    </tr>\n",
       "    <tr>\n",
       "      <th>96</th>\n",
       "      <td>Skechers</td>\n",
       "      <td>Men Colourblocked Sneakers</td>\n",
       "      <td>Rs. 1484</td>\n",
       "      <td>(45% OFF)</td>\n",
       "    </tr>\n",
       "    <tr>\n",
       "      <th>97</th>\n",
       "      <td>M7 by Metronaut</td>\n",
       "      <td>Women Solid Sneakers</td>\n",
       "      <td>Rs. 1374</td>\n",
       "      <td>(29% OFF)</td>\n",
       "    </tr>\n",
       "    <tr>\n",
       "      <th>98</th>\n",
       "      <td>DressBerry</td>\n",
       "      <td>Men Printed Sneakers</td>\n",
       "      <td>Rs. 699</td>\n",
       "      <td>(50% OFF)</td>\n",
       "    </tr>\n",
       "    <tr>\n",
       "      <th>99</th>\n",
       "      <td>U.S. Polo Assn.</td>\n",
       "      <td>Women Sneakers</td>\n",
       "      <td>Rs. 1264</td>\n",
       "      <td>(45% OFF)</td>\n",
       "    </tr>\n",
       "  </tbody>\n",
       "</table>\n",
       "<p>100 rows × 4 columns</p>\n",
       "</div>"
      ],
      "text/plain": [
       "                    Brand               Short Description     Price  \\\n",
       "0                Roadster       Men Woven Design Sneakers  Rs. 2149   \n",
       "1                Skechers       Men Woven Design Sneakers  Rs. 1679   \n",
       "2              Bella Toes            Men LOCHBAY Sneakers  Rs. 3574   \n",
       "3   HRX by Hrithik Roshan  Men FlexStreet Athleisure Shoe   Rs. 599   \n",
       "4                    Puma       Men Woven Design Sneakers  Rs. 1149   \n",
       "..                    ...                             ...       ...   \n",
       "95            bacca bucci                    Men Sneakers  Rs. 2529   \n",
       "96               Skechers      Men Colourblocked Sneakers  Rs. 1484   \n",
       "97        M7 by Metronaut            Women Solid Sneakers  Rs. 1374   \n",
       "98             DressBerry            Men Printed Sneakers   Rs. 699   \n",
       "99        U.S. Polo Assn.                  Women Sneakers  Rs. 1264   \n",
       "\n",
       "         Discount  \n",
       "0       (50% OFF)  \n",
       "1       (50% OFF)  \n",
       "2   (Rs. 770 OFF)  \n",
       "3       (55% OFF)  \n",
       "4       (60% OFF)  \n",
       "..            ...  \n",
       "95      (45% OFF)  \n",
       "96      (45% OFF)  \n",
       "97      (29% OFF)  \n",
       "98      (50% OFF)  \n",
       "99      (45% OFF)  \n",
       "\n",
       "[100 rows x 4 columns]"
      ]
     },
     "execution_count": 67,
     "metadata": {},
     "output_type": "execute_result"
    }
   ],
   "source": [
    "# make Dataframe of sneaker shoe\n",
    "Sneaker=pd.DataFrame({})\n",
    "Sneaker['Brand']=Final_Brand\n",
    "Sneaker['Short Description']=Final_Short_Shoe_description\n",
    "Sneaker['Price']=Final_price_sneaker\n",
    "Sneaker['Discount']=Final_discount_sneaker\n",
    "Sneaker"
   ]
  },
  {
   "cell_type": "markdown",
   "metadata": {},
   "source": [
    "### Q9: Go to the link - https://www.myntra.com/shoes\n",
    "Set Price filter to “Rs. 6649 to Rs. 13099” , Color filter to “Black”, as shown in the below image"
   ]
  },
  {
   "cell_type": "code",
   "execution_count": 6,
   "metadata": {},
   "outputs": [],
   "source": [
    "url9='https://www.myntra.com/shoes'\n",
    "driver.get(url9)"
   ]
  },
  {
   "cell_type": "code",
   "execution_count": 9,
   "metadata": {},
   "outputs": [],
   "source": [
    "#Price filter to “Rs. 6649 to Rs. 13099” is not present so we use another 5312 to 10475\n",
    "price_filter9=driver.find_element_by_xpath('/html/body/div[2]/div/div[1]/main/div[3]/div[1]/section/div/div[5]/ul/li[2]/label/div')\n",
    "price_filter9.click()"
   ]
  },
  {
   "cell_type": "code",
   "execution_count": 8,
   "metadata": {},
   "outputs": [],
   "source": [
    "color_filter9=driver.find_element_by_xpath('/html/body/div[2]/div/div[1]/main/div[3]/div[1]/section/div/div[6]/ul/li[1]/label/div')\n",
    "color_filter9.click()"
   ]
  },
  {
   "cell_type": "code",
   "execution_count": 10,
   "metadata": {},
   "outputs": [
    {
     "data": {
      "text/plain": [
       "[<selenium.webdriver.remote.webelement.WebElement (session=\"83eceaca3ffcb20bbeb1869f97629519\", element=\"50fc324f-fca8-47bb-884d-d120d71e62a3\")>,\n",
       " <selenium.webdriver.remote.webelement.WebElement (session=\"83eceaca3ffcb20bbeb1869f97629519\", element=\"cdd63ae3-f532-46d0-9ff8-bc2abd2cb3d7\")>,\n",
       " <selenium.webdriver.remote.webelement.WebElement (session=\"83eceaca3ffcb20bbeb1869f97629519\", element=\"4ef706de-135d-4d32-b5c7-25ee8d4765fe\")>,\n",
       " <selenium.webdriver.remote.webelement.WebElement (session=\"83eceaca3ffcb20bbeb1869f97629519\", element=\"912cf3b5-3037-4597-b4ea-d8173a5e447b\")>,\n",
       " <selenium.webdriver.remote.webelement.WebElement (session=\"83eceaca3ffcb20bbeb1869f97629519\", element=\"1de60bf9-5bdd-4a20-a988-7cb5ed3d7022\")>,\n",
       " <selenium.webdriver.remote.webelement.WebElement (session=\"83eceaca3ffcb20bbeb1869f97629519\", element=\"54696318-6bfa-4326-a72a-31a6c0f13525\")>,\n",
       " <selenium.webdriver.remote.webelement.WebElement (session=\"83eceaca3ffcb20bbeb1869f97629519\", element=\"2b7d6115-3708-4386-aa87-2df5d3da8350\")>,\n",
       " <selenium.webdriver.remote.webelement.WebElement (session=\"83eceaca3ffcb20bbeb1869f97629519\", element=\"8b76ec6a-f478-4918-83e3-ceefbeb1afdf\")>,\n",
       " <selenium.webdriver.remote.webelement.WebElement (session=\"83eceaca3ffcb20bbeb1869f97629519\", element=\"4b0a2e8e-779a-4352-bc89-bbc9ddc19aca\")>]"
      ]
     },
     "execution_count": 10,
     "metadata": {},
     "output_type": "execute_result"
    }
   ],
   "source": [
    "# now we want to scrap 100 shoe  so we will get page url first\n",
    "url9=driver.find_elements_by_xpath('//li[@class=\"pagination-number\"]//a')\n",
    "url9"
   ]
  },
  {
   "cell_type": "code",
   "execution_count": 11,
   "metadata": {},
   "outputs": [
    {
     "data": {
      "text/plain": [
       "['https://www.myntra.com/shoes?f=Color%3ABlack_36454f&plaEnabled=false&rf=Price%3A5312.0_10475.0_5312.0%20TO%2010475.0%2C5349.0_10499.0_5349.0%20TO%2010499.0&p=2',\n",
       " 'https://www.myntra.com/shoes?f=Color%3ABlack_36454f&plaEnabled=false&rf=Price%3A5312.0_10475.0_5312.0%20TO%2010475.0%2C5349.0_10499.0_5349.0%20TO%2010499.0&p=3',\n",
       " 'https://www.myntra.com/shoes?f=Color%3ABlack_36454f&plaEnabled=false&rf=Price%3A5312.0_10475.0_5312.0%20TO%2010475.0%2C5349.0_10499.0_5349.0%20TO%2010499.0&p=4',\n",
       " 'https://www.myntra.com/shoes?f=Color%3ABlack_36454f&plaEnabled=false&rf=Price%3A5312.0_10475.0_5312.0%20TO%2010475.0%2C5349.0_10499.0_5349.0%20TO%2010499.0&p=5',\n",
       " 'https://www.myntra.com/shoes?f=Color%3ABlack_36454f&plaEnabled=false&rf=Price%3A5312.0_10475.0_5312.0%20TO%2010475.0%2C5349.0_10499.0_5349.0%20TO%2010499.0&p=6',\n",
       " 'https://www.myntra.com/shoes?f=Color%3ABlack_36454f&plaEnabled=false&rf=Price%3A5312.0_10475.0_5312.0%20TO%2010475.0%2C5349.0_10499.0_5349.0%20TO%2010499.0&p=7',\n",
       " 'https://www.myntra.com/shoes?f=Color%3ABlack_36454f&plaEnabled=false&rf=Price%3A5312.0_10475.0_5312.0%20TO%2010475.0%2C5349.0_10499.0_5349.0%20TO%2010499.0&p=8',\n",
       " 'https://www.myntra.com/shoes?f=Color%3ABlack_36454f&plaEnabled=false&rf=Price%3A5312.0_10475.0_5312.0%20TO%2010475.0%2C5349.0_10499.0_5349.0%20TO%2010499.0&p=9',\n",
       " 'https://www.myntra.com/shoes?f=Color%3ABlack_36454f&plaEnabled=false&rf=Price%3A5312.0_10475.0_5312.0%20TO%2010475.0%2C5349.0_10499.0_5349.0%20TO%2010499.0&p=10']"
      ]
     },
     "execution_count": 11,
     "metadata": {},
     "output_type": "execute_result"
    }
   ],
   "source": [
    "page_url9=[]\n",
    "for i in url9:\n",
    "    page_url9.append(i.get_attribute('href'))\n",
    "page_url9"
   ]
  },
  {
   "cell_type": "code",
   "execution_count": 12,
   "metadata": {},
   "outputs": [
    {
     "data": {
      "text/plain": [
       "['Geox',\n",
       " 'Geox',\n",
       " 'Geox',\n",
       " 'Cole Haan',\n",
       " 'UNDER ARMOUR',\n",
       " 'Geox',\n",
       " 'DAVINCHI',\n",
       " 'J.FONTINI',\n",
       " 'Puma',\n",
       " 'Cole Haan',\n",
       " 'Bugatti',\n",
       " 'J.FONTINI',\n",
       " 'Bugatti',\n",
       " 'Hush Puppies',\n",
       " 'RARE RABBIT',\n",
       " 'RARE RABBIT',\n",
       " 'Bugatti',\n",
       " 'Geox',\n",
       " 'RARE RABBIT',\n",
       " 'Xtep',\n",
       " 'RARE RABBIT',\n",
       " 'Hush Puppies',\n",
       " 'Xtep',\n",
       " 'Saint G',\n",
       " 'Geox',\n",
       " 'Geox',\n",
       " 'Saint G',\n",
       " 'Geox',\n",
       " 'KIPRUN By Decathlon',\n",
       " 'J.FONTINI',\n",
       " 'Geox',\n",
       " 'ASICS',\n",
       " 'Kenneth Cole',\n",
       " 'Hush Puppies',\n",
       " 'UNDER ARMOUR',\n",
       " 'UNDER ARMOUR',\n",
       " 'UNDER ARMOUR',\n",
       " 'Blackberrys',\n",
       " 'Hush Puppies',\n",
       " 'Saint G',\n",
       " 'Bugatti',\n",
       " 'Birkenstock',\n",
       " 'Geox',\n",
       " 'UNDER ARMOUR',\n",
       " 'Geox',\n",
       " 'RARE RABBIT',\n",
       " 'Geox',\n",
       " 'Kenneth Cole',\n",
       " 'Geox',\n",
       " 'Geox',\n",
       " 'Heel & Buckle London',\n",
       " 'Xtep',\n",
       " 'Heel & Buckle London',\n",
       " 'Cole Haan',\n",
       " 'Clarks',\n",
       " 'Levis',\n",
       " 'Kalenji By Decathlon',\n",
       " 'PUMA Hoops',\n",
       " 'Geox',\n",
       " 'VIONIC',\n",
       " 'Geox',\n",
       " 'Puma',\n",
       " 'Kenneth Cole',\n",
       " 'J.FONTINI',\n",
       " 'J.FONTINI',\n",
       " 'Nike',\n",
       " 'Nike',\n",
       " 'Geox',\n",
       " 'Cole Haan',\n",
       " 'Louis Philippe',\n",
       " 'Nike',\n",
       " 'Geox',\n",
       " 'Geox',\n",
       " 'Heel & Buckle London',\n",
       " 'Saint G',\n",
       " 'Saint G',\n",
       " 'Metro',\n",
       " 'Nike',\n",
       " 'Heel & Buckle London',\n",
       " 'Nike',\n",
       " 'Metro',\n",
       " 'ALDO',\n",
       " 'Heel & Buckle London',\n",
       " 'Cole Haan',\n",
       " 'Geox',\n",
       " 'Heel & Buckle London',\n",
       " 'DAVINCHI',\n",
       " 'Heel & Buckle London',\n",
       " 'Saint G',\n",
       " 'Saint G',\n",
       " 'Saint G',\n",
       " 'Saint G',\n",
       " 'Saint G',\n",
       " 'Cole Haan',\n",
       " 'Geox',\n",
       " 'Geox',\n",
       " 'Geox',\n",
       " 'Cole Haan',\n",
       " 'Geox',\n",
       " 'Geox']"
      ]
     },
     "execution_count": 12,
     "metadata": {},
     "output_type": "execute_result"
    }
   ],
   "source": [
    "# we scraped for Brand\n",
    "Brand9=[]\n",
    "for i in page_url9[:5]:# we scraped only 5 pages\n",
    "    driver.get(i)\n",
    "    Brand_9=driver.find_elements_by_xpath('//h3[@class=\"product-brand\"]')\n",
    "    for i in Brand_9:\n",
    "        Brand9.append(i.text)\n",
    "Brand9\n",
    "Final_Brand9=Brand9[:100]\n",
    "Final_Brand9"
   ]
  },
  {
   "cell_type": "code",
   "execution_count": 13,
   "metadata": {},
   "outputs": [
    {
     "data": {
      "text/plain": [
       "250"
      ]
     },
     "execution_count": 13,
     "metadata": {},
     "output_type": "execute_result"
    }
   ],
   "source": [
    "len(Brand9)"
   ]
  },
  {
   "cell_type": "code",
   "execution_count": 15,
   "metadata": {},
   "outputs": [
    {
     "data": {
      "text/plain": [
       "['Unisex Sneakers',\n",
       " 'Men Leather Formal Derbys',\n",
       " 'Men Formal Derbys',\n",
       " 'Men Leather Formal Oxfords',\n",
       " 'Men Textured Leather Driving Shoes',\n",
       " 'Men Leather Driving Shoes',\n",
       " 'Men GENERATION ZEROGRAND STITCHLITE',\n",
       " 'Men Victory Sneakers',\n",
       " 'Men Leather Slip-On Sneakers',\n",
       " 'Men Solid Formal Leather Slip-On Shoes',\n",
       " 'Men Solid Loafers',\n",
       " 'Unisex Connect Splash Trainers',\n",
       " 'Leather Sneakers',\n",
       " 'Men Textured Leather Formal Loafers',\n",
       " 'Men Textured Leather Loafers',\n",
       " 'Men Slip-On Sneakers',\n",
       " 'Men Colourblocked Driving Shoes',\n",
       " 'Women Mules',\n",
       " 'Men Leather Formal Oxfords',\n",
       " 'AIR MEGA Energy Ring Shoes',\n",
       " 'Men Solid Leather Formal Derbys',\n",
       " 'Women Running Shoes',\n",
       " 'Leather Block Sandals',\n",
       " 'Men Leather Formal Monks',\n",
       " 'Women Leather Heeled Boots',\n",
       " 'Women Running Shoes',\n",
       " 'Men Leather Formal Loafers',\n",
       " 'Men Textured Leather Formal Derbys',\n",
       " 'Women Running Shoes',\n",
       " 'Men Solid Leather Formal Derbys',\n",
       " 'Men Leather Formal Derbys',\n",
       " 'Men Colourblocked Leather Derbys',\n",
       " 'Women Charged Vantage ClrShft',\n",
       " 'Men Leather Flat Boots',\n",
       " 'Women Charged Assert 8 Running',\n",
       " 'Women Charged Impulse Shft',\n",
       " 'Men Leather Derbys',\n",
       " 'Men Leather Formal Brogues',\n",
       " 'Riveted Leather Block Heels',\n",
       " 'Women Leather Heeled Boots',\n",
       " 'Women Mid-Top Sneakers',\n",
       " 'Women Gizeh Flats',\n",
       " 'Men Printed Slip-On Sneakers',\n",
       " 'Men Perforated Slip On Sneaker',\n",
       " 'Women Charged Breathe OIL SLK',\n",
       " 'Men Sneakers',\n",
       " 'Men Solid Leather Formal Derbys',\n",
       " 'Men Leather Driving Shoes',\n",
       " 'Women Charged Rogue 2 Running',\n",
       " 'Men Running Shoes',\n",
       " 'Men Solid Leather Formal Derbys',\n",
       " 'Men Leather Driving Shoes',\n",
       " 'Women Charged Rogue 2 Running',\n",
       " 'Men Running Shoes',\n",
       " 'Men Velvet Loafers',\n",
       " 'Men Running Shoes',\n",
       " 'Men Leather Loafers',\n",
       " 'Men Wingtip Oxford Sneakers',\n",
       " 'Men Leather Sneakers',\n",
       " 'Men Solid Sneakers',\n",
       " 'Men KD500 Running Shoe',\n",
       " 'Unisex Clyde Basketball Shoes',\n",
       " 'Men Solid Leather Formal Slip-Ons',\n",
       " 'Men Textured Sneakers',\n",
       " 'Men One 3 Lth FG Football',\n",
       " 'Men Leather Formal Slip-Ons',\n",
       " 'Men Textured Sneakers',\n",
       " 'Men Solid Leather Loafers',\n",
       " 'Men Textured Leather Loafers',\n",
       " 'Riveted Leather Block Heels',\n",
       " 'Men AIR ZOOM PEGASUS 38 Run',\n",
       " 'Men AIR ZOOM PEGASUS 38 Run',\n",
       " 'Men Leather Formal Slip-Ons',\n",
       " 'Men Perforations Sneakers',\n",
       " 'Men Air Zoom Structure Running',\n",
       " 'Men Leather Formal Oxfords',\n",
       " 'Women Leather Sneakers',\n",
       " 'Men Leather Monk Shoes',\n",
       " 'Women Leather Heeled Boots',\n",
       " 'Men ZOOM SPAN 3 Running Shoes',\n",
       " 'Women High-Top Leather Heels',\n",
       " 'Women Suede Pumps',\n",
       " 'Unisex Skateboarding Shoes',\n",
       " 'Men Solid Formal Leather Slip-On Shoes',\n",
       " 'Women Solid Sneakers',\n",
       " 'Women Open Toe Flats',\n",
       " 'Women Solid Leather Gladiators',\n",
       " 'Women Solid Leather Pumps',\n",
       " 'Men Driving Shoes Casual Shoes',\n",
       " 'Women Solid Leather Heels',\n",
       " 'Women Leather Heeled Boots',\n",
       " 'Women Heeled Boots',\n",
       " 'Women Leather Heeled Boots',\n",
       " 'Women Leather Heeled Boots',\n",
       " 'Women Solid Leather Pumps',\n",
       " 'Women Sneakers',\n",
       " 'Women Solid Leather Loafers',\n",
       " 'Solid Leather Wedges',\n",
       " 'Women Leather Heels',\n",
       " 'Women Leather Block Heels']"
      ]
     },
     "execution_count": 15,
     "metadata": {},
     "output_type": "execute_result"
    }
   ],
   "source": [
    "# we scraped for Brand\n",
    "Short_Shoe_description9=[]\n",
    "for i in page_url9[:5]:# we scraped only 5 pages\n",
    "    driver.get(i)\n",
    "    Short_Shoe_description_9=driver.find_elements_by_xpath('//h4[@class=\"product-product\"]')\n",
    "    for i in Short_Shoe_description_9:\n",
    "        Short_Shoe_description9.append(i.text)\n",
    "Short_Shoe_description9\n",
    "Final_Short_Shoe_description9=Short_Shoe_description9[:100]\n",
    "Final_Short_Shoe_description9"
   ]
  },
  {
   "cell_type": "code",
   "execution_count": 16,
   "metadata": {},
   "outputs": [
    {
     "data": {
      "text/plain": [
       "250"
      ]
     },
     "execution_count": 16,
     "metadata": {},
     "output_type": "execute_result"
    }
   ],
   "source": [
    "len(Short_Shoe_description9)"
   ]
  },
  {
   "cell_type": "code",
   "execution_count": 18,
   "metadata": {},
   "outputs": [
    {
     "data": {
      "text/plain": [
       "['Rs. 5399',\n",
       " 'Rs. 5579',\n",
       " 'Rs. 8999',\n",
       " 'Rs. 5399',\n",
       " 'Rs. 9599',\n",
       " 'Rs. 8799',\n",
       " 'Rs. 6399',\n",
       " 'Rs. 6399',\n",
       " 'Rs. 6299',\n",
       " 'Rs. 5999',\n",
       " 'Rs. 5599',\n",
       " 'Rs. 8999',\n",
       " 'Rs. 10355',\n",
       " 'Rs. 7999',\n",
       " 'Rs. 5624',\n",
       " 'Rs. 7006',\n",
       " 'Rs. 6299',\n",
       " 'Rs. 6293',\n",
       " 'Rs. 6299',\n",
       " 'Rs. 5399',\n",
       " 'Rs. 8249',\n",
       " 'Rs. 5999',\n",
       " 'Rs. 6749',\n",
       " 'Rs. 7499',\n",
       " 'Rs. 6299',\n",
       " 'Rs. 6293',\n",
       " 'Rs. 5599',\n",
       " 'Rs. 5399',\n",
       " 'Rs. 5599',\n",
       " 'Rs. 5399',\n",
       " 'Rs. 7693',\n",
       " 'Rs. 5399',\n",
       " 'Rs. 6293',\n",
       " 'Rs. 10399',\n",
       " 'Rs. 6749',\n",
       " 'Rs. 7773',\n",
       " 'Rs. 7499',\n",
       " 'Rs. 5999',\n",
       " 'Rs. 7039',\n",
       " 'Rs. 6013',\n",
       " 'Rs. 6749',\n",
       " 'Rs. 6749',\n",
       " 'Rs. 9599',\n",
       " 'Rs. 6229',\n",
       " 'Rs. 7693',\n",
       " 'Rs. 5760',\n",
       " 'Rs. 5593',\n",
       " 'Rs. 6293',\n",
       " 'Rs. 9599',\n",
       " 'Rs. 6993',\n",
       " 'Rs. 6993',\n",
       " 'Rs. 5934',\n",
       " 'Rs. 6499',\n",
       " 'Rs. 7499',\n",
       " 'Rs. 5694',\n",
       " 'Rs. 5592',\n",
       " 'Rs. 7192',\n",
       " 'Rs. 8617',\n",
       " 'Rs. 6742',\n",
       " 'Rs. 8394',\n",
       " 'Rs. 7499',\n",
       " 'Rs. 6392',\n",
       " 'Rs. 5599',\n",
       " 'Rs. 6392',\n",
       " 'Rs. 7192',\n",
       " 'Rs. 5399',\n",
       " 'Rs. 6293',\n",
       " 'Rs. 8999',\n",
       " 'Rs. 6293',\n",
       " 'Rs. 6293',\n",
       " 'Rs. 9513',\n",
       " 'Rs. 6293',\n",
       " 'Rs. 5391',\n",
       " 'Rs. 5391',\n",
       " 'Rs. 6460',\n",
       " 'Rs. 9975',\n",
       " 'Rs. 6555',\n",
       " 'Rs. 6153',\n",
       " 'Rs. 8799',\n",
       " 'Rs. 5399',\n",
       " 'Rs. 5999',\n",
       " 'Rs. 8399',\n",
       " 'Rs. 9093',\n",
       " 'Rs. 9513',\n",
       " 'Rs. 9975',\n",
       " 'Rs. 6999',\n",
       " 'Rs. 7999',\n",
       " 'Rs. 5999',\n",
       " 'Rs. 10399',\n",
       " 'Rs. 7799',\n",
       " 'Rs. 5624',\n",
       " 'Rs. 7209',\n",
       " 'Rs. 9303',\n",
       " 'Rs. 6594',\n",
       " 'Rs. 7794',\n",
       " 'Rs. 6999',\n",
       " 'Rs. 6299',\n",
       " 'Rs. 6999',\n",
       " 'Rs. 5599',\n",
       " 'Rs. 5525']"
      ]
     },
     "execution_count": 18,
     "metadata": {},
     "output_type": "execute_result"
    }
   ],
   "source": [
    "#price of the shoe\n",
    "price_sneaker9_=[]\n",
    "for i in page_url9[:5]:# we scraped only 5 pages\n",
    "    driver.get(i)\n",
    "    price_sneaker_9_=driver.find_elements_by_xpath('//div[@class=\"product-price\"]')\n",
    "    for i in price_sneaker_9_:\n",
    "        price_sneaker9_.append(i.text)\n",
    "price_sneaker9_\n",
    "Final_price_sneaker9_=price_sneaker9[:100]\n",
    "Final_price_sneaker9_"
   ]
  },
  {
   "cell_type": "code",
   "execution_count": 20,
   "metadata": {},
   "outputs": [
    {
     "data": {
      "text/plain": [
       "250"
      ]
     },
     "execution_count": 20,
     "metadata": {},
     "output_type": "execute_result"
    }
   ],
   "source": [
    "len(price_sneaker9_)"
   ]
  },
  {
   "cell_type": "code",
   "execution_count": 47,
   "metadata": {},
   "outputs": [
    {
     "data": {
      "text/plain": [
       "(100, 100, 100)"
      ]
     },
     "execution_count": 47,
     "metadata": {},
     "output_type": "execute_result"
    }
   ],
   "source": [
    "len(Final_Brand9),len(Final_Short_Shoe_description9),len(Final_price_sneaker9)"
   ]
  },
  {
   "cell_type": "code",
   "execution_count": 21,
   "metadata": {},
   "outputs": [
    {
     "data": {
      "text/html": [
       "<div>\n",
       "<style scoped>\n",
       "    .dataframe tbody tr th:only-of-type {\n",
       "        vertical-align: middle;\n",
       "    }\n",
       "\n",
       "    .dataframe tbody tr th {\n",
       "        vertical-align: top;\n",
       "    }\n",
       "\n",
       "    .dataframe thead th {\n",
       "        text-align: right;\n",
       "    }\n",
       "</style>\n",
       "<table border=\"1\" class=\"dataframe\">\n",
       "  <thead>\n",
       "    <tr style=\"text-align: right;\">\n",
       "      <th></th>\n",
       "      <th>Brand</th>\n",
       "      <th>Short_description</th>\n",
       "      <th>price</th>\n",
       "    </tr>\n",
       "  </thead>\n",
       "  <tbody>\n",
       "    <tr>\n",
       "      <th>0</th>\n",
       "      <td>Geox</td>\n",
       "      <td>Unisex Sneakers</td>\n",
       "      <td>Rs. 5399</td>\n",
       "    </tr>\n",
       "    <tr>\n",
       "      <th>1</th>\n",
       "      <td>Geox</td>\n",
       "      <td>Men Leather Formal Derbys</td>\n",
       "      <td>Rs. 5579</td>\n",
       "    </tr>\n",
       "    <tr>\n",
       "      <th>2</th>\n",
       "      <td>Geox</td>\n",
       "      <td>Men Formal Derbys</td>\n",
       "      <td>Rs. 8999</td>\n",
       "    </tr>\n",
       "    <tr>\n",
       "      <th>3</th>\n",
       "      <td>Cole Haan</td>\n",
       "      <td>Men Leather Formal Oxfords</td>\n",
       "      <td>Rs. 5399</td>\n",
       "    </tr>\n",
       "    <tr>\n",
       "      <th>4</th>\n",
       "      <td>UNDER ARMOUR</td>\n",
       "      <td>Men Textured Leather Driving Shoes</td>\n",
       "      <td>Rs. 9599</td>\n",
       "    </tr>\n",
       "    <tr>\n",
       "      <th>...</th>\n",
       "      <td>...</td>\n",
       "      <td>...</td>\n",
       "      <td>...</td>\n",
       "    </tr>\n",
       "    <tr>\n",
       "      <th>95</th>\n",
       "      <td>Geox</td>\n",
       "      <td>Women Sneakers</td>\n",
       "      <td>Rs. 6999</td>\n",
       "    </tr>\n",
       "    <tr>\n",
       "      <th>96</th>\n",
       "      <td>Geox</td>\n",
       "      <td>Women Solid Leather Loafers</td>\n",
       "      <td>Rs. 6299</td>\n",
       "    </tr>\n",
       "    <tr>\n",
       "      <th>97</th>\n",
       "      <td>Cole Haan</td>\n",
       "      <td>Solid Leather Wedges</td>\n",
       "      <td>Rs. 6999</td>\n",
       "    </tr>\n",
       "    <tr>\n",
       "      <th>98</th>\n",
       "      <td>Geox</td>\n",
       "      <td>Women Leather Heels</td>\n",
       "      <td>Rs. 5599</td>\n",
       "    </tr>\n",
       "    <tr>\n",
       "      <th>99</th>\n",
       "      <td>Geox</td>\n",
       "      <td>Women Leather Block Heels</td>\n",
       "      <td>Rs. 5525</td>\n",
       "    </tr>\n",
       "  </tbody>\n",
       "</table>\n",
       "<p>100 rows × 3 columns</p>\n",
       "</div>"
      ],
      "text/plain": [
       "           Brand                   Short_description     price\n",
       "0           Geox                     Unisex Sneakers  Rs. 5399\n",
       "1           Geox           Men Leather Formal Derbys  Rs. 5579\n",
       "2           Geox                   Men Formal Derbys  Rs. 8999\n",
       "3      Cole Haan          Men Leather Formal Oxfords  Rs. 5399\n",
       "4   UNDER ARMOUR  Men Textured Leather Driving Shoes  Rs. 9599\n",
       "..           ...                                 ...       ...\n",
       "95          Geox                      Women Sneakers  Rs. 6999\n",
       "96          Geox         Women Solid Leather Loafers  Rs. 6299\n",
       "97     Cole Haan                Solid Leather Wedges  Rs. 6999\n",
       "98          Geox                 Women Leather Heels  Rs. 5599\n",
       "99          Geox           Women Leather Block Heels  Rs. 5525\n",
       "\n",
       "[100 rows x 3 columns]"
      ]
     },
     "execution_count": 21,
     "metadata": {},
     "output_type": "execute_result"
    }
   ],
   "source": [
    "Sneaker9=pd.DataFrame({})\n",
    "Sneaker9['Brand']=Final_Brand9\n",
    "Sneaker9['Short_description']=Final_Short_Shoe_description9\n",
    "Sneaker9['price']=Final_price_sneaker9_\n",
    "Sneaker9"
   ]
  },
  {
   "cell_type": "markdown",
   "metadata": {},
   "source": [
    "### Q10: Go to webpage https://www.amazon.in/\n",
    "Enter “Laptop” in the search field and then click the search icon. Then set CPU Type filter to “Intel Core i7” and “Intel Core i9” as shown in the below image:"
   ]
  },
  {
   "cell_type": "code",
   "execution_count": 13,
   "metadata": {},
   "outputs": [],
   "source": [
    " #Get Url first for searching sneaker\n",
    "url10='https://www.amazon.in/'\n",
    "driver.get(url10)"
   ]
  },
  {
   "cell_type": "code",
   "execution_count": 14,
   "metadata": {},
   "outputs": [],
   "source": [
    "# search laptop\n",
    "search_laptop=driver.find_element_by_xpath('/html/body/div[1]/header/div/div[1]/div[2]/div/form/div[2]/div[1]/input')"
   ]
  },
  {
   "cell_type": "code",
   "execution_count": 15,
   "metadata": {},
   "outputs": [],
   "source": [
    "search_laptop.send_keys('laptop')"
   ]
  },
  {
   "cell_type": "code",
   "execution_count": 16,
   "metadata": {},
   "outputs": [],
   "source": [
    "search_button=driver.find_element_by_xpath('/html/body/div[1]/header/div/div[1]/div[2]/div/form/div[3]/div/span/input')\n",
    "search_button.click()"
   ]
  },
  {
   "cell_type": "code",
   "execution_count": 18,
   "metadata": {},
   "outputs": [],
   "source": [
    "# apply filter Intel Core i7” and “Intel Core i9”\n",
    "CPU_filter=driver.find_element_by_xpath('/html/body/div[1]/div[2]/div[1]/div/div[2]/div/div[3]/span/div[1]/span/div/div/div[6]/ul[1]/li[26]/span/a/span')\n",
    "CPU_filter.click()"
   ]
  },
  {
   "cell_type": "code",
   "execution_count": 19,
   "metadata": {},
   "outputs": [],
   "source": [
    "CPU_filter1=driver.find_element_by_xpath('/html/body/div[1]/div[2]/div[1]/div/div[2]/div/div[3]/span/div[1]/span/div/div/div[6]/ul[1]/li[28]/span/a/span')\n",
    "CPU_filter1.click()"
   ]
  },
  {
   "cell_type": "code",
   "execution_count": 20,
   "metadata": {},
   "outputs": [
    {
     "data": {
      "text/plain": [
       "['https://www.amazon.in/gp/slredirect/picassoRedirect.html/ref=pa_sp_atf_computers_sr_pg1_1?ie=UTF8&adId=A10177402EY6V3DSAAEXB&url=%2FLenovo-Legion-Windows-Graphics-81YU002AIN%2Fdp%2FB08FJCRGPR%2Fref%3Dsr_1_1_sspa%3Fdchild%3D1%26keywords%3Dlaptop%26qid%3D1628841968%26refinements%3Dp_n_feature_thirteen_browse-bin%253A12598163031%257C16757432031%26rnid%3D12598141031%26s%3Dcomputers%26sr%3D1-1-spons%26psc%3D1&qualifier=1628841968&id=3493652302216561&widgetName=sp_atf',\n",
       " 'https://www.amazon.in/gp/slredirect/picassoRedirect.html/ref=pa_sp_atf_computers_sr_pg1_1?ie=UTF8&adId=A05737051OF0H1VKX0MNY&url=%2FASUS-TUF-F15-i7-11370H-FX516PE-HN088TS%2Fdp%2FB094RDLV5P%2Fref%3Dsr_1_2_sspa%3Fdchild%3D1%26keywords%3Dlaptop%26qid%3D1628841968%26refinements%3Dp_n_feature_thirteen_browse-bin%253A12598163031%257C16757432031%26rnid%3D12598141031%26s%3Dcomputers%26sr%3D1-2-spons%26psc%3D1&qualifier=1628841968&id=3493652302216561&widgetName=sp_atf',\n",
       " 'https://www.amazon.in/MSI-i7-10750H-IPS-Level-Windows-10SDR-1280IN/dp/B093L8JCZV/ref=sr_1_3?dchild=1&keywords=laptop&qid=1628841968&refinements=p_n_feature_thirteen_browse-bin%3A12598163031%7C16757432031&rnid=12598141031&s=computers&sr=1-3',\n",
       " 'https://www.amazon.in/HP-Pavilion-Graphics-35-56cms-14-dv0058TU/dp/B08WB857GB/ref=sr_1_4?dchild=1&keywords=laptop&qid=1628841968&refinements=p_n_feature_thirteen_browse-bin%3A12598163031%7C16757432031&rnid=12598141031&s=computers&sr=1-4',\n",
       " 'https://www.amazon.in/Notebook-Horizon-i7-10510U-Graphics-XMA1904-AF/dp/B089F2W1KW/ref=sr_1_5?dchild=1&keywords=laptop&qid=1628841968&refinements=p_n_feature_thirteen_browse-bin%3A12598163031%7C16757432031&rnid=12598141031&s=computers&sr=1-5',\n",
       " 'https://www.amazon.in/ASUS-15-6-inch-i7-10870H-SSDWindows-FX566LH-HN255T/dp/B096VKVFCN/ref=sr_1_6?dchild=1&keywords=laptop&qid=1628841968&refinements=p_n_feature_thirteen_browse-bin%3A12598163031%7C16757432031&rnid=12598141031&s=computers&sr=1-6',\n",
       " 'https://www.amazon.in/HP-Processor-13-3-inch-Touchscreen-13-ba1018TX/dp/B091FJ13Q5/ref=sr_1_7?dchild=1&keywords=laptop&qid=1628841968&refinements=p_n_feature_thirteen_browse-bin%3A12598163031%7C16757432031&rnid=12598141031&s=computers&sr=1-7',\n",
       " 'https://www.amazon.in/MSI-i7-10750H-IPS-Level-Windows-10SCXR-654IN/dp/B093L8QGL7/ref=sr_1_8?dchild=1&keywords=laptop&qid=1628841968&refinements=p_n_feature_thirteen_browse-bin%3A12598163031%7C16757432031&rnid=12598141031&s=computers&sr=1-8',\n",
       " 'https://www.amazon.in/Dell-i7-1165G7-Inspiron-5410-D560469WIN9S/dp/B095S9NJ4S/ref=sr_1_9?dchild=1&keywords=laptop&qid=1628841968&refinements=p_n_feature_thirteen_browse-bin%3A12598163031%7C16757432031&rnid=12598141031&s=computers&sr=1-9',\n",
       " 'https://www.amazon.in/LifeDigital-Laptop-Intel%C2%AE-Storage-Windows/dp/B08HRMHZ8J/ref=sr_1_10?dchild=1&keywords=laptop&qid=1628841968&refinements=p_n_feature_thirteen_browse-bin%3A12598163031%7C16757432031&rnid=12598141031&s=computers&sr=1-10',\n",
       " 'https://www.amazon.in/ASUS-TUF-F15-i7-11370H-FX516PE-HN088TS/dp/B094RDLV5P/ref=sr_1_11?dchild=1&keywords=laptop&qid=1628841968&refinements=p_n_feature_thirteen_browse-bin%3A12598163031%7C16757432031&rnid=12598141031&s=computers&sr=1-11',\n",
       " 'https://www.amazon.in/Lenovo-i7-10750H-39-63cm-Windows-82AU00PNIN/dp/B097TY6PTN/ref=sr_1_12?dchild=1&keywords=laptop&qid=1628841968&refinements=p_n_feature_thirteen_browse-bin%3A12598163031%7C16757432031&rnid=12598141031&s=computers&sr=1-12',\n",
       " 'https://www.amazon.in/Lenovo-IdeaPad-250Nits-Graphics-81Y4019EIN/dp/B097TZMG7R/ref=sr_1_13?dchild=1&keywords=laptop&qid=1628841968&refinements=p_n_feature_thirteen_browse-bin%3A12598163031%7C16757432031&rnid=12598141031&s=computers&sr=1-13',\n",
       " 'https://www.amazon.in/Dell-Latitude-E6440-Integrated-graphics/dp/B07VQJWDLR/ref=sr_1_14?dchild=1&keywords=laptop&qid=1628841968&refinements=p_n_feature_thirteen_browse-bin%3A12598163031%7C16757432031&rnid=12598141031&s=computers&sr=1-14',\n",
       " 'https://www.amazon.in/gp/slredirect/picassoRedirect.html/ref=pa_sp_mtf_computers_sr_pg1_1?ie=UTF8&adId=A01873941F8L58TTU5OT6&url=%2FMSI-i7-10750H-IPS-Level-Windows-10SDR-1280IN%2Fdp%2FB093L8JCZV%2Fref%3Dsr_1_15_sspa%3Fdchild%3D1%26keywords%3Dlaptop%26qid%3D1628841968%26refinements%3Dp_n_feature_thirteen_browse-bin%253A12598163031%257C16757432031%26rnid%3D12598141031%26s%3Dcomputers%26sr%3D1-15-spons%26psc%3D1&qualifier=1628841968&id=3493652302216561&widgetName=sp_mtf',\n",
       " 'https://www.amazon.in/gp/slredirect/picassoRedirect.html/ref=pa_sp_mtf_computers_sr_pg1_1?ie=UTF8&adId=A10081262K6KZOZ37JXYV&url=%2FHP-Processor-13-3-inch-Touchscreen-13-ba1018TX%2Fdp%2FB091FJ13Q5%2Fref%3Dsr_1_16_sspa%3Fdchild%3D1%26keywords%3Dlaptop%26qid%3D1628841968%26refinements%3Dp_n_feature_thirteen_browse-bin%253A12598163031%257C16757432031%26rnid%3D12598141031%26s%3Dcomputers%26sr%3D1-16-spons%26psc%3D1&qualifier=1628841968&id=3493652302216561&widgetName=sp_mtf',\n",
       " 'https://www.amazon.in/CERTIFIED-REFURBISHED-Microsoft-Integrated-Graphics/dp/B07J2LNSXC/ref=sr_1_17?dchild=1&keywords=laptop&qid=1628841968&refinements=p_n_feature_thirteen_browse-bin%3A12598163031%7C16757432031&rnid=12598141031&s=computers&sr=1-17',\n",
       " 'https://www.amazon.in/ASUS-VivoBook-S532EQ-BQ702TS-I7-1165G7-SILVER/dp/B08PZ3VRCS/ref=sr_1_18?dchild=1&keywords=laptop&qid=1628841968&refinements=p_n_feature_thirteen_browse-bin%3A12598163031%7C16757432031&rnid=12598141031&s=computers&sr=1-18',\n",
       " 'https://www.amazon.in/Dell-Inspiron-Display-i7-1165G7-D560377WIN9S/dp/B08QN2PYWF/ref=sr_1_19?dchild=1&keywords=laptop&qid=1628841968&refinements=p_n_feature_thirteen_browse-bin%3A12598163031%7C16757432031&rnid=12598141031&s=computers&sr=1-19',\n",
       " 'https://www.amazon.in/Lenovo-Touchscreen-Fingerprint-Graphite-82HS0092IN/dp/B08WRZQBQ6/ref=sr_1_20?dchild=1&keywords=laptop&qid=1628841968&refinements=p_n_feature_thirteen_browse-bin%3A12598163031%7C16757432031&rnid=12598141031&s=computers&sr=1-20',\n",
       " 'https://www.amazon.in/ASUS-VivoBook-i7-1165G7-Graphics-S433EA-AM701TS/dp/B08PQTZB3Z/ref=sr_1_21?dchild=1&keywords=laptop&qid=1628841968&refinements=p_n_feature_thirteen_browse-bin%3A12598163031%7C16757432031&rnid=12598141031&s=computers&sr=1-21',\n",
       " 'https://www.amazon.in/Lenovo-ThinkPad-X1-Integrated-Graphics/dp/B0827XT57Z/ref=sr_1_22?dchild=1&keywords=laptop&qid=1628841968&refinements=p_n_feature_thirteen_browse-bin%3A12598163031%7C16757432031&rnid=12598141031&s=computers&sr=1-22',\n",
       " 'https://www.amazon.in/Lenovo-Touch-Screen-Laptop-Thunderbolt-Windows/dp/B07SWJV6D4/ref=sr_1_23?dchild=1&keywords=laptop&qid=1628841968&refinements=p_n_feature_thirteen_browse-bin%3A12598163031%7C16757432031&rnid=12598141031&s=computers&sr=1-23',\n",
       " 'https://www.amazon.in/Acer-Predator-Generation-Graphics-PH315-53/dp/B096K1KSHH/ref=sr_1_24?dchild=1&keywords=laptop&qid=1628841968&refinements=p_n_feature_thirteen_browse-bin%3A12598163031%7C16757432031&rnid=12598141031&s=computers&sr=1-24',\n",
       " 'https://www.amazon.in/Samsung-Display-Processor-Bluetooth-Enabled-NP930QCG-K01US/dp/B085D2HHBT/ref=sr_1_25?dchild=1&keywords=laptop&qid=1628841968&refinements=p_n_feature_thirteen_browse-bin%3A12598163031%7C16757432031&rnid=12598141031&s=computers&sr=1-25',\n",
       " 'https://www.amazon.in/HP-17-inch-GeForce-Storage-Windows/dp/B087Z21FXV/ref=sr_1_26?dchild=1&keywords=laptop&qid=1628841968&refinements=p_n_feature_thirteen_browse-bin%3A12598163031%7C16757432031&rnid=12598141031&s=computers&sr=1-26',\n",
       " 'https://www.amazon.in/Renewed-Lenovo-Windows-graphics-ThinkPad/dp/B09B546HS2/ref=sr_1_27?dchild=1&keywords=laptop&qid=1628841968&refinements=p_n_feature_thirteen_browse-bin%3A12598163031%7C16757432031&rnid=12598141031&s=computers&sr=1-27',\n",
       " 'https://www.amazon.in/Renewed-Digital-Laptop-15-6-inch-Windows/dp/B095224LRK/ref=sr_1_28?dchild=1&keywords=laptop&qid=1628841968&refinements=p_n_feature_thirteen_browse-bin%3A12598163031%7C16757432031&rnid=12598141031&s=computers&sr=1-28',\n",
       " 'https://www.amazon.in/gp/slredirect/picassoRedirect.html/ref=pa_sp_btf_computers_sr_pg1_1?ie=UTF8&adId=A0870125WC700WBB6DFH&url=%2FLenovo-Touchscreen-Fingerprint-Aluminium-82BH004HIN%2Fdp%2FB08P3M22QQ%2Fref%3Dsr_1_29_sspa%3Fdchild%3D1%26keywords%3Dlaptop%26qid%3D1628841968%26refinements%3Dp_n_feature_thirteen_browse-bin%253A12598163031%257C16757432031%26rnid%3D12598141031%26s%3Dcomputers%26sr%3D1-29-spons%26psc%3D1&qualifier=1628841968&id=3493652302216561&widgetName=sp_btf',\n",
       " 'https://www.amazon.in/gp/slredirect/picassoRedirect.html/ref=pa_sp_btf_computers_sr_pg1_1?ie=UTF8&adId=A00766773MSMG2AO2CGIQ&url=%2FAcer-Swift-Display-Touchscreen-Notebook%2Fdp%2FB08M41DHTV%2Fref%3Dsr_1_30_sspa%3Fdchild%3D1%26keywords%3Dlaptop%26qid%3D1628841968%26refinements%3Dp_n_feature_thirteen_browse-bin%253A12598163031%257C16757432031%26rnid%3D12598141031%26s%3Dcomputers%26sr%3D1-30-spons%26psc%3D1&qualifier=1628841968&id=3493652302216561&widgetName=sp_btf']"
      ]
     },
     "execution_count": 20,
     "metadata": {},
     "output_type": "execute_result"
    }
   ],
   "source": [
    "url10=[]\n",
    "for i in driver.find_elements_by_xpath(\"//h2[@class='a-size-mini a-spacing-none a-color-base s-line-clamp-2']//a\"):\n",
    "    url10.append(i.get_attribute('href'))\n",
    "url10"
   ]
  },
  {
   "cell_type": "code",
   "execution_count": 22,
   "metadata": {},
   "outputs": [],
   "source": [
    "Title_laptop2=[]\n",
    "price_laptop2=[]\n",
    "Rating_laptop2=[]\n",
    "\n",
    "for i in url10[:10]:\n",
    "    driver.get(i)\n",
    "    time.sleep(3)\n",
    "    # fetch Title_laptop\n",
    "    try:\n",
    "        Title_laptop=driver.find_element_by_xpath(\"//h1[@class='a-size-large a-spacing-none']\")\n",
    "        Title_laptop2.append(Title_laptop.text.replace(\"\\n\",\"newline\"))\n",
    "    except:\n",
    "        Title_laptop2.append('--')\n",
    "   ## fetch price_laptop \n",
    "    try:\n",
    "        price_laptop=driver.find_element_by_xpath(\"//span[@class='a-size-medium a-color-price priceBlockBuyingPriceString']\")\n",
    "        price_laptop2.append(price_laptop.text.replace(\"\\n\",\"newline\"))\n",
    "    except:\n",
    "        price_laptop2.append('--')\n",
    "    # fetch Rating_laptop\n",
    "    try:\n",
    "        Rating_laptop=driver.find_element_by_xpath(\"//span[@class='a-size-base a-nowrap']//span\")\n",
    "        Rating_laptop2.append( Rating_laptop.text.replace(\"\\n\",\"newline\"))\n",
    "    except:\n",
    "        Rating_laptop2.append('--')"
   ]
  },
  {
   "cell_type": "code",
   "execution_count": 23,
   "metadata": {},
   "outputs": [
    {
     "data": {
      "text/plain": [
       "['Lenovo Legion 7 10th Gen Intel Core i7 15.6 inch Full HD Gaming Laptop (16GB/1TB SSD/Windows 10/MS Office 2019/144 Hz/NVIDIA RTX 2080 8GB GDDR6 Graphics/Slate Grey/2.25Kg), 81YU002AIN',\n",
       " 'ASUS TUF Dash F15 (2021), 15.6\" (39.62 cms) FHD 144Hz, Intel Core i7-11370H 11th Gen, RTX 3050 Ti 4GB Graphics, Gaming Laptop (16GB/1TB SSD/Office 2019/Windows 10/Eclipse Gray/2 kg), FX516PE-HN088TS',\n",
       " 'MSI GF65 Thin, Intel i7-10750H, 15.6\" FHD (39.6 cm) IPS-Level 144Hz Panel Laptop (16GB/512GB NVMe SSD/Windows 10 Home/Nvidia GTX1660 Ti 6GB GDDR6/Black/1.86Kg), 10SDR-1280IN',\n",
       " 'HP Pavilion (2021) Thin & Light 11th Gen Core i7 Laptop, 16 GB RAM, 1TB SSD, Iris Xe Graphics, 14\" (35.56cms) FHD Screen, Windows 10, MS Office, Backlit Keyboard (14-dv0058TU)',\n",
       " 'Mi Notebook Horizon Edition 14 Intel Core i7-10510U 10th Gen 14-inch (35.56 cms) Thin and Light Laptop(8GB/512GB SSD/Windows 10/Nvidia MX350 2GB Graphics/Grey/1.35Kg), XMA1904-AF+Webcam',\n",
       " 'ASUS TUF Gaming F15 (2020), 15.6-inch (39.62 cms) FHD 144Hz, Intel Core i7-10870H 10th Gen, NVIDIA GeForce GTX 1650 4GB Graphics, Gaming Laptop(8GB/512GB SSDWindows 10/Gray/2.3 Kg), FX566LH-HN255T',\n",
       " 'HP Envy 11th Gen Core i7 Processor 13.3-inch (33.78 cms) FHD Touchscreen Laptop (16GB/1TB SSD/Win 10/NVIDIA MX450 2GB/Natural Silver/1.3 kg), 13-ba1018TX',\n",
       " 'MSI GF75 Thin, Intel i7-10750H, 17.3\" (43.9 cm) FHD IPS-Level 144Hz Panel Laptop (8GB/512GB NVMe SSD/Windows 10 Home/Nvidia GTX1650 4GB GDDR6/Black/2.2Kg), 10SCXR-654IN',\n",
       " 'Dell 14 (2021) i7-1165G7 2in1 Touch Screen Laptop, 16Gb RAM, 512Gb SSD, 14” (35.56 cms) FHD Display, Win 10 + MSO, Backlit KB + FPR + Active Pen, Silver Metal Color (Inspiron 5410, D560469WIN9S)',\n",
       " 'Life Digital Laptop 15.6-inch (39.62 cms) (Intel Core i7, 4GB RAM, 256GB SSD, Windows 10), ZED AIR CX7']"
      ]
     },
     "execution_count": 23,
     "metadata": {},
     "output_type": "execute_result"
    }
   ],
   "source": [
    "Title_laptop2"
   ]
  },
  {
   "cell_type": "code",
   "execution_count": 24,
   "metadata": {},
   "outputs": [
    {
     "data": {
      "text/plain": [
       "['₹1,80,990.00',\n",
       " '₹1,07,990.00',\n",
       " '₹81,990.00',\n",
       " '₹84,990.00',\n",
       " '--',\n",
       " '₹71,990.00',\n",
       " '₹1,09,990.00',\n",
       " '₹74,990.00',\n",
       " '--',\n",
       " '₹34,990.00']"
      ]
     },
     "execution_count": 24,
     "metadata": {},
     "output_type": "execute_result"
    }
   ],
   "source": [
    "price_laptop2"
   ]
  },
  {
   "cell_type": "code",
   "execution_count": 25,
   "metadata": {},
   "outputs": [
    {
     "data": {
      "text/html": [
       "<div>\n",
       "<style scoped>\n",
       "    .dataframe tbody tr th:only-of-type {\n",
       "        vertical-align: middle;\n",
       "    }\n",
       "\n",
       "    .dataframe tbody tr th {\n",
       "        vertical-align: top;\n",
       "    }\n",
       "\n",
       "    .dataframe thead th {\n",
       "        text-align: right;\n",
       "    }\n",
       "</style>\n",
       "<table border=\"1\" class=\"dataframe\">\n",
       "  <thead>\n",
       "    <tr style=\"text-align: right;\">\n",
       "      <th></th>\n",
       "      <th>Laptop Title</th>\n",
       "      <th>Price</th>\n",
       "      <th>Rating</th>\n",
       "    </tr>\n",
       "  </thead>\n",
       "  <tbody>\n",
       "    <tr>\n",
       "      <th>0</th>\n",
       "      <td>Lenovo Legion 7 10th Gen Intel Core i7 15.6 in...</td>\n",
       "      <td>₹1,80,990.00</td>\n",
       "      <td>2.9 out of 5</td>\n",
       "    </tr>\n",
       "    <tr>\n",
       "      <th>1</th>\n",
       "      <td>ASUS TUF Dash F15 (2021), 15.6\" (39.62 cms) FH...</td>\n",
       "      <td>₹1,07,990.00</td>\n",
       "      <td>4.5 out of 5</td>\n",
       "    </tr>\n",
       "    <tr>\n",
       "      <th>2</th>\n",
       "      <td>MSI GF65 Thin, Intel i7-10750H, 15.6\" FHD (39....</td>\n",
       "      <td>₹81,990.00</td>\n",
       "      <td>3.6 out of 5</td>\n",
       "    </tr>\n",
       "    <tr>\n",
       "      <th>3</th>\n",
       "      <td>HP Pavilion (2021) Thin &amp; Light 11th Gen Core ...</td>\n",
       "      <td>₹84,990.00</td>\n",
       "      <td>4.3 out of 5</td>\n",
       "    </tr>\n",
       "    <tr>\n",
       "      <th>4</th>\n",
       "      <td>Mi Notebook Horizon Edition 14 Intel Core i7-1...</td>\n",
       "      <td>--</td>\n",
       "      <td>4.4 out of 5</td>\n",
       "    </tr>\n",
       "    <tr>\n",
       "      <th>5</th>\n",
       "      <td>ASUS TUF Gaming F15 (2020), 15.6-inch (39.62 c...</td>\n",
       "      <td>₹71,990.00</td>\n",
       "      <td>4 out of 5</td>\n",
       "    </tr>\n",
       "    <tr>\n",
       "      <th>6</th>\n",
       "      <td>HP Envy 11th Gen Core i7 Processor 13.3-inch (...</td>\n",
       "      <td>₹1,09,990.00</td>\n",
       "      <td>4.1 out of 5</td>\n",
       "    </tr>\n",
       "    <tr>\n",
       "      <th>7</th>\n",
       "      <td>MSI GF75 Thin, Intel i7-10750H, 17.3\" (43.9 cm...</td>\n",
       "      <td>₹74,990.00</td>\n",
       "      <td>4.6 out of 5</td>\n",
       "    </tr>\n",
       "    <tr>\n",
       "      <th>8</th>\n",
       "      <td>Dell 14 (2021) i7-1165G7 2in1 Touch Screen Lap...</td>\n",
       "      <td>--</td>\n",
       "      <td>4.1 out of 5</td>\n",
       "    </tr>\n",
       "    <tr>\n",
       "      <th>9</th>\n",
       "      <td>Life Digital Laptop 15.6-inch (39.62 cms) (Int...</td>\n",
       "      <td>₹34,990.00</td>\n",
       "      <td>3.8 out of 5</td>\n",
       "    </tr>\n",
       "  </tbody>\n",
       "</table>\n",
       "</div>"
      ],
      "text/plain": [
       "                                        Laptop Title         Price  \\\n",
       "0  Lenovo Legion 7 10th Gen Intel Core i7 15.6 in...  ₹1,80,990.00   \n",
       "1  ASUS TUF Dash F15 (2021), 15.6\" (39.62 cms) FH...  ₹1,07,990.00   \n",
       "2  MSI GF65 Thin, Intel i7-10750H, 15.6\" FHD (39....    ₹81,990.00   \n",
       "3  HP Pavilion (2021) Thin & Light 11th Gen Core ...    ₹84,990.00   \n",
       "4  Mi Notebook Horizon Edition 14 Intel Core i7-1...            --   \n",
       "5  ASUS TUF Gaming F15 (2020), 15.6-inch (39.62 c...    ₹71,990.00   \n",
       "6  HP Envy 11th Gen Core i7 Processor 13.3-inch (...  ₹1,09,990.00   \n",
       "7  MSI GF75 Thin, Intel i7-10750H, 17.3\" (43.9 cm...    ₹74,990.00   \n",
       "8  Dell 14 (2021) i7-1165G7 2in1 Touch Screen Lap...            --   \n",
       "9  Life Digital Laptop 15.6-inch (39.62 cms) (Int...    ₹34,990.00   \n",
       "\n",
       "         Rating  \n",
       "0  2.9 out of 5  \n",
       "1  4.5 out of 5  \n",
       "2  3.6 out of 5  \n",
       "3  4.3 out of 5  \n",
       "4  4.4 out of 5  \n",
       "5    4 out of 5  \n",
       "6  4.1 out of 5  \n",
       "7  4.6 out of 5  \n",
       "8  4.1 out of 5  \n",
       "9  3.8 out of 5  "
      ]
     },
     "execution_count": 25,
     "metadata": {},
     "output_type": "execute_result"
    }
   ],
   "source": [
    "# create dataframe for above scraped data\n",
    "Laptop=pd.DataFrame({})\n",
    "Laptop['Laptop Title']=Title_laptop2\n",
    "Laptop['Price']=price_laptop2\n",
    "Laptop['Rating']=Rating_laptop2\n",
    "Laptop"
   ]
  }
 ],
 "metadata": {
  "kernelspec": {
   "display_name": "Python 3",
   "language": "python",
   "name": "python3"
  },
  "language_info": {
   "codemirror_mode": {
    "name": "ipython",
    "version": 3
   },
   "file_extension": ".py",
   "mimetype": "text/x-python",
   "name": "python",
   "nbconvert_exporter": "python",
   "pygments_lexer": "ipython3",
   "version": "3.8.5"
  }
 },
 "nbformat": 4,
 "nbformat_minor": 4
}
